{
 "cells": [
  {
   "cell_type": "code",
   "execution_count": 15,
   "id": "9abcb324",
   "metadata": {},
   "outputs": [
    {
     "data": {
      "text/plain": [
       "7.189242839813232"
      ]
     },
     "execution_count": 15,
     "metadata": {},
     "output_type": "execute_result"
    }
   ],
   "source": [
    "# importei a blibioteca de tempo\n",
    "import time\n",
    "inicio = time.time() #tempo atual\n",
    "lista1 = range(10000000)\n",
    "lista2 = range(10000000)\n",
    "lista3 = []\n",
    "for i in range(len(lista1)):\n",
    "    lista3.append(lista1[i] + lista2[i])\n",
    "tempo_gasto = time.time() - inicio\n",
    "tempo_gasto"
   ]
  },
  {
   "cell_type": "code",
   "execution_count": 20,
   "id": "def24295",
   "metadata": {},
   "outputs": [
    {
     "data": {
      "text/plain": [
       "0.19146180152893066"
      ]
     },
     "execution_count": 20,
     "metadata": {},
     "output_type": "execute_result"
    }
   ],
   "source": [
    "import numpy as np\n",
    "inicio = time.time()\n",
    "lista1 = np.arange(10000000)\n",
    "lista2 = np.arange(10000000)\n",
    "lista3 = lista1 + lista2\n",
    "tempo_gasto = time.time() - inicio\n",
    "tempo_gasto"
   ]
  },
  {
   "cell_type": "markdown",
   "id": "d5ca803e",
   "metadata": {},
   "source": [
    "# Exemplos de uso numpy"
   ]
  },
  {
   "cell_type": "code",
   "execution_count": null,
   "id": "36de8a61",
   "metadata": {},
   "outputs": [],
   "source": [
    "import numpy as np"
   ]
  },
  {
   "cell_type": "code",
   "execution_count": 21,
   "id": "8cbac27b",
   "metadata": {},
   "outputs": [
    {
     "data": {
      "text/plain": [
       "array([0, 1, 2, 3, 4])"
      ]
     },
     "execution_count": 21,
     "metadata": {},
     "output_type": "execute_result"
    }
   ],
   "source": [
    "lista = np.arange(5)\n",
    "lista"
   ]
  },
  {
   "cell_type": "code",
   "execution_count": 22,
   "id": "c60ed997",
   "metadata": {},
   "outputs": [
    {
     "data": {
      "text/plain": [
       "array([1, 2, 3, 4, 5])"
      ]
     },
     "execution_count": 22,
     "metadata": {},
     "output_type": "execute_result"
    }
   ],
   "source": [
    "import numpy as np\n",
    "lista = np.arange(1,6)\n",
    "lista"
   ]
  },
  {
   "cell_type": "code",
   "execution_count": 24,
   "id": "b03b6bea",
   "metadata": {},
   "outputs": [
    {
     "data": {
      "text/plain": [
       "array([1, 3, 5, 7, 9])"
      ]
     },
     "execution_count": 24,
     "metadata": {},
     "output_type": "execute_result"
    }
   ],
   "source": [
    "lista = np.arange(1,10,2)\n",
    "lista"
   ]
  },
  {
   "cell_type": "code",
   "execution_count": 26,
   "id": "4a5fb4fb",
   "metadata": {},
   "outputs": [
    {
     "data": {
      "text/plain": [
       "array([10,  9,  8,  7,  6,  5,  4,  3,  2,  1])"
      ]
     },
     "execution_count": 26,
     "metadata": {},
     "output_type": "execute_result"
    }
   ],
   "source": [
    "lista = np.arange(10,0,-1)\n",
    "lista"
   ]
  },
  {
   "cell_type": "code",
   "execution_count": 27,
   "id": "7e9bdbd2",
   "metadata": {},
   "outputs": [
    {
     "data": {
      "text/plain": [
       "array([0, 2, 4])"
      ]
     },
     "execution_count": 27,
     "metadata": {},
     "output_type": "execute_result"
    }
   ],
   "source": [
    "lista = np.arange(0,5,2)\n",
    "lista"
   ]
  },
  {
   "cell_type": "code",
   "execution_count": 31,
   "id": "c9a7aa50",
   "metadata": {},
   "outputs": [
    {
     "data": {
      "text/plain": [
       "array([0. , 0.1, 0.2, 0.3, 0.4, 0.5, 0.6, 0.7, 0.8, 0.9, 1. ])"
      ]
     },
     "execution_count": 31,
     "metadata": {},
     "output_type": "execute_result"
    }
   ],
   "source": [
    "lista = np.arange(0,1.1,0.1)\n",
    "lista"
   ]
  },
  {
   "cell_type": "markdown",
   "id": "4ecd3da3",
   "metadata": {},
   "source": [
    "# Outras aplicações com array de numpy"
   ]
  },
  {
   "cell_type": "code",
   "execution_count": 32,
   "id": "31f1c620",
   "metadata": {},
   "outputs": [
    {
     "data": {
      "text/plain": [
       "array([ 2,  5, 99])"
      ]
     },
     "execution_count": 32,
     "metadata": {},
     "output_type": "execute_result"
    }
   ],
   "source": [
    "lista = np.array([2,5,99])\n",
    "lista"
   ]
  },
  {
   "cell_type": "code",
   "execution_count": 80,
   "id": "93d9c304",
   "metadata": {},
   "outputs": [
    {
     "data": {
      "text/plain": [
       "array([[1, 2, 3],\n",
       "       [5, 4, 3],\n",
       "       [6, 7, 8]])"
      ]
     },
     "execution_count": 80,
     "metadata": {},
     "output_type": "execute_result"
    }
   ],
   "source": [
    "linha1 = [1,2,3]\n",
    "linha2 = [5,4,3]\n",
    "linha3 = [6,7,8]\n",
    "\n",
    "lista_bidimensional = np.array([linha1,linha2,linha3])\n",
    "lista_bidimensional"
   ]
  },
  {
   "cell_type": "code",
   "execution_count": 60,
   "id": "3fcccf2a",
   "metadata": {},
   "outputs": [
    {
     "data": {
      "text/plain": [
       "3"
      ]
     },
     "execution_count": 60,
     "metadata": {},
     "output_type": "execute_result"
    }
   ],
   "source": [
    "lista_bidimensional[0][2]"
   ]
  },
  {
   "cell_type": "code",
   "execution_count": 43,
   "id": "06022a40",
   "metadata": {},
   "outputs": [
    {
     "data": {
      "text/plain": [
       "array([[ 0,  1,  2,  3,  4],\n",
       "       [ 5,  6,  7,  8,  9],\n",
       "       [10, 11, 12, 13, 14]])"
      ]
     },
     "execution_count": 43,
     "metadata": {},
     "output_type": "execute_result"
    }
   ],
   "source": [
    "np.arange(15).reshape(3,5) #o rechape transformou o veror(15), em uma matriz (3,5)-[3 linhas e 5 colunas]"
   ]
  },
  {
   "cell_type": "code",
   "execution_count": 44,
   "id": "9a951e27",
   "metadata": {},
   "outputs": [
    {
     "data": {
      "text/plain": [
       "(3, 3)"
      ]
     },
     "execution_count": 44,
     "metadata": {},
     "output_type": "execute_result"
    }
   ],
   "source": [
    "lista_bidimensional.shape # quantidade de linhas e colunas"
   ]
  },
  {
   "cell_type": "code",
   "execution_count": 45,
   "id": "7412f5d6",
   "metadata": {},
   "outputs": [
    {
     "data": {
      "text/plain": [
       "'int32'"
      ]
     },
     "execution_count": 45,
     "metadata": {},
     "output_type": "execute_result"
    }
   ],
   "source": [
    "lista_bidimensional.dtype.name # Tipo dos elementos (são números inteiros e 32byte é a quantidade de memoria que é usado)"
   ]
  },
  {
   "cell_type": "code",
   "execution_count": 46,
   "id": "b574d730",
   "metadata": {},
   "outputs": [
    {
     "data": {
      "text/plain": [
       "9"
      ]
     },
     "execution_count": 46,
     "metadata": {},
     "output_type": "execute_result"
    }
   ],
   "source": [
    "lista_bidimensional.size # quantidade de elementos"
   ]
  },
  {
   "cell_type": "code",
   "execution_count": 62,
   "id": "b34796c6",
   "metadata": {},
   "outputs": [
    {
     "data": {
      "text/plain": [
       "array([ 2,  6, 10])"
      ]
     },
     "execution_count": 62,
     "metadata": {},
     "output_type": "execute_result"
    }
   ],
   "source": [
    "lista_depython = [1,5,9]\n",
    "#lista_de_python + 1 da errado\n",
    "lista_de_numpy = np.array([1,5,9])\n",
    "lista_de_numpy + 1"
   ]
  },
  {
   "cell_type": "code",
   "execution_count": 74,
   "id": "e0ca1b1c",
   "metadata": {},
   "outputs": [
    {
     "data": {
      "text/plain": [
       "array([[1, 2, 3],\n",
       "       [5, 4, 3],\n",
       "       [6, 7, 8]])"
      ]
     },
     "execution_count": 74,
     "metadata": {},
     "output_type": "execute_result"
    }
   ],
   "source": [
    "lista_bidimensional"
   ]
  },
  {
   "cell_type": "code",
   "execution_count": 81,
   "id": "65633c11",
   "metadata": {},
   "outputs": [],
   "source": [
    "lista_bidimensional[2][1] = lista_bidimensional[2][1] + 3 # cada vez executar, ele vai armazenar e somar +3"
   ]
  },
  {
   "cell_type": "code",
   "execution_count": 82,
   "id": "2d1403ac",
   "metadata": {},
   "outputs": [
    {
     "data": {
      "text/plain": [
       "array([[ 1,  2,  3],\n",
       "       [ 5,  4,  3],\n",
       "       [ 6, 10,  8]])"
      ]
     },
     "execution_count": 82,
     "metadata": {},
     "output_type": "execute_result"
    }
   ],
   "source": [
    "lista_bidimensional"
   ]
  },
  {
   "cell_type": "code",
   "execution_count": 89,
   "id": "84f1999c",
   "metadata": {},
   "outputs": [
    {
     "data": {
      "text/plain": [
       "array([[1, 1, 1],\n",
       "       [2, 2, 2],\n",
       "       [5, 5, 5]])"
      ]
     },
     "execution_count": 89,
     "metadata": {},
     "output_type": "execute_result"
    }
   ],
   "source": [
    "array2 = np.array([[1,1,1],[2,2,2],[5,5,5]]) # 2 conchetes é pq são 2 dimenções\n",
    "array2"
   ]
  },
  {
   "cell_type": "code",
   "execution_count": 90,
   "id": "b7565a7f",
   "metadata": {},
   "outputs": [
    {
     "data": {
      "text/plain": [
       "array([[ 2,  3,  4],\n",
       "       [ 7,  6,  5],\n",
       "       [11, 15, 13]])"
      ]
     },
     "execution_count": 90,
     "metadata": {},
     "output_type": "execute_result"
    }
   ],
   "source": [
    "array2 + lista_bidimensional  # somei 2 matrizes"
   ]
  },
  {
   "cell_type": "code",
   "execution_count": null,
   "id": "305aed80",
   "metadata": {},
   "outputs": [],
   "source": []
  }
 ],
 "metadata": {
  "kernelspec": {
   "display_name": "Python 3",
   "language": "python",
   "name": "python3"
  },
  "language_info": {
   "codemirror_mode": {
    "name": "ipython",
    "version": 3
   },
   "file_extension": ".py",
   "mimetype": "text/x-python",
   "name": "python",
   "nbconvert_exporter": "python",
   "pygments_lexer": "ipython3",
   "version": "3.8.8"
  }
 },
 "nbformat": 4,
 "nbformat_minor": 5
}
