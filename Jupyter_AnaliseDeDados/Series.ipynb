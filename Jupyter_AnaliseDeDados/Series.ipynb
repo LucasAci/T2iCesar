{
 "cells": [
  {
   "cell_type": "code",
   "execution_count": 1,
   "id": "b5e86264",
   "metadata": {},
   "outputs": [],
   "source": [
    "import pandas as pd\n",
    "import numpy as np"
   ]
  },
  {
   "cell_type": "code",
   "execution_count": 22,
   "id": "bd9f9357",
   "metadata": {},
   "outputs": [
    {
     "data": {
      "text/plain": [
       "0    1\n",
       "1    2\n",
       "2    3\n",
       "dtype: int64"
      ]
     },
     "execution_count": 22,
     "metadata": {},
     "output_type": "execute_result"
    }
   ],
   "source": [
    "notas = pd.Series([1,2,3])\n",
    "notas"
   ]
  },
  {
   "cell_type": "code",
   "execution_count": 23,
   "id": "dde58a02",
   "metadata": {},
   "outputs": [
    {
     "data": {
      "text/plain": [
       "array([1, 2, 3], dtype=int64)"
      ]
     },
     "execution_count": 23,
     "metadata": {},
     "output_type": "execute_result"
    }
   ],
   "source": [
    "notas.values "
   ]
  },
  {
   "cell_type": "code",
   "execution_count": 24,
   "id": "53b5bf23",
   "metadata": {},
   "outputs": [
    {
     "data": {
      "text/plain": [
       "RangeIndex(start=0, stop=3, step=1)"
      ]
     },
     "execution_count": 24,
     "metadata": {},
     "output_type": "execute_result"
    }
   ],
   "source": [
    "notas.index"
   ]
  },
  {
   "cell_type": "code",
   "execution_count": 32,
   "id": "15222aaa",
   "metadata": {},
   "outputs": [
    {
     "data": {
      "text/plain": [
       "joão     1\n",
       "maria    2\n",
       "Paulo    3\n",
       "dtype: int64"
      ]
     },
     "execution_count": 32,
     "metadata": {},
     "output_type": "execute_result"
    }
   ],
   "source": [
    "notas.index = [\"joão\", \"maria\", \"Paulo\"]\n",
    "notas"
   ]
  },
  {
   "cell_type": "code",
   "execution_count": 36,
   "id": "9e6d7a5b",
   "metadata": {},
   "outputs": [
    {
     "data": {
      "text/plain": [
       "joão     5\n",
       "maria    7\n",
       "paulo    3\n",
       "dtype: int64"
      ]
     },
     "execution_count": 36,
     "metadata": {},
     "output_type": "execute_result"
    }
   ],
   "source": [
    "notas = pd.Series([5,7,3], [\"joão\", \"maria\", \"paulo\"])\n",
    "notas"
   ]
  },
  {
   "cell_type": "code",
   "execution_count": 42,
   "id": "2d93ec42",
   "metadata": {},
   "outputs": [
    {
     "data": {
      "text/plain": [
       "joão      5\n",
       "paulo     7\n",
       "maria     3\n",
       "ana      10\n",
       "dtype: int64"
      ]
     },
     "execution_count": 42,
     "metadata": {},
     "output_type": "execute_result"
    }
   ],
   "source": [
    "notas = [5,7,3,10]\n",
    "nome_dos_alunos = [\"joão\", \"paulo\", \"maria\", \"ana\"]\n",
    "serie_de_notas = pd.Series(notas, nome_dos_alunos)\n",
    "serie_de_notas"
   ]
  },
  {
   "cell_type": "code",
   "execution_count": 41,
   "id": "29a4dfd4",
   "metadata": {},
   "outputs": [
    {
     "data": {
      "text/plain": [
       "7"
      ]
     },
     "execution_count": 41,
     "metadata": {},
     "output_type": "execute_result"
    }
   ],
   "source": [
    "serie_de_notas[\"paulo\"]"
   ]
  },
  {
   "cell_type": "code",
   "execution_count": 43,
   "id": "6a503457",
   "metadata": {},
   "outputs": [
    {
     "data": {
      "text/plain": [
       "maria     3\n",
       "joão      5\n",
       "paulo     7\n",
       "ana      10\n",
       "dtype: int64"
      ]
     },
     "execution_count": 43,
     "metadata": {},
     "output_type": "execute_result"
    }
   ],
   "source": [
    "serie_de_notas.sort_values()"
   ]
  },
  {
   "cell_type": "code",
   "execution_count": 44,
   "id": "7d1a4ad8",
   "metadata": {},
   "outputs": [
    {
     "data": {
      "text/plain": [
       "ana      10\n",
       "joão      5\n",
       "maria     3\n",
       "paulo     7\n",
       "dtype: int64"
      ]
     },
     "execution_count": 44,
     "metadata": {},
     "output_type": "execute_result"
    }
   ],
   "source": [
    "serie_de_notas.sort_index()"
   ]
  },
  {
   "cell_type": "code",
   "execution_count": 46,
   "id": "a28b6098",
   "metadata": {},
   "outputs": [
    {
     "name": "stdout",
     "output_type": "stream",
     "text": [
      "Média: 6.25\n",
      "Desvio padrão 2.9860788111948193\n"
     ]
    }
   ],
   "source": [
    "print(\"Média:\", serie_de_notas.mean())\n",
    "print(\"Desvio padrão\", serie_de_notas.std())"
   ]
  },
  {
   "cell_type": "code",
   "execution_count": 47,
   "id": "11d48598",
   "metadata": {},
   "outputs": [
    {
     "data": {
      "text/plain": [
       "count     4.000000\n",
       "mean      6.250000\n",
       "std       2.986079\n",
       "min       3.000000\n",
       "25%       4.500000\n",
       "50%       6.000000\n",
       "75%       7.750000\n",
       "max      10.000000\n",
       "dtype: float64"
      ]
     },
     "execution_count": 47,
     "metadata": {},
     "output_type": "execute_result"
    }
   ],
   "source": [
    "serie_de_notas.describe()"
   ]
  },
  {
   "cell_type": "code",
   "execution_count": 53,
   "id": "91cab0ff",
   "metadata": {},
   "outputs": [
    {
     "data": {
      "text/plain": [
       "joão      5\n",
       "paulo     7\n",
       "maria     3\n",
       "ana      10\n",
       "dtype: int64"
      ]
     },
     "execution_count": 53,
     "metadata": {},
     "output_type": "execute_result"
    }
   ],
   "source": [
    "serie_de_notas + 1\n",
    "if (serie_de_notas[\"ana\"] > 10):\n",
    "    serie_de_notas[\"ana\"] = 10\n",
    "serie_de_notas"
   ]
  },
  {
   "cell_type": "code",
   "execution_count": 54,
   "id": "e9b03e49",
   "metadata": {},
   "outputs": [
    {
     "data": {
      "text/plain": [
       "joão      5\n",
       "paulo     7\n",
       "maria     3\n",
       "ana      14\n",
       "dtype: int64"
      ]
     },
     "execution_count": 54,
     "metadata": {},
     "output_type": "execute_result"
    }
   ],
   "source": [
    "serie_de_notas[\"ana\"] = serie_de_notas[\"ana\"] + 4\n",
    "serie_de_notas"
   ]
  },
  {
   "cell_type": "code",
   "execution_count": null,
   "id": "2bd0113c",
   "metadata": {},
   "outputs": [],
   "source": []
  }
 ],
 "metadata": {
  "kernelspec": {
   "display_name": "Python 3",
   "language": "python",
   "name": "python3"
  },
  "language_info": {
   "codemirror_mode": {
    "name": "ipython",
    "version": 3
   },
   "file_extension": ".py",
   "mimetype": "text/x-python",
   "name": "python",
   "nbconvert_exporter": "python",
   "pygments_lexer": "ipython3",
   "version": "3.8.8"
  }
 },
 "nbformat": 4,
 "nbformat_minor": 5
}
