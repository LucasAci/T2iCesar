{
 "cells": [
  {
   "cell_type": "raw",
   "id": "466480b8",
   "metadata": {},
   "source": [
    "1. Atribua a planilha para a variável acidentes\n",
    "2. Extraia a proporção dos acidentes em relação ao tipo de ocorrência\n",
    "3. Observe que há tipo de ocorrências que estão escritas erradas. Agrupe os valores. No fim, serão 12 tipos de ocorrências.\n",
    "4. Apresente um gráfico de barras contendo as informações acima\n",
    "5. Apresente um gráfico de pizza que mostre a porcentagem da proporção de acidentes por tipo de ocorrência apenas para os tipos de ocorrência que se repetiram 30 vezes ou mais. Na legenda deve estar o tipo de ocorrência. (Não se preocupar com textos sobrescritos)\n"
   ]
  },
  {
   "cell_type": "code",
   "execution_count": 1,
   "id": "7ec34afa",
   "metadata": {},
   "outputs": [],
   "source": [
    "import pandas as pd\n",
    "import numpy as np"
   ]
  },
  {
   "cell_type": "code",
   "execution_count": 7,
   "id": "fccd403c",
   "metadata": {},
   "outputs": [
    {
     "data": {
      "text/html": [
       "<div>\n",
       "<style scoped>\n",
       "    .dataframe tbody tr th:only-of-type {\n",
       "        vertical-align: middle;\n",
       "    }\n",
       "\n",
       "    .dataframe tbody tr th {\n",
       "        vertical-align: top;\n",
       "    }\n",
       "\n",
       "    .dataframe thead th {\n",
       "        text-align: right;\n",
       "    }\n",
       "</style>\n",
       "<table border=\"1\" class=\"dataframe\">\n",
       "  <thead>\n",
       "    <tr style=\"text-align: right;\">\n",
       "      <th></th>\n",
       "      <th>longitude</th>\n",
       "      <th>latitude</th>\n",
       "      <th>data de abertura</th>\n",
       "      <th>hora de abertura</th>\n",
       "      <th>bairro</th>\n",
       "      <th>endereco</th>\n",
       "      <th>complemento</th>\n",
       "      <th>tipo de ocorrencia</th>\n",
       "      <th>quantidade de vitimas</th>\n",
       "      <th>descricao</th>\n",
       "      <th>tipo</th>\n",
       "    </tr>\n",
       "  </thead>\n",
       "  <tbody>\n",
       "    <tr>\n",
       "      <th>0</th>\n",
       "      <td>-34.905705</td>\n",
       "      <td>-8.037728</td>\n",
       "      <td>01/01/2016</td>\n",
       "      <td>18:30</td>\n",
       "      <td>JAQUEIRA</td>\n",
       "      <td>AV RUI BARBOSA</td>\n",
       "      <td>EM FRENTE AO PARQUE DA JAQUEIRA</td>\n",
       "      <td>COLISÃO</td>\n",
       "      <td>1</td>\n",
       "      <td>COLISÃO ENTRE QUATRO AUTO; SEGUINTE DE UM CAPO...</td>\n",
       "      <td>Automóveis</td>\n",
       "    </tr>\n",
       "    <tr>\n",
       "      <th>1</th>\n",
       "      <td>-34.938068</td>\n",
       "      <td>-8.131177</td>\n",
       "      <td>04/01/2016</td>\n",
       "      <td>16:05</td>\n",
       "      <td>JORDÃO</td>\n",
       "      <td>RUADRALVAROFERRAZ</td>\n",
       "      <td>TERMINALDOÔNIBUSDEJORDÃOBAIXO</td>\n",
       "      <td>COLISÃO</td>\n",
       "      <td>1</td>\n",
       "      <td>2AUTOS</td>\n",
       "      <td>Automóveis</td>\n",
       "    </tr>\n",
       "    <tr>\n",
       "      <th>2</th>\n",
       "      <td>-34.915617</td>\n",
       "      <td>-7.993612</td>\n",
       "      <td>06/01/2016</td>\n",
       "      <td>17:33</td>\n",
       "      <td>DOISUNIDOS</td>\n",
       "      <td>RUAVINTEEUMDEJUNHO343</td>\n",
       "      <td>PRÓXIMOAASSEMBLÉIADEDEUSEANTENADAOI</td>\n",
       "      <td>CHOQUE</td>\n",
       "      <td>1</td>\n",
       "      <td>CHOQUEDEVEÍCULOCOMMURO</td>\n",
       "      <td>Automóveis</td>\n",
       "    </tr>\n",
       "    <tr>\n",
       "      <th>3</th>\n",
       "      <td>-34.896884</td>\n",
       "      <td>-8.118186</td>\n",
       "      <td>07/01/2016</td>\n",
       "      <td>10:29</td>\n",
       "      <td>BOAVIAGEM</td>\n",
       "      <td>AVENGENHEIRODOMINGOSFERREIRA3333</td>\n",
       "      <td>EMFRENTEAGALERIASANTAROSA</td>\n",
       "      <td>COLISÃO</td>\n",
       "      <td>1</td>\n",
       "      <td>COLISÃOCOMVITIMA;ONIBUSEAUTO-PASSEIO</td>\n",
       "      <td>Automóveis</td>\n",
       "    </tr>\n",
       "    <tr>\n",
       "      <th>4</th>\n",
       "      <td>-34.910203</td>\n",
       "      <td>-8.098421</td>\n",
       "      <td>07/01/2016</td>\n",
       "      <td>13:53</td>\n",
       "      <td>IMBIRIBEIRA</td>\n",
       "      <td>AVMARECHALMASCARENHASDEMORAES</td>\n",
       "      <td>EMBAIXODOSEMAFORO288</td>\n",
       "      <td>COLISÃO</td>\n",
       "      <td>1</td>\n",
       "      <td>COLISAODEMOTOEDOISAUTOS/V</td>\n",
       "      <td>Automóveis</td>\n",
       "    </tr>\n",
       "    <tr>\n",
       "      <th>...</th>\n",
       "      <td>...</td>\n",
       "      <td>...</td>\n",
       "      <td>...</td>\n",
       "      <td>...</td>\n",
       "      <td>...</td>\n",
       "      <td>...</td>\n",
       "      <td>...</td>\n",
       "      <td>...</td>\n",
       "      <td>...</td>\n",
       "      <td>...</td>\n",
       "      <td>...</td>\n",
       "    </tr>\n",
       "    <tr>\n",
       "      <th>1226</th>\n",
       "      <td>-34.936695</td>\n",
       "      <td>-8.110046</td>\n",
       "      <td>26/07/2016</td>\n",
       "      <td>14:00</td>\n",
       "      <td>IBURA</td>\n",
       "      <td>ARRUDA</td>\n",
       "      <td>EM FRENTE A BOMBONIERE KMANIA</td>\n",
       "      <td>ATROPELAMENTO</td>\n",
       "      <td>1</td>\n",
       "      <td>ATROPELAMENTO COM VÍTIMA</td>\n",
       "      <td>Pedestre</td>\n",
       "    </tr>\n",
       "    <tr>\n",
       "      <th>1227</th>\n",
       "      <td>-34.889840</td>\n",
       "      <td>-8.066781</td>\n",
       "      <td>27/07/2016</td>\n",
       "      <td>17:02</td>\n",
       "      <td>COELHOS</td>\n",
       "      <td>ARRUDA</td>\n",
       "      <td>EM FRENTE DO HOSPITAL IMIP</td>\n",
       "      <td>ATROPELAMENTO</td>\n",
       "      <td>1</td>\n",
       "      <td>AUTO E PEDESTRE</td>\n",
       "      <td>Pedestre</td>\n",
       "    </tr>\n",
       "    <tr>\n",
       "      <th>1228</th>\n",
       "      <td>-34.885409</td>\n",
       "      <td>-8.072218</td>\n",
       "      <td>27/07/2016</td>\n",
       "      <td>18:27</td>\n",
       "      <td>SÃO JOSÉ</td>\n",
       "      <td>ARRUDA</td>\n",
       "      <td>AO LADO DA PRAÇA SERGIO LORETO</td>\n",
       "      <td>ATROPELAMENTO</td>\n",
       "      <td>1</td>\n",
       "      <td>ONIBUS METROPOLITANA E PEDESTRE</td>\n",
       "      <td>Pedestre</td>\n",
       "    </tr>\n",
       "    <tr>\n",
       "      <th>1229</th>\n",
       "      <td>-34.922117</td>\n",
       "      <td>-8.045218</td>\n",
       "      <td>28/07/2016</td>\n",
       "      <td>14:02</td>\n",
       "      <td>CORDEIRO</td>\n",
       "      <td>ARRUDA</td>\n",
       "      <td>PX AO GOE - POR TRAZ DO CORDEIRO</td>\n",
       "      <td>ATROPELAMENTO</td>\n",
       "      <td>1</td>\n",
       "      <td>ATROPELAMENTO DE ADOLECENTE</td>\n",
       "      <td>Pedestre</td>\n",
       "    </tr>\n",
       "    <tr>\n",
       "      <th>1230</th>\n",
       "      <td>-34.921846</td>\n",
       "      <td>-8.020731</td>\n",
       "      <td>31/07/2016</td>\n",
       "      <td>21:17</td>\n",
       "      <td>VASCO DA GAMA</td>\n",
       "      <td>ARRUDA</td>\n",
       "      <td>NA SAIDA DO VASCO DA GAMA</td>\n",
       "      <td>ATROPELAMENTO</td>\n",
       "      <td>1</td>\n",
       "      <td>ONIBUS E PEDESTRE</td>\n",
       "      <td>Pedestre</td>\n",
       "    </tr>\n",
       "  </tbody>\n",
       "</table>\n",
       "<p>1231 rows × 11 columns</p>\n",
       "</div>"
      ],
      "text/plain": [
       "      longitude  latitude data de abertura hora de abertura         bairro  \\\n",
       "0    -34.905705 -8.037728       01/01/2016            18:30       JAQUEIRA   \n",
       "1    -34.938068 -8.131177       04/01/2016            16:05         JORDÃO   \n",
       "2    -34.915617 -7.993612       06/01/2016            17:33     DOISUNIDOS   \n",
       "3    -34.896884 -8.118186       07/01/2016            10:29      BOAVIAGEM   \n",
       "4    -34.910203 -8.098421       07/01/2016            13:53    IMBIRIBEIRA   \n",
       "...         ...       ...              ...              ...            ...   \n",
       "1226 -34.936695 -8.110046       26/07/2016            14:00          IBURA   \n",
       "1227 -34.889840 -8.066781       27/07/2016            17:02        COELHOS   \n",
       "1228 -34.885409 -8.072218       27/07/2016            18:27       SÃO JOSÉ   \n",
       "1229 -34.922117 -8.045218       28/07/2016            14:02       CORDEIRO   \n",
       "1230 -34.921846 -8.020731       31/07/2016            21:17  VASCO DA GAMA   \n",
       "\n",
       "                              endereco                          complemento  \\\n",
       "0                       AV RUI BARBOSA      EM FRENTE AO PARQUE DA JAQUEIRA   \n",
       "1                    RUADRALVAROFERRAZ        TERMINALDOÔNIBUSDEJORDÃOBAIXO   \n",
       "2                RUAVINTEEUMDEJUNHO343  PRÓXIMOAASSEMBLÉIADEDEUSEANTENADAOI   \n",
       "3     AVENGENHEIRODOMINGOSFERREIRA3333            EMFRENTEAGALERIASANTAROSA   \n",
       "4        AVMARECHALMASCARENHASDEMORAES                 EMBAIXODOSEMAFORO288   \n",
       "...                                ...                                  ...   \n",
       "1226                            ARRUDA        EM FRENTE A BOMBONIERE KMANIA   \n",
       "1227                            ARRUDA           EM FRENTE DO HOSPITAL IMIP   \n",
       "1228                            ARRUDA       AO LADO DA PRAÇA SERGIO LORETO   \n",
       "1229                            ARRUDA     PX AO GOE - POR TRAZ DO CORDEIRO   \n",
       "1230                            ARRUDA            NA SAIDA DO VASCO DA GAMA   \n",
       "\n",
       "     tipo de ocorrencia quantidade de vitimas  \\\n",
       "0               COLISÃO                     1   \n",
       "1               COLISÃO                     1   \n",
       "2                CHOQUE                     1   \n",
       "3               COLISÃO                     1   \n",
       "4               COLISÃO                     1   \n",
       "...                 ...                   ...   \n",
       "1226      ATROPELAMENTO                     1   \n",
       "1227      ATROPELAMENTO                     1   \n",
       "1228      ATROPELAMENTO                     1   \n",
       "1229      ATROPELAMENTO                     1   \n",
       "1230      ATROPELAMENTO                     1   \n",
       "\n",
       "                                              descricao        tipo  \n",
       "0     COLISÃO ENTRE QUATRO AUTO; SEGUINTE DE UM CAPO...  Automóveis  \n",
       "1                                                2AUTOS  Automóveis  \n",
       "2                                CHOQUEDEVEÍCULOCOMMURO  Automóveis  \n",
       "3                  COLISÃOCOMVITIMA;ONIBUSEAUTO-PASSEIO  Automóveis  \n",
       "4                             COLISAODEMOTOEDOISAUTOS/V  Automóveis  \n",
       "...                                                 ...         ...  \n",
       "1226                           ATROPELAMENTO COM VÍTIMA    Pedestre  \n",
       "1227                                    AUTO E PEDESTRE    Pedestre  \n",
       "1228                    ONIBUS METROPOLITANA E PEDESTRE    Pedestre  \n",
       "1229                        ATROPELAMENTO DE ADOLECENTE    Pedestre  \n",
       "1230                                  ONIBUS E PEDESTRE    Pedestre  \n",
       "\n",
       "[1231 rows x 11 columns]"
      ]
     },
     "execution_count": 7,
     "metadata": {},
     "output_type": "execute_result"
    }
   ],
   "source": [
    "# 1. Atribua a planilha para a variável acidentes\n",
    "acidentes = pd.read_csv(\"acidentes-2016.csv\", sep=\";\")\n",
    "acidentes"
   ]
  },
  {
   "cell_type": "code",
   "execution_count": 14,
   "id": "13980f09",
   "metadata": {},
   "outputs": [
    {
     "data": {
      "text/plain": [
       "COLISÃO                   79.119086\n",
       "ATROPELAMENTO             11.990212\n",
       "COLISÃO COM CICLISTA       3.425775\n",
       "CHOQUE                     2.773246\n",
       "COLISÃOa                   0.652529\n",
       "CAPOTAMENTO                0.407830\n",
       "TOMBAMENTO                 0.326264\n",
       "ENGAVETAMENTO              0.326264\n",
       "ENTRADA E SAÍDA            0.326264\n",
       "COLISÃO\\t2016 13 050\\t     0.163132\n",
       "ACID. DE PERCURSO          0.163132\n",
       "FISCALIZAÇÃO               0.081566\n",
       "ATROPELAMENTOa             0.081566\n",
       "QUEDA DE ÁRVORE            0.081566\n",
       "ATROPELAMENTO ANIMAL       0.081566\n",
       "Name: tipo de ocorrencia, dtype: float64"
      ]
     },
     "execution_count": 14,
     "metadata": {},
     "output_type": "execute_result"
    }
   ],
   "source": [
    "# 2. Extraia a proporção dos acidentes em relação ao tipo de ocorrência\n",
    "acidentes[\"tipo de ocorrencia\"].value_counts(normalize=1)*100"
   ]
  },
  {
   "cell_type": "code",
   "execution_count": 15,
   "id": "6edc8c75",
   "metadata": {},
   "outputs": [
    {
     "data": {
      "text/plain": [
       "array(['COLISÃO', 'CHOQUE', 'COLISÃO COM CICLISTA', 'ATROPELAMENTO', nan,\n",
       "       'CAPOTAMENTO', 'ATROPELAMENTO ANIMAL', 'ENTRADA E SAÍDA',\n",
       "       'ENGAVETAMENTO', 'COLISÃOa', 'ACID. DE PERCURSO',\n",
       "       'QUEDA DE ÁRVORE', 'TOMBAMENTO', 'ATROPELAMENTOa',\n",
       "       'COLISÃO\\t2016 13 050\\t', 'FISCALIZAÇÃO'], dtype=object)"
      ]
     },
     "execution_count": 15,
     "metadata": {},
     "output_type": "execute_result"
    }
   ],
   "source": [
    "# 3. Observe que há tipo de ocorrências que estão escritas erradas. Agrupe os valores. No fim, serão 12 tipos de ocorrências.\n",
    "acidentes[\"tipo de ocorrencia\"].unique()"
   ]
  },
  {
   "cell_type": "code",
   "execution_count": 20,
   "id": "d845d396",
   "metadata": {},
   "outputs": [
    {
     "data": {
      "text/plain": [
       "array(['COLISÃO', 'CHOQUE', 'COLISÃO COM CICLISTA', 'ATROPELAMENTO', nan,\n",
       "       'CAPOTAMENTO', 'ATROPELAMENTO ANIMAL', 'ENTRADA E SAÍDA',\n",
       "       'ENGAVETAMENTO', 'ACID. DE PERCURSO', 'QUEDA DE ÁRVORE',\n",
       "       'TOMBAMENTO', 'FISCALIZAÇÃO'], dtype=object)"
      ]
     },
     "execution_count": 20,
     "metadata": {},
     "output_type": "execute_result"
    }
   ],
   "source": [
    "acidentes[\"tipo de ocorrencia\"] = acidentes[\"tipo de ocorrencia\"].str.replace(\"COLISÃOa\", \"COLISÃO\")\n",
    "acidentes[\"tipo de ocorrencia\"] = acidentes[\"tipo de ocorrencia\"].str.replace(\"COLISÃO\\t2016 13 050\\t\", \"COLISÃO\")\n",
    "acidentes[\"tipo de ocorrencia\"] = acidentes[\"tipo de ocorrencia\"].str.replace(\"ATROPELAMENTOa\", \"ATROPELAMENTO\")\n",
    "acidentes[\"tipo de ocorrencia\"].unique()"
   ]
  },
  {
   "cell_type": "code",
   "execution_count": null,
   "id": "b8ac1e99",
   "metadata": {},
   "outputs": [],
   "source": []
  },
  {
   "cell_type": "code",
   "execution_count": 21,
   "id": "d87a4865",
   "metadata": {},
   "outputs": [
    {
     "data": {
      "text/plain": [
       "<AxesSubplot:>"
      ]
     },
     "execution_count": 21,
     "metadata": {},
     "output_type": "execute_result"
    },
    {
     "data": {
      "image/png": "[encoded data removed]",
      "text/plain": [
       "<Figure size 432x288 with 1 Axes>"
      ]
     },
     "metadata": {
      "needs_background": "light"
     },
     "output_type": "display_data"
    }
   ],
   "source": [
    "# 4. Apresente um gráfico de barras contendo as informações acima\n",
    "acidentes[\"tipo de ocorrencia\"].value_counts().plot.bar()"
   ]
  },
  {
   "cell_type": "code",
   "execution_count": 29,
   "id": "0820e7ba",
   "metadata": {},
   "outputs": [
    {
     "data": {
      "text/plain": [
       "COLISÃO                 980\n",
       "ATROPELAMENTO           148\n",
       "COLISÃO COM CICLISTA     42\n",
       "CHOQUE                   34\n",
       "CAPOTAMENTO               5\n",
       "TOMBAMENTO                4\n",
       "ENGAVETAMENTO             4\n",
       "ENTRADA E SAÍDA           4\n",
       "ACID. DE PERCURSO         2\n",
       "FISCALIZAÇÃO              1\n",
       "QUEDA DE ÁRVORE           1\n",
       "ATROPELAMENTO ANIMAL      1\n",
       "Name: tipo de ocorrencia, dtype: int64"
      ]
     },
     "execution_count": 29,
     "metadata": {},
     "output_type": "execute_result"
    }
   ],
   "source": [
    "# 5. Apresente um gráfico de pizza que mostre a porcentagem da proporção de acidentes por tipo de ocorrência apenas\n",
    "# para os tipos de ocorrência que se repetiram 30 vezes ou mais. Na legenda deve estar o tipo de ocorrência.\n",
    "# (Não se preocupar com textos sobrescritos)\n",
    "acidentes[\"tipo de ocorrencia\"].value_counts()"
   ]
  },
  {
   "cell_type": "code",
   "execution_count": 49,
   "id": "dea2ed73",
   "metadata": {},
   "outputs": [
    {
     "data": {
      "text/plain": [
       "<AxesSubplot:ylabel='tipo de ocorrencia'>"
      ]
     },
     "execution_count": 49,
     "metadata": {},
     "output_type": "execute_result"
    },
    {
     "data": {
      "image/png": "[encoded data removed]",
      "text/plain": [
       "<Figure size 432x288 with 1 Axes>"
      ]
     },
     "metadata": {},
     "output_type": "display_data"
    }
   ],
   "source": [
    "quant_Acidentes = acidentes[\"tipo de ocorrencia\"].value_counts()\n",
    "quant_Acidentes_maior_30 = quant_Acidentes[quant_Acidentes >= 30]\n",
    "# quant_Acidentes_maior_30\n",
    "quant_Acidentes_maior_30.plot.pie()"
   ]
  },
  {
   "cell_type": "code",
   "execution_count": null,
   "id": "098ec95d",
   "metadata": {},
   "outputs": [],
   "source": []
  }
 ],
 "metadata": {
  "kernelspec": {
   "display_name": "Python 3",
   "language": "python",
   "name": "python3"
  },
  "language_info": {
   "codemirror_mode": {
    "name": "ipython",
    "version": 3
   },
   "file_extension": ".py",
   "mimetype": "text/x-python",
   "name": "python",
   "nbconvert_exporter": "python",
   "pygments_lexer": "ipython3",
   "version": "3.8.8"
  }
 },
 "nbformat": 4,
 "nbformat_minor": 5
}
