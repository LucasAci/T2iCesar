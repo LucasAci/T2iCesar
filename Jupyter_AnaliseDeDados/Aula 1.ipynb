{
 "cells": [
  {
   "cell_type": "code",
   "execution_count": 1,
   "id": "11daac59",
   "metadata": {},
   "outputs": [
    {
     "name": "stdout",
     "output_type": "stream",
     "text": [
      "Hello world\n"
     ]
    }
   ],
   "source": [
    "print(\"Hello world\")"
   ]
  },
  {
   "cell_type": "code",
   "execution_count": 2,
   "id": "925b6fa5",
   "metadata": {},
   "outputs": [],
   "source": [
    "x = 1"
   ]
  },
  {
   "cell_type": "code",
   "execution_count": 3,
   "id": "f03c4c30",
   "metadata": {},
   "outputs": [],
   "source": [
    "x = x + 1"
   ]
  },
  {
   "cell_type": "code",
   "execution_count": 4,
   "id": "a4b8e827",
   "metadata": {},
   "outputs": [
    {
     "name": "stdout",
     "output_type": "stream",
     "text": [
      "2\n"
     ]
    }
   ],
   "source": [
    "print(x)"
   ]
  },
  {
   "cell_type": "code",
   "execution_count": 5,
   "id": "82a8ac59",
   "metadata": {},
   "outputs": [],
   "source": [
    "lista = [1,2,3]"
   ]
  },
  {
   "cell_type": "code",
   "execution_count": 6,
   "id": "33ec4137",
   "metadata": {},
   "outputs": [],
   "source": [
    "# Digite lista. e pressione <tab> para ver as opções de metodos que lista possui"
   ]
  },
  {
   "cell_type": "code",
   "execution_count": 7,
   "id": "8631521e",
   "metadata": {},
   "outputs": [],
   "source": [
    "lista.append(4)"
   ]
  },
  {
   "cell_type": "code",
   "execution_count": 8,
   "id": "81b417b1",
   "metadata": {},
   "outputs": [
    {
     "name": "stdout",
     "output_type": "stream",
     "text": [
      "Lista = [1, 2, 3, 4]\n"
     ]
    }
   ],
   "source": [
    "print(\"Lista =\", lista) # Com print podemos imprimir texto e variaveis na mesma linha"
   ]
  },
  {
   "cell_type": "code",
   "execution_count": 9,
   "id": "e5e84f85",
   "metadata": {},
   "outputs": [
    {
     "data": {
      "text/plain": [
       "[1, 2, 3, 4]"
      ]
     },
     "execution_count": 9,
     "metadata": {},
     "output_type": "execute_result"
    }
   ],
   "source": [
    "lista # Digitando apenas o nome da variavel podemos imprimir seu valor"
   ]
  },
  {
   "cell_type": "code",
   "execution_count": 12,
   "id": "1e254af0",
   "metadata": {},
   "outputs": [],
   "source": [
    "# Usando a introspecção, podemos ver detalhes sobre um objeto\n",
    "lista?"
   ]
  },
  {
   "cell_type": "code",
   "execution_count": 11,
   "id": "fa9e255f",
   "metadata": {},
   "outputs": [],
   "source": [
    "# Usando a introspecção, podemos ver detalhes sobre uma função\n",
    "lista.append?"
   ]
  },
  {
   "cell_type": "code",
   "execution_count": null,
   "id": "c2377533",
   "metadata": {},
   "outputs": [],
   "source": []
  }
 ],
 "metadata": {
  "kernelspec": {
   "display_name": "Python 3",
   "language": "python",
   "name": "python3"
  },
  "language_info": {
   "codemirror_mode": {
    "name": "ipython",
    "version": 3
   },
   "file_extension": ".py",
   "mimetype": "text/x-python",
   "name": "python",
   "nbconvert_exporter": "python",
   "pygments_lexer": "ipython3",
   "version": "3.8.8"
  }
 },
 "nbformat": 4,
 "nbformat_minor": 5
}
