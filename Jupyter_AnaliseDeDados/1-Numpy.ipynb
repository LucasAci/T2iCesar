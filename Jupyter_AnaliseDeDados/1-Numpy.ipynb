{
 "cells": [
  {
   "cell_type": "code",
   "execution_count": 1,
   "id": "57ce6c96",
   "metadata": {},
   "outputs": [
    {
     "data": {
      "text/plain": [
       "13.761359930038452"
      ]
     },
     "execution_count": 1,
     "metadata": {},
     "output_type": "execute_result"
    }
   ],
   "source": [
    "# importei a biblioteca de tempo\n",
    "import time\n",
    "# usei a função time para adquirir o horario atual do computador\n",
    "inicio = time.time()\n",
    "# gerei duas listas com 10000000 valores\n",
    "lista1 = range(10000000)\n",
    "lista2 = range(10000000)\n",
    "lista3 = []\n",
    "# usei um for para somar cada item das listas e salvo o resultado na lista3\n",
    "for i in range(len(lista1)):\n",
    "    lista3.append(lista1[i] + lista2[i])\n",
    "# tempo_gasto é o horario atual menos o horario quando comecei\n",
    "tempo_gasto = time.time() - inicio\n",
    "# colocar apenas a variavel imprime o valor dela\n",
    "tempo_gasto"
   ]
  },
  {
   "cell_type": "code",
   "execution_count": 2,
   "id": "a5d836aa",
   "metadata": {},
   "outputs": [
    {
     "data": {
      "text/plain": [
       "0.4007148742675781"
      ]
     },
     "execution_count": 2,
     "metadata": {},
     "output_type": "execute_result"
    }
   ],
   "source": [
    "# agora vou usar a biblioteca externa numpy\n",
    "# quando uso o \"as\" posso dar um apelido a minha biblioteca\n",
    "# entao fazendo \"import numpy as np\" posso usar np ao inves de escrever numpy\n",
    "import numpy as np\n",
    "inicio = time.time()\n",
    "lista1 = np.arange(10000000)\n",
    "lista2 = np.arange(10000000)\n",
    "# Na hora de somar as listas de tamanho igual posso fazer a operação sem precisar do for\n",
    "lista3 = lista1 + lista2\n",
    "tempo_gasto = time.time() - inicio\n",
    "tempo_gasto # e ainda gasto menos tempo"
   ]
  },
  {
   "cell_type": "markdown",
   "id": "4ab14497",
   "metadata": {},
   "source": [
    "# Exemplos de uso do numpy"
   ]
  },
  {
   "cell_type": "code",
   "execution_count": 3,
   "id": "25271987",
   "metadata": {},
   "outputs": [],
   "source": [
    "import numpy as np #Antes de usar qualquer coisa do numpy preciso importar a biblioteca antes.\n",
    "# so preciso importar 1 vez por notebook\n",
    "# É uma boa prática deixar os imports de bibliotecas, internas ou externas, em uma celula separada"
   ]
  },
  {
   "cell_type": "code",
   "execution_count": 4,
   "id": "e84ab8a4",
   "metadata": {},
   "outputs": [
    {
     "data": {
      "text/plain": [
       "array([ 0,  1,  2,  3,  4,  5,  6,  7,  8,  9, 10, 11, 12, 13, 14])"
      ]
     },
     "execution_count": 4,
     "metadata": {},
     "output_type": "execute_result"
    }
   ],
   "source": [
    "# arange cria um array com espaçamentos iguais\n",
    "# começa no 0, vai até antes do elemento passado, 15 nesse exemplo, indo de 1 a 1.\n",
    "# start, stop, step\n",
    "lista = np.arange(15)\n",
    "lista"
   ]
  },
  {
   "cell_type": "code",
   "execution_count": 5,
   "id": "3a1dc2a5",
   "metadata": {},
   "outputs": [
    {
     "data": {
      "text/plain": [
       "array([1, 2, 3, 4, 5])"
      ]
     },
     "execution_count": 5,
     "metadata": {},
     "output_type": "execute_result"
    }
   ],
   "source": [
    "# O padrão é começar pelo 0, mas posso passar outro valor para o começo\n",
    "# Nesse exemplo começo do 1 e vou até antes do 6\n",
    "lista = np.arange(1,6)\n",
    "lista"
   ]
  },
  {
   "cell_type": "code",
   "execution_count": 6,
   "id": "795b3857",
   "metadata": {},
   "outputs": [
    {
     "data": {
      "text/plain": [
       "array([1, 3, 5, 7, 9])"
      ]
     },
     "execution_count": 6,
     "metadata": {},
     "output_type": "execute_result"
    }
   ],
   "source": [
    "# Posso também mudar o ritmo da mudança, o step.\n",
    "# Nesse caso quero ir de 1 até antes do 10, de 2 em 2\n",
    "lista = np.arange(1,10,2)\n",
    "lista"
   ]
  },
  {
   "cell_type": "code",
   "execution_count": 7,
   "id": "01dba0ac",
   "metadata": {},
   "outputs": [
    {
     "data": {
      "text/plain": [
       "array([10,  9,  8,  7,  6,  5,  4,  3,  2,  1])"
      ]
     },
     "execution_count": 7,
     "metadata": {},
     "output_type": "execute_result"
    }
   ],
   "source": [
    "# Se o step for negativo, podemos fazer sequencias decrescentes\n",
    "lista = np.arange(10,0,-1)\n",
    "lista"
   ]
  },
  {
   "cell_type": "code",
   "execution_count": 8,
   "id": "23c1f55a",
   "metadata": {},
   "outputs": [
    {
     "data": {
      "text/plain": [
       "array([0, 2, 4])"
      ]
     },
     "execution_count": 8,
     "metadata": {},
     "output_type": "execute_result"
    }
   ],
   "source": [
    "# Outro exemplo começando em 0, indo de 2 em 2 até antes do 5\n",
    "lista = np.arange(0,5,2)\n",
    "lista"
   ]
  },
  {
   "cell_type": "code",
   "execution_count": 9,
   "id": "dc81998e",
   "metadata": {},
   "outputs": [
    {
     "data": {
      "text/plain": [
       "array([0. , 0.1, 0.2, 0.3, 0.4, 0.5, 0.6, 0.7, 0.8, 0.9, 1. ])"
      ]
     },
     "execution_count": 9,
     "metadata": {},
     "output_type": "execute_result"
    }
   ],
   "source": [
    "# Outro exemplo começando em 0, indo de 0.1 em 0.1 até antes do 1.1\n",
    "lista = np.arange(0,1.1,0.1)\n",
    "lista"
   ]
  },
  {
   "cell_type": "markdown",
   "id": "5569b903",
   "metadata": {},
   "source": [
    "# Outras aplicações com array de numpy"
   ]
  },
  {
   "cell_type": "code",
   "execution_count": 10,
   "id": "f70fe043",
   "metadata": {},
   "outputs": [
    {
     "data": {
      "text/plain": [
       "array([ 2,  5, 99])"
      ]
     },
     "execution_count": 10,
     "metadata": {},
     "output_type": "execute_result"
    }
   ],
   "source": [
    "# temos também a função array, para atribuir valores não sequenciais\n",
    "lista = np.array([2,5,99])\n",
    "lista"
   ]
  },
  {
   "cell_type": "code",
   "execution_count": 11,
   "id": "e79c258c",
   "metadata": {},
   "outputs": [
    {
     "data": {
      "text/plain": [
       "array([[1, 2, 3],\n",
       "       [5, 4, 3],\n",
       "       [6, 7, 8]])"
      ]
     },
     "execution_count": 11,
     "metadata": {},
     "output_type": "execute_result"
    }
   ],
   "source": [
    "# Com essa função podemos trabalhar com arrays (listas/matrizes/vetores) bidimensionais\n",
    "# Ou seja basicamente uma planilha com linhas e colunas\n",
    "# aqui eu crio um array com 3 linhas. Onde a primeira é 1,2,3 a segunda 5,4,3 e a terceira 6,7,8\n",
    "linha1 = [1,2,3]\n",
    "linha2 = [5,4,3]\n",
    "linha3 = [6,7,8]\n",
    "# Importante notar que ao usar a função array de numpy precisamos:\n",
    "# 1. abrir os parenteses, já que array é uma função -- np.array()\n",
    "# 2. Abrir os corchetes, já que ele vai ter linhas e colunas -- np.array([])\n",
    "# 3. Dentro dos corchetes adicionamos as linhas de mesmo tamanho -- np.array([linha1, linha2, linha3])\n",
    "lista_bidimensional = np.array([linha1, linha2, linha3])\n",
    "# Seria a mesma coisa se tivessemos feito:\n",
    "# lista_bidimensional = np.array([[1,2,3],[5,4,3],[6,7,8]])\n",
    "lista_bidimensional"
   ]
  },
  {
   "cell_type": "code",
   "execution_count": 12,
   "id": "b1cb9db9",
   "metadata": {},
   "outputs": [
    {
     "data": {
      "text/plain": [
       "3"
      ]
     },
     "execution_count": 12,
     "metadata": {},
     "output_type": "execute_result"
    }
   ],
   "source": [
    "#Para acessar um elemento dessa lista preciso informar a linha e a coluna\n",
    "#Nesse caso na linha 0 e coluna 2, temos o elemento 3\n",
    "lista_bidimensional[0][2]"
   ]
  },
  {
   "cell_type": "code",
   "execution_count": 13,
   "id": "bb241934",
   "metadata": {},
   "outputs": [
    {
     "data": {
      "text/plain": [
       "array([[ 0,  1,  2,  3,  4],\n",
       "       [ 5,  6,  7,  8,  9],\n",
       "       [10, 11, 12, 13, 14]])"
      ]
     },
     "execution_count": 13,
     "metadata": {},
     "output_type": "execute_result"
    }
   ],
   "source": [
    "# com reshape podemos transformar um array de uma linha só em varias linhas e colunas\n",
    "# Contanto que o numero de linhas vezes a quantidade de colunas seja igual ao numero de elementos\n",
    "np.arange(15).reshape(3,5)"
   ]
  },
  {
   "cell_type": "code",
   "execution_count": 14,
   "id": "5d49e2ad",
   "metadata": {},
   "outputs": [
    {
     "data": {
      "text/plain": [
       "(3, 3)"
      ]
     },
     "execution_count": 14,
     "metadata": {},
     "output_type": "execute_result"
    }
   ],
   "source": [
    "lista_bidimensional.shape # quantidade de linhas e colunas"
   ]
  },
  {
   "cell_type": "code",
   "execution_count": 15,
   "id": "0043b7ca",
   "metadata": {},
   "outputs": [
    {
     "data": {
      "text/plain": [
       "'int32'"
      ]
     },
     "execution_count": 15,
     "metadata": {},
     "output_type": "execute_result"
    }
   ],
   "source": [
    "lista_bidimensional.dtype.name # Tipo dos elementos"
   ]
  },
  {
   "cell_type": "code",
   "execution_count": 16,
   "id": "ece3d46b",
   "metadata": {},
   "outputs": [
    {
     "data": {
      "text/plain": [
       "9"
      ]
     },
     "execution_count": 16,
     "metadata": {},
     "output_type": "execute_result"
    }
   ],
   "source": [
    "lista_bidimensional.size #quantidade de elementos"
   ]
  },
  {
   "cell_type": "code",
   "execution_count": 17,
   "id": "8035791d",
   "metadata": {},
   "outputs": [
    {
     "data": {
      "text/plain": [
       "array([ 2,  6, 10])"
      ]
     },
     "execution_count": 17,
     "metadata": {},
     "output_type": "execute_result"
    }
   ],
   "source": [
    "lista_de_python = [1,5,9]\n",
    "# lista_de_python + 1 da errado\n",
    "lista_de_numpy = np.array([1,5,9])\n",
    "lista_de_numpy + 1 # Com numpy somamos 1 a todos os itens da lista (array)"
   ]
  },
  {
   "cell_type": "code",
   "execution_count": 18,
   "id": "94699789",
   "metadata": {},
   "outputs": [
    {
     "data": {
      "text/plain": [
       "array([[2, 3, 4],\n",
       "       [6, 5, 4],\n",
       "       [7, 8, 9]])"
      ]
     },
     "execution_count": 18,
     "metadata": {},
     "output_type": "execute_result"
    }
   ],
   "source": [
    "lista_bidimensional + 1 # Podemos também somar 1 a todos os elementos de uma lista bidimensional\n",
    "# Importante relembrar que isso vale para qualquer operação aritmetica. Subtração, mutiplicação, divisão..."
   ]
  },
  {
   "cell_type": "code",
   "execution_count": 19,
   "id": "801e55df",
   "metadata": {},
   "outputs": [
    {
     "data": {
      "text/plain": [
       "7"
      ]
     },
     "execution_count": 19,
     "metadata": {},
     "output_type": "execute_result"
    }
   ],
   "source": [
    "# Sobre a importancia do \"igual\" ou atribuição;\n",
    "# Se acessamos um elemento da lista_bidimencional. Linha 2 coluna 1, tem o valor 7\n",
    "lista_bidimensional[2][1]"
   ]
  },
  {
   "cell_type": "code",
   "execution_count": 20,
   "id": "79ef6fa9",
   "metadata": {},
   "outputs": [
    {
     "data": {
      "text/plain": [
       "10"
      ]
     },
     "execution_count": 20,
     "metadata": {},
     "output_type": "execute_result"
    }
   ],
   "source": [
    "# Se somamos 3 a esse valor vamos obter 10\n",
    "lista_bidimensional[2][1] + 3"
   ]
  },
  {
   "cell_type": "code",
   "execution_count": 21,
   "id": "2bc691d0",
   "metadata": {},
   "outputs": [
    {
     "data": {
      "text/plain": [
       "array([[1, 2, 3],\n",
       "       [5, 4, 3],\n",
       "       [6, 7, 8]])"
      ]
     },
     "execution_count": 21,
     "metadata": {},
     "output_type": "execute_result"
    }
   ],
   "source": [
    "#Porém o valor armazenado em lista_bidimensional continua 7\n",
    "lista_bidimensional"
   ]
  },
  {
   "cell_type": "code",
   "execution_count": 22,
   "id": "c7a8481f",
   "metadata": {},
   "outputs": [
    {
     "data": {
      "text/plain": [
       "array([[ 1,  2,  3],\n",
       "       [ 5,  4,  3],\n",
       "       [ 6, 10,  8]])"
      ]
     },
     "execution_count": 22,
     "metadata": {},
     "output_type": "execute_result"
    }
   ],
   "source": [
    "# Precisamos fazer uma atribuição, usar o igual, para salvar a soma na variavel\n",
    "# E dessa forma modificar a nossa lista_bidimensional:\n",
    "lista_bidimensional[2][1] = lista_bidimensional[2][1] + 3\n",
    "lista_bidimensional"
   ]
  },
  {
   "cell_type": "code",
   "execution_count": 23,
   "id": "1281720d",
   "metadata": {},
   "outputs": [
    {
     "data": {
      "text/plain": [
       "array([[1, 1, 1],\n",
       "       [2, 2, 2],\n",
       "       [5, 5, 5]])"
      ]
     },
     "execution_count": 23,
     "metadata": {},
     "output_type": "execute_result"
    }
   ],
   "source": [
    "array2 = np.array([[1,1,1],[2,2,2],[5,5,5]])\n",
    "array2"
   ]
  },
  {
   "cell_type": "code",
   "execution_count": 24,
   "id": "1f7e097d",
   "metadata": {},
   "outputs": [
    {
     "data": {
      "text/plain": [
       "array([[ 2,  3,  4],\n",
       "       [ 7,  6,  5],\n",
       "       [11, 15, 13]])"
      ]
     },
     "execution_count": 24,
     "metadata": {},
     "output_type": "execute_result"
    }
   ],
   "source": [
    "# Podemos somar dois arrays com as mesmas dimensões (quantidade de linhas e colunas)\n",
    "# Cada elemento vai somar com sua contraparte\n",
    "array2 + lista_bidimensional\n",
    "# de novo, podemos fazer qualquer operação aritmética"
   ]
  },
  {
   "cell_type": "code",
   "execution_count": null,
   "id": "d09f3d54",
   "metadata": {},
   "outputs": [],
   "source": []
  }
 ],
 "metadata": {
  "kernelspec": {
   "display_name": "Python 3",
   "language": "python",
   "name": "python3"
  },
  "language_info": {
   "codemirror_mode": {
    "name": "ipython",
    "version": 3
   },
   "file_extension": ".py",
   "mimetype": "text/x-python",
   "name": "python",
   "nbconvert_exporter": "python",
   "pygments_lexer": "ipython3",
   "version": "3.8.8"
  }
 },
 "nbformat": 4,
 "nbformat_minor": 5
}
