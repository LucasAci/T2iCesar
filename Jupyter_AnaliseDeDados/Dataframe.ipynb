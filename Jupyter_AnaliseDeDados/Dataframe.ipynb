{
 "cells": [
  {
   "cell_type": "markdown",
   "id": "1721eaf1",
   "metadata": {},
   "source": [
    "# Notebook comentado"
   ]
  },
  {
   "cell_type": "code",
   "execution_count": 38,
   "id": "ca050985",
   "metadata": {},
   "outputs": [],
   "source": [
    "# Sempre importante lembrar de importar as bibliotecas\n",
    "import pandas as pd\n",
    "import numpy as np"
   ]
  },
  {
   "cell_type": "code",
   "execution_count": 40,
   "id": "c7c36fa5",
   "metadata": {},
   "outputs": [
    {
     "data": {
      "text/html": [
       "<div>\n",
       "<style scoped>\n",
       "    .dataframe tbody tr th:only-of-type {\n",
       "        vertical-align: middle;\n",
       "    }\n",
       "\n",
       "    .dataframe tbody tr th {\n",
       "        vertical-align: top;\n",
       "    }\n",
       "\n",
       "    .dataframe thead th {\n",
       "        text-align: right;\n",
       "    }\n",
       "</style>\n",
       "<table border=\"1\" class=\"dataframe\">\n",
       "  <thead>\n",
       "    <tr style=\"text-align: right;\">\n",
       "      <th></th>\n",
       "      <th>0</th>\n",
       "      <th>1</th>\n",
       "      <th>2</th>\n",
       "      <th>3</th>\n",
       "    </tr>\n",
       "  </thead>\n",
       "  <tbody>\n",
       "    <tr>\n",
       "      <th>0</th>\n",
       "      <td>Victor</td>\n",
       "      <td>3</td>\n",
       "      <td>2</td>\n",
       "      <td>7.0</td>\n",
       "    </tr>\n",
       "    <tr>\n",
       "      <th>1</th>\n",
       "      <td>Carol</td>\n",
       "      <td>1</td>\n",
       "      <td>10</td>\n",
       "      <td>8.7</td>\n",
       "    </tr>\n",
       "  </tbody>\n",
       "</table>\n",
       "</div>"
      ],
      "text/plain": [
       "        0  1   2    3\n",
       "0  Victor  3   2  7.0\n",
       "1   Carol  1  10  8.7"
      ]
     },
     "execution_count": 40,
     "metadata": {},
     "output_type": "execute_result"
    }
   ],
   "source": [
    "victor = pd.Series([\"Victor\", 3, 2, 7.0])\n",
    "carol = pd.Series([\"Carol\", 1, 10, 8.7])\n",
    "# Para criar um dataframe podemos passar uma lista de series. Cada Serie é uma linha do Dataframe\n",
    "pd.DataFrame([victor, carol])"
   ]
  },
  {
   "cell_type": "code",
   "execution_count": 42,
   "id": "31aa0712",
   "metadata": {},
   "outputs": [
    {
     "data": {
      "text/html": [
       "<div>\n",
       "<style scoped>\n",
       "    .dataframe tbody tr th:only-of-type {\n",
       "        vertical-align: middle;\n",
       "    }\n",
       "\n",
       "    .dataframe tbody tr th {\n",
       "        vertical-align: top;\n",
       "    }\n",
       "\n",
       "    .dataframe thead th {\n",
       "        text-align: right;\n",
       "    }\n",
       "</style>\n",
       "<table border=\"1\" class=\"dataframe\">\n",
       "  <thead>\n",
       "    <tr style=\"text-align: right;\">\n",
       "      <th></th>\n",
       "      <th>Aluno</th>\n",
       "      <th>Faltas</th>\n",
       "      <th>Provas</th>\n",
       "      <th>Seminarios</th>\n",
       "    </tr>\n",
       "  </thead>\n",
       "  <tbody>\n",
       "    <tr>\n",
       "      <th>0</th>\n",
       "      <td>Victor</td>\n",
       "      <td>3</td>\n",
       "      <td>2</td>\n",
       "      <td>7.0</td>\n",
       "    </tr>\n",
       "    <tr>\n",
       "      <th>1</th>\n",
       "      <td>Carol</td>\n",
       "      <td>1</td>\n",
       "      <td>10</td>\n",
       "      <td>8.7</td>\n",
       "    </tr>\n",
       "  </tbody>\n",
       "</table>\n",
       "</div>"
      ],
      "text/plain": [
       "    Aluno  Faltas  Provas  Seminarios\n",
       "0  Victor       3       2         7.0\n",
       "1   Carol       1      10         8.7"
      ]
     },
     "execution_count": 42,
     "metadata": {},
     "output_type": "execute_result"
    }
   ],
   "source": [
    "colunas = [\"Aluno\", \"Faltas\", \"Provas\", \"Seminarios\"]\n",
    "victor = pd.Series([\"Victor\", 3, 2, 7.0], index=colunas)\n",
    "carol = pd.Series([\"Carol\", 1, 10, 8.7], index=colunas)\n",
    "# Quando queremos dar nome as colunas, precisamos que as series sejam indexadas com os nomes das colunas\n",
    "# Todas as Series que compoem o dataframe devem ter o mesmo index\n",
    "pd.DataFrame([victor, carol])"
   ]
  },
  {
   "cell_type": "code",
   "execution_count": 46,
   "id": "80ba171d",
   "metadata": {},
   "outputs": [
    {
     "data": {
      "text/html": [
       "<div>\n",
       "<style scoped>\n",
       "    .dataframe tbody tr th:only-of-type {\n",
       "        vertical-align: middle;\n",
       "    }\n",
       "\n",
       "    .dataframe tbody tr th {\n",
       "        vertical-align: top;\n",
       "    }\n",
       "\n",
       "    .dataframe thead th {\n",
       "        text-align: right;\n",
       "    }\n",
       "</style>\n",
       "<table border=\"1\" class=\"dataframe\">\n",
       "  <thead>\n",
       "    <tr style=\"text-align: right;\">\n",
       "      <th></th>\n",
       "      <th>Aluno</th>\n",
       "      <th>Faltas</th>\n",
       "      <th>Provas</th>\n",
       "      <th>Seminarios</th>\n",
       "    </tr>\n",
       "  </thead>\n",
       "  <tbody>\n",
       "    <tr>\n",
       "      <th>0</th>\n",
       "      <td>Victor</td>\n",
       "      <td>3</td>\n",
       "      <td>2</td>\n",
       "      <td>7.0</td>\n",
       "    </tr>\n",
       "    <tr>\n",
       "      <th>1</th>\n",
       "      <td>Joyce</td>\n",
       "      <td>5</td>\n",
       "      <td>3</td>\n",
       "      <td>8.5</td>\n",
       "    </tr>\n",
       "    <tr>\n",
       "      <th>2</th>\n",
       "      <td>Felipe</td>\n",
       "      <td>2</td>\n",
       "      <td>7</td>\n",
       "      <td>9.0</td>\n",
       "    </tr>\n",
       "    <tr>\n",
       "      <th>3</th>\n",
       "      <td>Carol</td>\n",
       "      <td>1</td>\n",
       "      <td>10</td>\n",
       "      <td>8.7</td>\n",
       "    </tr>\n",
       "    <tr>\n",
       "      <th>4</th>\n",
       "      <td>Maria</td>\n",
       "      <td>1</td>\n",
       "      <td>6</td>\n",
       "      <td>5.0</td>\n",
       "    </tr>\n",
       "  </tbody>\n",
       "</table>\n",
       "</div>"
      ],
      "text/plain": [
       "    Aluno  Faltas  Provas  Seminarios\n",
       "0  Victor       3       2         7.0\n",
       "1   Joyce       5       3         8.5\n",
       "2  Felipe       2       7         9.0\n",
       "3   Carol       1      10         8.7\n",
       "4   Maria       1       6         5.0"
      ]
     },
     "execution_count": 46,
     "metadata": {},
     "output_type": "execute_result"
    }
   ],
   "source": [
    "# Podemos criar o dataframe por colunas, passando um dicionario (dict) por parametro\n",
    "# O dicionario possui um conjunto de chave-valor. A chave é o nome da coluna e o valor é a lista dos dados\n",
    "dicionario = {\n",
    "    'Aluno' : pd.Series([\"Victor\", \"Joyce\", \"Felipe\", \"Carol\", \"Maria\"]),\n",
    "    'Faltas' : pd.Series([3,5,2,1,1]),\n",
    "    'Provas' : pd.Series([2,3,7,10,6]),\n",
    "    'Seminarios' : pd.Series([7.0,8.5, 9.0, 8.7, 5.0])\n",
    "}\n",
    "tabela = pd.DataFrame(dicionario)\n",
    "tabela"
   ]
  },
  {
   "cell_type": "code",
   "execution_count": 47,
   "id": "fe2e4e32",
   "metadata": {},
   "outputs": [
    {
     "data": {
      "text/html": [
       "<div>\n",
       "<style scoped>\n",
       "    .dataframe tbody tr th:only-of-type {\n",
       "        vertical-align: middle;\n",
       "    }\n",
       "\n",
       "    .dataframe tbody tr th {\n",
       "        vertical-align: top;\n",
       "    }\n",
       "\n",
       "    .dataframe thead th {\n",
       "        text-align: right;\n",
       "    }\n",
       "</style>\n",
       "<table border=\"1\" class=\"dataframe\">\n",
       "  <thead>\n",
       "    <tr style=\"text-align: right;\">\n",
       "      <th></th>\n",
       "      <th>Aluno</th>\n",
       "      <th>Faltas</th>\n",
       "      <th>Provas</th>\n",
       "      <th>Seminarios</th>\n",
       "    </tr>\n",
       "  </thead>\n",
       "  <tbody>\n",
       "    <tr>\n",
       "      <th>0</th>\n",
       "      <td>Victor</td>\n",
       "      <td>3</td>\n",
       "      <td>2</td>\n",
       "      <td>7.0</td>\n",
       "    </tr>\n",
       "    <tr>\n",
       "      <th>1</th>\n",
       "      <td>Joyce</td>\n",
       "      <td>5</td>\n",
       "      <td>3</td>\n",
       "      <td>8.5</td>\n",
       "    </tr>\n",
       "    <tr>\n",
       "      <th>2</th>\n",
       "      <td>Felipe</td>\n",
       "      <td>2</td>\n",
       "      <td>7</td>\n",
       "      <td>9.0</td>\n",
       "    </tr>\n",
       "    <tr>\n",
       "      <th>3</th>\n",
       "      <td>Carol</td>\n",
       "      <td>1</td>\n",
       "      <td>10</td>\n",
       "      <td>8.7</td>\n",
       "    </tr>\n",
       "    <tr>\n",
       "      <th>4</th>\n",
       "      <td>Maria</td>\n",
       "      <td>1</td>\n",
       "      <td>6</td>\n",
       "      <td>5.0</td>\n",
       "    </tr>\n",
       "  </tbody>\n",
       "</table>\n",
       "</div>"
      ],
      "text/plain": [
       "    Aluno  Faltas  Provas  Seminarios\n",
       "0  Victor       3       2         7.0\n",
       "1   Joyce       5       3         8.5\n",
       "2  Felipe       2       7         9.0\n",
       "3   Carol       1      10         8.7\n",
       "4   Maria       1       6         5.0"
      ]
     },
     "execution_count": 47,
     "metadata": {},
     "output_type": "execute_result"
    }
   ],
   "source": [
    "# se passarmos listas em vez de series o panda cria as series sozinho por debaixo dos panos\n",
    "dicionario = {\n",
    "    'Aluno' : [\"Victor\", \"Joyce\", \"Felipe\", \"Carol\", \"Maria\"],\n",
    "    'Faltas' : [3,5,2,1,1],\n",
    "    'Provas' : [2,3,7,10,6],\n",
    "    'Seminarios' : [7.0,8.5, 9.0, 8.7, 5.0]\n",
    "}\n",
    "tabela = pd.DataFrame(dicionario)\n",
    "tabela"
   ]
  },
  {
   "cell_type": "code",
   "execution_count": 48,
   "id": "c10e9b02",
   "metadata": {},
   "outputs": [
    {
     "data": {
      "text/html": [
       "<div>\n",
       "<style scoped>\n",
       "    .dataframe tbody tr th:only-of-type {\n",
       "        vertical-align: middle;\n",
       "    }\n",
       "\n",
       "    .dataframe tbody tr th {\n",
       "        vertical-align: top;\n",
       "    }\n",
       "\n",
       "    .dataframe thead th {\n",
       "        text-align: right;\n",
       "    }\n",
       "</style>\n",
       "<table border=\"1\" class=\"dataframe\">\n",
       "  <thead>\n",
       "    <tr style=\"text-align: right;\">\n",
       "      <th></th>\n",
       "      <th>Aluno</th>\n",
       "      <th>Faltas</th>\n",
       "      <th>Provas</th>\n",
       "      <th>Seminarios</th>\n",
       "    </tr>\n",
       "  </thead>\n",
       "  <tbody>\n",
       "    <tr>\n",
       "      <th>0</th>\n",
       "      <td>Victor</td>\n",
       "      <td>3</td>\n",
       "      <td>2</td>\n",
       "      <td>7.0</td>\n",
       "    </tr>\n",
       "    <tr>\n",
       "      <th>1</th>\n",
       "      <td>Joyce</td>\n",
       "      <td>5</td>\n",
       "      <td>3</td>\n",
       "      <td>8.5</td>\n",
       "    </tr>\n",
       "    <tr>\n",
       "      <th>2</th>\n",
       "      <td>Felipe</td>\n",
       "      <td>2</td>\n",
       "      <td>7</td>\n",
       "      <td>9.0</td>\n",
       "    </tr>\n",
       "    <tr>\n",
       "      <th>3</th>\n",
       "      <td>Carol</td>\n",
       "      <td>1</td>\n",
       "      <td>10</td>\n",
       "      <td>8.7</td>\n",
       "    </tr>\n",
       "    <tr>\n",
       "      <th>4</th>\n",
       "      <td>Maria</td>\n",
       "      <td>1</td>\n",
       "      <td>6</td>\n",
       "      <td>5.0</td>\n",
       "    </tr>\n",
       "  </tbody>\n",
       "</table>\n",
       "</div>"
      ],
      "text/plain": [
       "    Aluno  Faltas  Provas  Seminarios\n",
       "0  Victor       3       2         7.0\n",
       "1   Joyce       5       3         8.5\n",
       "2  Felipe       2       7         9.0\n",
       "3   Carol       1      10         8.7\n",
       "4   Maria       1       6         5.0"
      ]
     },
     "execution_count": 48,
     "metadata": {},
     "output_type": "execute_result"
    }
   ],
   "source": [
    "# A forma mais comum de criar um dataframe é criando o dicionario junto com o dataframe\n",
    "tabela = pd.DataFrame({\n",
    "    'Aluno' : [\"Victor\", \"Joyce\", \"Felipe\", \"Carol\", \"Maria\"],\n",
    "    'Faltas' : [3,5,2,1,1],\n",
    "    'Provas' : [2,3,7,10,6],\n",
    "    'Seminarios' : [7.0,8.5, 9.0, 8.7, 5.0]\n",
    "})\n",
    "tabela"
   ]
  },
  {
   "cell_type": "code",
   "execution_count": 49,
   "id": "c241bec2",
   "metadata": {},
   "outputs": [
    {
     "data": {
      "text/plain": [
       "Index(['Aluno', 'Faltas', 'Provas', 'Seminarios'], dtype='object')"
      ]
     },
     "execution_count": 49,
     "metadata": {},
     "output_type": "execute_result"
    }
   ],
   "source": [
    "# Voce consegue acessar as colunas da tabela com esse comando\n",
    "tabela.columns"
   ]
  },
  {
   "cell_type": "code",
   "execution_count": 50,
   "id": "91183c06",
   "metadata": {},
   "outputs": [
    {
     "data": {
      "text/plain": [
       "Aluno          object\n",
       "Faltas          int64\n",
       "Provas          int64\n",
       "Seminarios    float64\n",
       "dtype: object"
      ]
     },
     "execution_count": 50,
     "metadata": {},
     "output_type": "execute_result"
    }
   ],
   "source": [
    "# E os tipos de cada coluna\n",
    "tabela.dtypes"
   ]
  },
  {
   "cell_type": "code",
   "execution_count": 51,
   "id": "73b2f5e9",
   "metadata": {},
   "outputs": [
    {
     "data": {
      "text/plain": [
       "0    Victor\n",
       "1     Joyce\n",
       "2    Felipe\n",
       "3     Carol\n",
       "4     Maria\n",
       "Name: Aluno, dtype: object"
      ]
     },
     "execution_count": 51,
     "metadata": {},
     "output_type": "execute_result"
    }
   ],
   "source": [
    "# Passando o nome da coluna dentro de corchetes você pode obter a coluna completa de um dataframe\n",
    "tabela[\"Aluno\"]"
   ]
  },
  {
   "cell_type": "code",
   "execution_count": 52,
   "id": "37b79abb",
   "metadata": {},
   "outputs": [
    {
     "data": {
      "text/plain": [
       "Aluno         Victor\n",
       "Faltas             3\n",
       "Provas             2\n",
       "Seminarios       7.0\n",
       "Name: 0, dtype: object"
      ]
     },
     "execution_count": 52,
     "metadata": {},
     "output_type": "execute_result"
    }
   ],
   "source": [
    "# Usando loc, voce pode passar o nome do indice de uma linha para obte-la\n",
    "tabela.loc[0]"
   ]
  },
  {
   "cell_type": "code",
   "execution_count": 54,
   "id": "535a116a",
   "metadata": {},
   "outputs": [
    {
     "data": {
      "text/plain": [
       "'Victor'"
      ]
     },
     "execution_count": 54,
     "metadata": {},
     "output_type": "execute_result"
    }
   ],
   "source": [
    "# Com o nome do indice da linha e da cooluna obtemos um valor especifico da tabela\n",
    "tabela.loc[0, \"Aluno\"]"
   ]
  },
  {
   "cell_type": "code",
   "execution_count": 55,
   "id": "516d05b3",
   "metadata": {},
   "outputs": [
    {
     "data": {
      "text/plain": [
       "'Victor'"
      ]
     },
     "execution_count": 55,
     "metadata": {},
     "output_type": "execute_result"
    }
   ],
   "source": [
    "# Também podemos usar loc e iloc para obter um elemento especifico da tabela\n",
    "tabela.iloc[0, 0]"
   ]
  },
  {
   "cell_type": "code",
   "execution_count": 56,
   "id": "9ae78d96",
   "metadata": {},
   "outputs": [
    {
     "data": {
      "text/plain": [
       "'Victor'"
      ]
     },
     "execution_count": 56,
     "metadata": {},
     "output_type": "execute_result"
    }
   ],
   "source": [
    "# o dataframe pode ser convertido para numpy, e assim seus dados podem ser acessados como uma matriz\n",
    "array = tabela.to_numpy()\n",
    "array[0,0]"
   ]
  },
  {
   "cell_type": "code",
   "execution_count": 57,
   "id": "929567f5",
   "metadata": {},
   "outputs": [
    {
     "data": {
      "text/plain": [
       "array([['Victor', 3, 2, 7.0],\n",
       "       ['Joyce', 5, 3, 8.5],\n",
       "       ['Felipe', 2, 7, 9.0],\n",
       "       ['Carol', 1, 10, 8.7],\n",
       "       ['Maria', 1, 6, 5.0]], dtype=object)"
      ]
     },
     "execution_count": 57,
     "metadata": {},
     "output_type": "execute_result"
    }
   ],
   "source": [
    "# Após a transformação perdemos os nomes das colunas e o indice das linhas\n",
    "array"
   ]
  },
  {
   "cell_type": "code",
   "execution_count": 59,
   "id": "67c93748",
   "metadata": {},
   "outputs": [
    {
     "data": {
      "text/html": [
       "<div>\n",
       "<style scoped>\n",
       "    .dataframe tbody tr th:only-of-type {\n",
       "        vertical-align: middle;\n",
       "    }\n",
       "\n",
       "    .dataframe tbody tr th {\n",
       "        vertical-align: top;\n",
       "    }\n",
       "\n",
       "    .dataframe thead th {\n",
       "        text-align: right;\n",
       "    }\n",
       "</style>\n",
       "<table border=\"1\" class=\"dataframe\">\n",
       "  <thead>\n",
       "    <tr style=\"text-align: right;\">\n",
       "      <th></th>\n",
       "      <th>Aluno</th>\n",
       "      <th>Faltas</th>\n",
       "      <th>Provas</th>\n",
       "      <th>Seminarios</th>\n",
       "    </tr>\n",
       "  </thead>\n",
       "  <tbody>\n",
       "    <tr>\n",
       "      <th>1</th>\n",
       "      <td>Victor</td>\n",
       "      <td>3</td>\n",
       "      <td>2</td>\n",
       "      <td>7.0</td>\n",
       "    </tr>\n",
       "    <tr>\n",
       "      <th>2</th>\n",
       "      <td>Joyce</td>\n",
       "      <td>5</td>\n",
       "      <td>3</td>\n",
       "      <td>8.5</td>\n",
       "    </tr>\n",
       "    <tr>\n",
       "      <th>3</th>\n",
       "      <td>Felipe</td>\n",
       "      <td>2</td>\n",
       "      <td>7</td>\n",
       "      <td>9.0</td>\n",
       "    </tr>\n",
       "    <tr>\n",
       "      <th>4</th>\n",
       "      <td>Carol</td>\n",
       "      <td>1</td>\n",
       "      <td>10</td>\n",
       "      <td>8.7</td>\n",
       "    </tr>\n",
       "    <tr>\n",
       "      <th>5</th>\n",
       "      <td>Maria</td>\n",
       "      <td>1</td>\n",
       "      <td>6</td>\n",
       "      <td>5.0</td>\n",
       "    </tr>\n",
       "  </tbody>\n",
       "</table>\n",
       "</div>"
      ],
      "text/plain": [
       "    Aluno  Faltas  Provas  Seminarios\n",
       "1  Victor       3       2         7.0\n",
       "2   Joyce       5       3         8.5\n",
       "3  Felipe       2       7         9.0\n",
       "4   Carol       1      10         8.7\n",
       "5   Maria       1       6         5.0"
      ]
     },
     "execution_count": 59,
     "metadata": {},
     "output_type": "execute_result"
    }
   ],
   "source": [
    "# Podemos modificar o indice de um dataframe igual a como modificamos o indice de uma serie\n",
    "tabela.index = np.arange(1,6)\n",
    "tabela"
   ]
  },
  {
   "cell_type": "code",
   "execution_count": 62,
   "id": "bc1c2614",
   "metadata": {},
   "outputs": [
    {
     "data": {
      "text/plain": [
       "Aluno         Victor\n",
       "Faltas             3\n",
       "Provas             2\n",
       "Seminarios       7.0\n",
       "Name: 1, dtype: object"
      ]
     },
     "execution_count": 62,
     "metadata": {},
     "output_type": "execute_result"
    }
   ],
   "source": [
    "# Lembrando sempre que o nome do indice deve ser usado na função loc para obter linhas\n",
    "tabela.loc[1]"
   ]
  },
  {
   "cell_type": "code",
   "execution_count": 63,
   "id": "68ae9dad",
   "metadata": {},
   "outputs": [
    {
     "data": {
      "text/plain": [
       "Aluno         Victor\n",
       "Faltas             3\n",
       "Provas             2\n",
       "Seminarios       7.0\n",
       "Name: 1, dtype: object"
      ]
     },
     "execution_count": 63,
     "metadata": {},
     "output_type": "execute_result"
    }
   ],
   "source": [
    "# Mas podemos usar a função iloc se quisermos usar a ordem original das linhas (começando por 0)\n",
    "tabela.iloc[0]"
   ]
  },
  {
   "cell_type": "markdown",
   "id": "db38e52c",
   "metadata": {},
   "source": [
    "### Como damos um ponto de participação a todos esses alunos?\n"
   ]
  },
  {
   "cell_type": "code",
   "execution_count": 78,
   "id": "a17aa0d0",
   "metadata": {},
   "outputs": [
    {
     "data": {
      "text/html": [
       "<div>\n",
       "<style scoped>\n",
       "    .dataframe tbody tr th:only-of-type {\n",
       "        vertical-align: middle;\n",
       "    }\n",
       "\n",
       "    .dataframe tbody tr th {\n",
       "        vertical-align: top;\n",
       "    }\n",
       "\n",
       "    .dataframe thead th {\n",
       "        text-align: right;\n",
       "    }\n",
       "</style>\n",
       "<table border=\"1\" class=\"dataframe\">\n",
       "  <thead>\n",
       "    <tr style=\"text-align: right;\">\n",
       "      <th></th>\n",
       "      <th>Aluno</th>\n",
       "      <th>Faltas</th>\n",
       "      <th>Provas</th>\n",
       "      <th>Seminarios</th>\n",
       "    </tr>\n",
       "  </thead>\n",
       "  <tbody>\n",
       "    <tr>\n",
       "      <th>0</th>\n",
       "      <td>Victor</td>\n",
       "      <td>3</td>\n",
       "      <td>2</td>\n",
       "      <td>7.0</td>\n",
       "    </tr>\n",
       "    <tr>\n",
       "      <th>1</th>\n",
       "      <td>Joyce</td>\n",
       "      <td>5</td>\n",
       "      <td>3</td>\n",
       "      <td>8.5</td>\n",
       "    </tr>\n",
       "    <tr>\n",
       "      <th>2</th>\n",
       "      <td>Felipe</td>\n",
       "      <td>2</td>\n",
       "      <td>7</td>\n",
       "      <td>9.0</td>\n",
       "    </tr>\n",
       "    <tr>\n",
       "      <th>3</th>\n",
       "      <td>Carol</td>\n",
       "      <td>1</td>\n",
       "      <td>10</td>\n",
       "      <td>8.7</td>\n",
       "    </tr>\n",
       "    <tr>\n",
       "      <th>4</th>\n",
       "      <td>Maria</td>\n",
       "      <td>1</td>\n",
       "      <td>6</td>\n",
       "      <td>5.0</td>\n",
       "    </tr>\n",
       "  </tbody>\n",
       "</table>\n",
       "</div>"
      ],
      "text/plain": [
       "    Aluno  Faltas  Provas  Seminarios\n",
       "0  Victor       3       2         7.0\n",
       "1   Joyce       5       3         8.5\n",
       "2  Felipe       2       7         9.0\n",
       "3   Carol       1      10         8.7\n",
       "4   Maria       1       6         5.0"
      ]
     },
     "execution_count": 78,
     "metadata": {},
     "output_type": "execute_result"
    }
   ],
   "source": [
    "# A forma mais comum de criar um dataframe é criando o dicionario junto com o dataframe\n",
    "tabela = pd.DataFrame({\n",
    "    'Aluno' : [\"Victor\", \"Joyce\", \"Felipe\", \"Carol\", \"Maria\"],\n",
    "    'Faltas' : [3,5,2,1,1],\n",
    "    'Provas' : [2,3,7,10,6],\n",
    "    'Seminarios' : [7.0,8.5, 9.0, 8.7, 5.0]\n",
    "})\n",
    "tabela"
   ]
  },
  {
   "cell_type": "code",
   "execution_count": 79,
   "id": "bbb2a813",
   "metadata": {},
   "outputs": [
    {
     "data": {
      "text/plain": [
       "0     8.0\n",
       "1     9.5\n",
       "2    10.0\n",
       "3     9.7\n",
       "4     6.0\n",
       "Name: Seminarios, dtype: float64"
      ]
     },
     "execution_count": 79,
     "metadata": {},
     "output_type": "execute_result"
    }
   ],
   "source": [
    "# Se eu somar um a coluna de seminarios mas não salvar essa informação, ela se perde\n",
    "tabela[\"Seminarios\"] + 1"
   ]
  },
  {
   "cell_type": "code",
   "execution_count": 80,
   "id": "aee9ae57",
   "metadata": {},
   "outputs": [
    {
     "data": {
      "text/html": [
       "<div>\n",
       "<style scoped>\n",
       "    .dataframe tbody tr th:only-of-type {\n",
       "        vertical-align: middle;\n",
       "    }\n",
       "\n",
       "    .dataframe tbody tr th {\n",
       "        vertical-align: top;\n",
       "    }\n",
       "\n",
       "    .dataframe thead th {\n",
       "        text-align: right;\n",
       "    }\n",
       "</style>\n",
       "<table border=\"1\" class=\"dataframe\">\n",
       "  <thead>\n",
       "    <tr style=\"text-align: right;\">\n",
       "      <th></th>\n",
       "      <th>Aluno</th>\n",
       "      <th>Faltas</th>\n",
       "      <th>Provas</th>\n",
       "      <th>Seminarios</th>\n",
       "    </tr>\n",
       "  </thead>\n",
       "  <tbody>\n",
       "    <tr>\n",
       "      <th>0</th>\n",
       "      <td>Victor</td>\n",
       "      <td>3</td>\n",
       "      <td>2</td>\n",
       "      <td>7.0</td>\n",
       "    </tr>\n",
       "    <tr>\n",
       "      <th>1</th>\n",
       "      <td>Joyce</td>\n",
       "      <td>5</td>\n",
       "      <td>3</td>\n",
       "      <td>8.5</td>\n",
       "    </tr>\n",
       "    <tr>\n",
       "      <th>2</th>\n",
       "      <td>Felipe</td>\n",
       "      <td>2</td>\n",
       "      <td>7</td>\n",
       "      <td>9.0</td>\n",
       "    </tr>\n",
       "    <tr>\n",
       "      <th>3</th>\n",
       "      <td>Carol</td>\n",
       "      <td>1</td>\n",
       "      <td>10</td>\n",
       "      <td>8.7</td>\n",
       "    </tr>\n",
       "    <tr>\n",
       "      <th>4</th>\n",
       "      <td>Maria</td>\n",
       "      <td>1</td>\n",
       "      <td>6</td>\n",
       "      <td>5.0</td>\n",
       "    </tr>\n",
       "  </tbody>\n",
       "</table>\n",
       "</div>"
      ],
      "text/plain": [
       "    Aluno  Faltas  Provas  Seminarios\n",
       "0  Victor       3       2         7.0\n",
       "1   Joyce       5       3         8.5\n",
       "2  Felipe       2       7         9.0\n",
       "3   Carol       1      10         8.7\n",
       "4   Maria       1       6         5.0"
      ]
     },
     "execution_count": 80,
     "metadata": {},
     "output_type": "execute_result"
    }
   ],
   "source": [
    "# A tabela continua sem o resultado\n",
    "tabela"
   ]
  },
  {
   "cell_type": "code",
   "execution_count": 81,
   "id": "c0fbdf7b",
   "metadata": {},
   "outputs": [
    {
     "data": {
      "text/html": [
       "<div>\n",
       "<style scoped>\n",
       "    .dataframe tbody tr th:only-of-type {\n",
       "        vertical-align: middle;\n",
       "    }\n",
       "\n",
       "    .dataframe tbody tr th {\n",
       "        vertical-align: top;\n",
       "    }\n",
       "\n",
       "    .dataframe thead th {\n",
       "        text-align: right;\n",
       "    }\n",
       "</style>\n",
       "<table border=\"1\" class=\"dataframe\">\n",
       "  <thead>\n",
       "    <tr style=\"text-align: right;\">\n",
       "      <th></th>\n",
       "      <th>Aluno</th>\n",
       "      <th>Faltas</th>\n",
       "      <th>Provas</th>\n",
       "      <th>Seminarios</th>\n",
       "    </tr>\n",
       "  </thead>\n",
       "  <tbody>\n",
       "    <tr>\n",
       "      <th>0</th>\n",
       "      <td>Victor</td>\n",
       "      <td>3</td>\n",
       "      <td>2</td>\n",
       "      <td>8.0</td>\n",
       "    </tr>\n",
       "    <tr>\n",
       "      <th>1</th>\n",
       "      <td>Joyce</td>\n",
       "      <td>5</td>\n",
       "      <td>3</td>\n",
       "      <td>9.5</td>\n",
       "    </tr>\n",
       "    <tr>\n",
       "      <th>2</th>\n",
       "      <td>Felipe</td>\n",
       "      <td>2</td>\n",
       "      <td>7</td>\n",
       "      <td>10.0</td>\n",
       "    </tr>\n",
       "    <tr>\n",
       "      <th>3</th>\n",
       "      <td>Carol</td>\n",
       "      <td>1</td>\n",
       "      <td>10</td>\n",
       "      <td>9.7</td>\n",
       "    </tr>\n",
       "    <tr>\n",
       "      <th>4</th>\n",
       "      <td>Maria</td>\n",
       "      <td>1</td>\n",
       "      <td>6</td>\n",
       "      <td>6.0</td>\n",
       "    </tr>\n",
       "  </tbody>\n",
       "</table>\n",
       "</div>"
      ],
      "text/plain": [
       "    Aluno  Faltas  Provas  Seminarios\n",
       "0  Victor       3       2         8.0\n",
       "1   Joyce       5       3         9.5\n",
       "2  Felipe       2       7        10.0\n",
       "3   Carol       1      10         9.7\n",
       "4   Maria       1       6         6.0"
      ]
     },
     "execution_count": 81,
     "metadata": {},
     "output_type": "execute_result"
    }
   ],
   "source": [
    "# Se eu quero alterar a informação devo colocar que a tabela de seminarios vai receber uma nova serie, que vai ser\n",
    "# igual a anterior + 1 em todos os elementos\n",
    "tabela[\"Seminarios\"] = tabela[\"Seminarios\"] + 1\n",
    "tabela"
   ]
  },
  {
   "cell_type": "code",
   "execution_count": 82,
   "id": "6bf78e4e",
   "metadata": {},
   "outputs": [],
   "source": [
    "# Posso fazer operações com as colunas, pois cada coluna é uma serie\n",
    "medias = (tabela[\"Provas\"] + tabela[\"Seminarios\"] )/2\n",
    "medias?"
   ]
  },
  {
   "cell_type": "code",
   "execution_count": 70,
   "id": "135a9874",
   "metadata": {},
   "outputs": [
    {
     "data": {
      "text/html": [
       "<div>\n",
       "<style scoped>\n",
       "    .dataframe tbody tr th:only-of-type {\n",
       "        vertical-align: middle;\n",
       "    }\n",
       "\n",
       "    .dataframe tbody tr th {\n",
       "        vertical-align: top;\n",
       "    }\n",
       "\n",
       "    .dataframe thead th {\n",
       "        text-align: right;\n",
       "    }\n",
       "</style>\n",
       "<table border=\"1\" class=\"dataframe\">\n",
       "  <thead>\n",
       "    <tr style=\"text-align: right;\">\n",
       "      <th></th>\n",
       "      <th>Aluno</th>\n",
       "      <th>Faltas</th>\n",
       "      <th>Provas</th>\n",
       "      <th>Seminarios</th>\n",
       "      <th>Medias</th>\n",
       "    </tr>\n",
       "  </thead>\n",
       "  <tbody>\n",
       "    <tr>\n",
       "      <th>1</th>\n",
       "      <td>Victor</td>\n",
       "      <td>3</td>\n",
       "      <td>2</td>\n",
       "      <td>8.0</td>\n",
       "      <td>5.00</td>\n",
       "    </tr>\n",
       "    <tr>\n",
       "      <th>2</th>\n",
       "      <td>Joyce</td>\n",
       "      <td>5</td>\n",
       "      <td>3</td>\n",
       "      <td>9.5</td>\n",
       "      <td>6.25</td>\n",
       "    </tr>\n",
       "    <tr>\n",
       "      <th>3</th>\n",
       "      <td>Felipe</td>\n",
       "      <td>2</td>\n",
       "      <td>7</td>\n",
       "      <td>10.0</td>\n",
       "      <td>8.50</td>\n",
       "    </tr>\n",
       "    <tr>\n",
       "      <th>4</th>\n",
       "      <td>Carol</td>\n",
       "      <td>1</td>\n",
       "      <td>10</td>\n",
       "      <td>9.7</td>\n",
       "      <td>9.85</td>\n",
       "    </tr>\n",
       "    <tr>\n",
       "      <th>5</th>\n",
       "      <td>Maria</td>\n",
       "      <td>1</td>\n",
       "      <td>6</td>\n",
       "      <td>6.0</td>\n",
       "      <td>6.00</td>\n",
       "    </tr>\n",
       "  </tbody>\n",
       "</table>\n",
       "</div>"
      ],
      "text/plain": [
       "    Aluno  Faltas  Provas  Seminarios  Medias\n",
       "1  Victor       3       2         8.0    5.00\n",
       "2   Joyce       5       3         9.5    6.25\n",
       "3  Felipe       2       7        10.0    8.50\n",
       "4   Carol       1      10         9.7    9.85\n",
       "5   Maria       1       6         6.0    6.00"
      ]
     },
     "execution_count": 70,
     "metadata": {},
     "output_type": "execute_result"
    }
   ],
   "source": [
    "# Para adicionar novas colunas no dataframe eu posso chamar uma coluna que ainda não existe\n",
    "# E atribuir uma serie naquela coluna. Contanto que o indice da serie seja igual ao indice do dataframe\n",
    "# A coluna será adicionada\n",
    "tabela[\"Medias\"] = medias\n",
    "tabela"
   ]
  },
  {
   "cell_type": "code",
   "execution_count": 83,
   "id": "c790cb51",
   "metadata": {},
   "outputs": [
    {
     "data": {
      "text/plain": [
       "2.4"
      ]
     },
     "execution_count": 83,
     "metadata": {},
     "output_type": "execute_result"
    }
   ],
   "source": [
    "# Como cada coluna é uma serie podemos chamar as funcoes de serie nas colunas para obter informações como a media de uma\n",
    "# coluna\n",
    "media_faltas = tabela[\"Faltas\"].mean()\n",
    "media_faltas"
   ]
  },
  {
   "cell_type": "code",
   "execution_count": 84,
   "id": "9edec997",
   "metadata": {},
   "outputs": [
    {
     "data": {
      "text/plain": [
       "Aluno         Victor\n",
       "Faltas             5\n",
       "Provas            10\n",
       "Seminarios      10.0\n",
       "dtype: object"
      ]
     },
     "execution_count": 84,
     "metadata": {},
     "output_type": "execute_result"
    }
   ],
   "source": [
    "# O data frame também possui essas funcoes. Elas sao aplicadas a cada coluna e o resultado é uma Serie\n",
    "tabela.max()"
   ]
  },
  {
   "cell_type": "code",
   "execution_count": 85,
   "id": "4ec3b886",
   "metadata": {},
   "outputs": [
    {
     "data": {
      "text/plain": [
       "Aluno         Carol\n",
       "Faltas            1\n",
       "Provas            2\n",
       "Seminarios      6.0\n",
       "dtype: object"
      ]
     },
     "execution_count": 85,
     "metadata": {},
     "output_type": "execute_result"
    }
   ],
   "source": [
    "tabela.min()"
   ]
  },
  {
   "cell_type": "code",
   "execution_count": 86,
   "id": "6032e8e0",
   "metadata": {},
   "outputs": [
    {
     "data": {
      "text/plain": [
       "Faltas        2.40\n",
       "Provas        5.60\n",
       "Seminarios    8.64\n",
       "dtype: float64"
      ]
     },
     "execution_count": 86,
     "metadata": {},
     "output_type": "execute_result"
    }
   ],
   "source": [
    "tabela.mean()"
   ]
  },
  {
   "cell_type": "code",
   "execution_count": 87,
   "id": "1a35c4d6",
   "metadata": {},
   "outputs": [
    {
     "data": {
      "text/plain": [
       "0    4.333333\n",
       "1    5.833333\n",
       "2    6.333333\n",
       "3    6.900000\n",
       "4    4.333333\n",
       "dtype: float64"
      ]
     },
     "execution_count": 87,
     "metadata": {},
     "output_type": "execute_result"
    }
   ],
   "source": [
    "# Interessante notar que sempre são aplicados as colunas.\n",
    "# Caso deseje aplicar para as linhas digite axis=1 dentro do metodo\n",
    "tabela.mean(axis=1)\n",
    "# axis 0 == media das colunas, 1 == das linhas. O padrão é 0"
   ]
  },
  {
   "cell_type": "code",
   "execution_count": 88,
   "id": "56d950c4",
   "metadata": {},
   "outputs": [
    {
     "data": {
      "text/html": [
       "<div>\n",
       "<style scoped>\n",
       "    .dataframe tbody tr th:only-of-type {\n",
       "        vertical-align: middle;\n",
       "    }\n",
       "\n",
       "    .dataframe tbody tr th {\n",
       "        vertical-align: top;\n",
       "    }\n",
       "\n",
       "    .dataframe thead th {\n",
       "        text-align: right;\n",
       "    }\n",
       "</style>\n",
       "<table border=\"1\" class=\"dataframe\">\n",
       "  <thead>\n",
       "    <tr style=\"text-align: right;\">\n",
       "      <th></th>\n",
       "      <th>Aluno</th>\n",
       "      <th>Faltas</th>\n",
       "      <th>Provas</th>\n",
       "      <th>Seminarios</th>\n",
       "    </tr>\n",
       "  </thead>\n",
       "  <tbody>\n",
       "    <tr>\n",
       "      <th>0</th>\n",
       "      <td>Victor</td>\n",
       "      <td>3</td>\n",
       "      <td>2</td>\n",
       "      <td>8.0</td>\n",
       "    </tr>\n",
       "    <tr>\n",
       "      <th>1</th>\n",
       "      <td>Joyce</td>\n",
       "      <td>5</td>\n",
       "      <td>3</td>\n",
       "      <td>9.5</td>\n",
       "    </tr>\n",
       "  </tbody>\n",
       "</table>\n",
       "</div>"
      ],
      "text/plain": [
       "    Aluno  Faltas  Provas  Seminarios\n",
       "0  Victor       3       2         8.0\n",
       "1   Joyce       5       3         9.5"
      ]
     },
     "execution_count": 88,
     "metadata": {},
     "output_type": "execute_result"
    }
   ],
   "source": [
    "filtro = pd.Series([True, True, False, False, False])\n",
    "# Podemos passar dentro dos corchetes uma serie de verdadeiros e falsos, que representa um filtro\n",
    "# Se essa serie tiver o mesmo indice do dataframe, cada linha verdadeira será impressa como resultado\n",
    "tabela[filtro]"
   ]
  },
  {
   "cell_type": "code",
   "execution_count": 90,
   "id": "99753790",
   "metadata": {},
   "outputs": [
    {
     "data": {
      "text/html": [
       "<div>\n",
       "<style scoped>\n",
       "    .dataframe tbody tr th:only-of-type {\n",
       "        vertical-align: middle;\n",
       "    }\n",
       "\n",
       "    .dataframe tbody tr th {\n",
       "        vertical-align: top;\n",
       "    }\n",
       "\n",
       "    .dataframe thead th {\n",
       "        text-align: right;\n",
       "    }\n",
       "</style>\n",
       "<table border=\"1\" class=\"dataframe\">\n",
       "  <thead>\n",
       "    <tr style=\"text-align: right;\">\n",
       "      <th></th>\n",
       "      <th>Aluno</th>\n",
       "      <th>Faltas</th>\n",
       "      <th>Provas</th>\n",
       "      <th>Seminarios</th>\n",
       "    </tr>\n",
       "  </thead>\n",
       "  <tbody>\n",
       "    <tr>\n",
       "      <th>0</th>\n",
       "      <td>Victor</td>\n",
       "      <td>3</td>\n",
       "      <td>2</td>\n",
       "      <td>8.0</td>\n",
       "    </tr>\n",
       "    <tr>\n",
       "      <th>1</th>\n",
       "      <td>Joyce</td>\n",
       "      <td>5</td>\n",
       "      <td>3</td>\n",
       "      <td>9.5</td>\n",
       "    </tr>\n",
       "  </tbody>\n",
       "</table>\n",
       "</div>"
      ],
      "text/plain": [
       "    Aluno  Faltas  Provas  Seminarios\n",
       "0  Victor       3       2         8.0\n",
       "1   Joyce       5       3         9.5"
      ]
     },
     "execution_count": 90,
     "metadata": {},
     "output_type": "execute_result"
    }
   ],
   "source": [
    "# Sendo assim podemos fazer consultas ao dataframe dessa forma.\n",
    "# tabela[\"Faltas\"] > media_faltas vai me retornar uma serie de verdadeiros e falsos, passando isso dentro do df[]\n",
    "# obterei as linhas que possuem seu numero de faltas superior a media_faltas\n",
    "tabela[tabela[\"Faltas\"] > media_faltas]"
   ]
  },
  {
   "cell_type": "code",
   "execution_count": 92,
   "id": "37503d28",
   "metadata": {},
   "outputs": [
    {
     "data": {
      "text/html": [
       "<div>\n",
       "<style scoped>\n",
       "    .dataframe tbody tr th:only-of-type {\n",
       "        vertical-align: middle;\n",
       "    }\n",
       "\n",
       "    .dataframe tbody tr th {\n",
       "        vertical-align: top;\n",
       "    }\n",
       "\n",
       "    .dataframe thead th {\n",
       "        text-align: right;\n",
       "    }\n",
       "</style>\n",
       "<table border=\"1\" class=\"dataframe\">\n",
       "  <thead>\n",
       "    <tr style=\"text-align: right;\">\n",
       "      <th></th>\n",
       "      <th>Aluno</th>\n",
       "      <th>Faltas</th>\n",
       "      <th>Provas</th>\n",
       "      <th>Seminarios</th>\n",
       "    </tr>\n",
       "  </thead>\n",
       "  <tbody>\n",
       "    <tr>\n",
       "      <th>0</th>\n",
       "      <td>Victor</td>\n",
       "      <td>3</td>\n",
       "      <td>2</td>\n",
       "      <td>8.0</td>\n",
       "    </tr>\n",
       "    <tr>\n",
       "      <th>1</th>\n",
       "      <td>Joyce</td>\n",
       "      <td>5</td>\n",
       "      <td>3</td>\n",
       "      <td>9.5</td>\n",
       "    </tr>\n",
       "    <tr>\n",
       "      <th>3</th>\n",
       "      <td>Carol</td>\n",
       "      <td>1</td>\n",
       "      <td>10</td>\n",
       "      <td>9.7</td>\n",
       "    </tr>\n",
       "  </tbody>\n",
       "</table>\n",
       "</div>"
      ],
      "text/plain": [
       "    Aluno  Faltas  Provas  Seminarios\n",
       "0  Victor       3       2         8.0\n",
       "1   Joyce       5       3         9.5\n",
       "3   Carol       1      10         9.7"
      ]
     },
     "execution_count": 92,
     "metadata": {},
     "output_type": "execute_result"
    }
   ],
   "source": [
    "# And é representado por &\n",
    "# Or é representado por |\n",
    "# Not é representado por ~\n",
    "\n",
    "# Podemos usar múltiplas condições:\n",
    "tabela[ (tabela[\"Faltas\"] > media_faltas) | (tabela[\"Provas\"] == 10)]"
   ]
  },
  {
   "cell_type": "code",
   "execution_count": 93,
   "id": "c23da748",
   "metadata": {},
   "outputs": [
    {
     "data": {
      "text/html": [
       "<div>\n",
       "<style scoped>\n",
       "    .dataframe tbody tr th:only-of-type {\n",
       "        vertical-align: middle;\n",
       "    }\n",
       "\n",
       "    .dataframe tbody tr th {\n",
       "        vertical-align: top;\n",
       "    }\n",
       "\n",
       "    .dataframe thead th {\n",
       "        text-align: right;\n",
       "    }\n",
       "</style>\n",
       "<table border=\"1\" class=\"dataframe\">\n",
       "  <thead>\n",
       "    <tr style=\"text-align: right;\">\n",
       "      <th></th>\n",
       "      <th>Aluno</th>\n",
       "      <th>Faltas</th>\n",
       "      <th>Provas</th>\n",
       "      <th>Seminarios</th>\n",
       "    </tr>\n",
       "  </thead>\n",
       "  <tbody>\n",
       "    <tr>\n",
       "      <th>3</th>\n",
       "      <td>Carol</td>\n",
       "      <td>1</td>\n",
       "      <td>10</td>\n",
       "      <td>9.7</td>\n",
       "    </tr>\n",
       "  </tbody>\n",
       "</table>\n",
       "</div>"
      ],
      "text/plain": [
       "   Aluno  Faltas  Provas  Seminarios\n",
       "3  Carol       1      10         9.7"
      ]
     },
     "execution_count": 93,
     "metadata": {},
     "output_type": "execute_result"
    }
   ],
   "source": [
    "tabela[ (tabela[\"Provas\"] == 10) & (tabela[\"Seminarios\"] >= 7 )]"
   ]
  },
  {
   "cell_type": "code",
   "execution_count": 94,
   "id": "7ccbc7a8",
   "metadata": {},
   "outputs": [
    {
     "data": {
      "text/html": [
       "<div>\n",
       "<style scoped>\n",
       "    .dataframe tbody tr th:only-of-type {\n",
       "        vertical-align: middle;\n",
       "    }\n",
       "\n",
       "    .dataframe tbody tr th {\n",
       "        vertical-align: top;\n",
       "    }\n",
       "\n",
       "    .dataframe thead th {\n",
       "        text-align: right;\n",
       "    }\n",
       "</style>\n",
       "<table border=\"1\" class=\"dataframe\">\n",
       "  <thead>\n",
       "    <tr style=\"text-align: right;\">\n",
       "      <th></th>\n",
       "      <th>Aluno</th>\n",
       "      <th>Faltas</th>\n",
       "      <th>Provas</th>\n",
       "      <th>Seminarios</th>\n",
       "    </tr>\n",
       "  </thead>\n",
       "  <tbody>\n",
       "    <tr>\n",
       "      <th>2</th>\n",
       "      <td>Felipe</td>\n",
       "      <td>2</td>\n",
       "      <td>7</td>\n",
       "      <td>10.0</td>\n",
       "    </tr>\n",
       "  </tbody>\n",
       "</table>\n",
       "</div>"
      ],
      "text/plain": [
       "    Aluno  Faltas  Provas  Seminarios\n",
       "2  Felipe       2       7        10.0"
      ]
     },
     "execution_count": 94,
     "metadata": {},
     "output_type": "execute_result"
    }
   ],
   "source": [
    "tabela[ (tabela[\"Provas\"] >= 7) & (tabela[\"Provas\"] != 10) ]"
   ]
  },
  {
   "cell_type": "code",
   "execution_count": 95,
   "id": "c9e8268e",
   "metadata": {},
   "outputs": [
    {
     "data": {
      "text/html": [
       "<div>\n",
       "<style scoped>\n",
       "    .dataframe tbody tr th:only-of-type {\n",
       "        vertical-align: middle;\n",
       "    }\n",
       "\n",
       "    .dataframe tbody tr th {\n",
       "        vertical-align: top;\n",
       "    }\n",
       "\n",
       "    .dataframe thead th {\n",
       "        text-align: right;\n",
       "    }\n",
       "</style>\n",
       "<table border=\"1\" class=\"dataframe\">\n",
       "  <thead>\n",
       "    <tr style=\"text-align: right;\">\n",
       "      <th></th>\n",
       "      <th>Aluno</th>\n",
       "      <th>Faltas</th>\n",
       "      <th>Provas</th>\n",
       "      <th>Seminarios</th>\n",
       "    </tr>\n",
       "  </thead>\n",
       "  <tbody>\n",
       "    <tr>\n",
       "      <th>3</th>\n",
       "      <td>Carol</td>\n",
       "      <td>1</td>\n",
       "      <td>10</td>\n",
       "      <td>9.7</td>\n",
       "    </tr>\n",
       "  </tbody>\n",
       "</table>\n",
       "</div>"
      ],
      "text/plain": [
       "   Aluno  Faltas  Provas  Seminarios\n",
       "3  Carol       1      10         9.7"
      ]
     },
     "execution_count": 95,
     "metadata": {},
     "output_type": "execute_result"
    }
   ],
   "source": [
    "tabela[ (tabela[\"Provas\"] >= 7) & (tabela[\"Provas\"] == 10) ]"
   ]
  },
  {
   "cell_type": "markdown",
   "id": "8386ae62",
   "metadata": {},
   "source": [
    "### E se somarmos Dataframes?\n"
   ]
  },
  {
   "cell_type": "code",
   "execution_count": null,
   "id": "506525a5",
   "metadata": {},
   "outputs": [],
   "source": [
    "\n",
    "\n"
   ]
  },
  {
   "cell_type": "code",
   "execution_count": null,
   "id": "48bf9fba",
   "metadata": {},
   "outputs": [],
   "source": [
    "\n",
    "\n",
    "\n",
    "\n",
    "\n",
    "\n",
    "turma1.index = turma1[\"Aluno\"]\n",
    "# Se os indices forem diferentes, não vai funcionar\n",
    "# NaN == Not a Number; É um 'placeholder' para dados faltantes\n",
    "# Ele vai tentar somar o elemento que tem alguma coisa com NaN, resultando em NaN\n",
    "turma1 + turma2\n",
    "\n",
    "turma1 = pd.DataFrame({\n",
    "    'Aluno' : [\"Victor\", \"Joyce\", \"Felipe\", \"Carol\", \"Maria\"],\n",
    "    'Faltas' : [3,5,2,1,1],\n",
    "    'Provas' : [2,3,7,10,6],\n",
    "    'Seminarios' : [7.0,8.5, 9.0, 8.7, 5.0]\n",
    "})\n",
    "turma2 = pd.DataFrame({\n",
    "    'Aluno' : [\"Geysa\", \"Anderson\", \"Fred\", \"Raize\", \"Pedro\"],\n",
    "    'Faltas' : [0,1,2,1,1],\n",
    "    'Provas' : [2,3,7,10,6],\n",
    "    'Seminarios' : [7.0,8.5, 9.0, 8.7, 5.0]\n",
    "})\n",
    "turma2[\"Media\"] = (turma2[\"Provas\"] + turma2[\"Seminarios\"])/2\n",
    "# Quando um deles tem uma coluna a mais, essa coluna vem vazia\n",
    "turma1 + turma2\n",
    "\n",
    "### Para verdadeiramente unir esses dataframes preciso da função *concat*\n",
    "\n",
    "pd.concat([turma1, turma2])"
   ]
  },
  {
   "cell_type": "code",
   "execution_count": null,
   "id": "7f68242a",
   "metadata": {},
   "outputs": [],
   "source": []
  },
  {
   "cell_type": "code",
   "execution_count": null,
   "id": "be8b5bff",
   "metadata": {},
   "outputs": [],
   "source": []
  },
  {
   "cell_type": "code",
   "execution_count": null,
   "id": "aa63bc14",
   "metadata": {},
   "outputs": [],
   "source": []
  },
  {
   "cell_type": "code",
   "execution_count": null,
   "id": "8775c7ca",
   "metadata": {},
   "outputs": [],
   "source": []
  },
  {
   "cell_type": "code",
   "execution_count": null,
   "id": "ba93a42a",
   "metadata": {},
   "outputs": [],
   "source": []
  },
  {
   "cell_type": "code",
   "execution_count": null,
   "id": "31bb1d22",
   "metadata": {},
   "outputs": [],
   "source": []
  },
  {
   "cell_type": "code",
   "execution_count": null,
   "id": "36e6c044",
   "metadata": {},
   "outputs": [],
   "source": []
  },
  {
   "cell_type": "code",
   "execution_count": null,
   "id": "c2f0eb9c",
   "metadata": {},
   "outputs": [],
   "source": []
  },
  {
   "cell_type": "markdown",
   "id": "08bc2f9f",
   "metadata": {},
   "source": [
    "# Notebook usado em sala"
   ]
  },
  {
   "cell_type": "code",
   "execution_count": 1,
   "id": "b6078721",
   "metadata": {},
   "outputs": [],
   "source": [
    "import pandas as pd"
   ]
  },
  {
   "cell_type": "code",
   "execution_count": 3,
   "id": "dd74e81d",
   "metadata": {},
   "outputs": [
    {
     "data": {
      "text/html": [
       "<div>\n",
       "<style scoped>\n",
       "    .dataframe tbody tr th:only-of-type {\n",
       "        vertical-align: middle;\n",
       "    }\n",
       "\n",
       "    .dataframe tbody tr th {\n",
       "        vertical-align: top;\n",
       "    }\n",
       "\n",
       "    .dataframe thead th {\n",
       "        text-align: right;\n",
       "    }\n",
       "</style>\n",
       "<table border=\"1\" class=\"dataframe\">\n",
       "  <thead>\n",
       "    <tr style=\"text-align: right;\">\n",
       "      <th></th>\n",
       "      <th>Aluno</th>\n",
       "      <th>Faltas</th>\n",
       "      <th>Provas</th>\n",
       "      <th>Seminario</th>\n",
       "    </tr>\n",
       "  </thead>\n",
       "  <tbody>\n",
       "    <tr>\n",
       "      <th>0</th>\n",
       "      <td>Cecilia</td>\n",
       "      <td>3</td>\n",
       "      <td>10</td>\n",
       "      <td>7</td>\n",
       "    </tr>\n",
       "    <tr>\n",
       "      <th>1</th>\n",
       "      <td>Celina</td>\n",
       "      <td>5</td>\n",
       "      <td>9</td>\n",
       "      <td>10</td>\n",
       "    </tr>\n",
       "    <tr>\n",
       "      <th>2</th>\n",
       "      <td>Rafael</td>\n",
       "      <td>2</td>\n",
       "      <td>8</td>\n",
       "      <td>8</td>\n",
       "    </tr>\n",
       "    <tr>\n",
       "      <th>3</th>\n",
       "      <td>Bruna</td>\n",
       "      <td>7</td>\n",
       "      <td>7</td>\n",
       "      <td>10</td>\n",
       "    </tr>\n",
       "    <tr>\n",
       "      <th>4</th>\n",
       "      <td>Eduardo</td>\n",
       "      <td>0</td>\n",
       "      <td>2</td>\n",
       "      <td>5</td>\n",
       "    </tr>\n",
       "  </tbody>\n",
       "</table>\n",
       "</div>"
      ],
      "text/plain": [
       "     Aluno  Faltas  Provas  Seminario\n",
       "0  Cecilia       3      10          7\n",
       "1   Celina       5       9         10\n",
       "2   Rafael       2       8          8\n",
       "3    Bruna       7       7         10\n",
       "4  Eduardo       0       2          5"
      ]
     },
     "execution_count": 3,
     "metadata": {},
     "output_type": "execute_result"
    }
   ],
   "source": [
    "dicionario = {\n",
    "    \"Aluno\" : [\"Cecilia\", \"Celina\", \"Rafael\", \"Bruna\", \"Eduardo\"],\n",
    "    \"Faltas\" : [3,5,2,7,0],\n",
    "    \"Provas\" : [10, 9, 8, 7, 2],\n",
    "    \"Seminario\" : [7, 10, 8, 10, 5]\n",
    "}\n",
    "\n",
    "pd.DataFrame()"
   ]
  },
  {
   "cell_type": "code",
   "execution_count": 6,
   "id": "52c6a2bc",
   "metadata": {},
   "outputs": [
    {
     "data": {
      "text/html": [
       "<div>\n",
       "<style scoped>\n",
       "    .dataframe tbody tr th:only-of-type {\n",
       "        vertical-align: middle;\n",
       "    }\n",
       "\n",
       "    .dataframe tbody tr th {\n",
       "        vertical-align: top;\n",
       "    }\n",
       "\n",
       "    .dataframe thead th {\n",
       "        text-align: right;\n",
       "    }\n",
       "</style>\n",
       "<table border=\"1\" class=\"dataframe\">\n",
       "  <thead>\n",
       "    <tr style=\"text-align: right;\">\n",
       "      <th></th>\n",
       "      <th>Aluno</th>\n",
       "      <th>Faltas</th>\n",
       "      <th>Provas</th>\n",
       "      <th>Seminario</th>\n",
       "    </tr>\n",
       "  </thead>\n",
       "  <tbody>\n",
       "    <tr>\n",
       "      <th>0</th>\n",
       "      <td>Cecilia</td>\n",
       "      <td>3</td>\n",
       "      <td>10</td>\n",
       "      <td>7</td>\n",
       "    </tr>\n",
       "    <tr>\n",
       "      <th>1</th>\n",
       "      <td>Celina</td>\n",
       "      <td>5</td>\n",
       "      <td>9</td>\n",
       "      <td>10</td>\n",
       "    </tr>\n",
       "    <tr>\n",
       "      <th>2</th>\n",
       "      <td>Rafael</td>\n",
       "      <td>2</td>\n",
       "      <td>8</td>\n",
       "      <td>8</td>\n",
       "    </tr>\n",
       "    <tr>\n",
       "      <th>3</th>\n",
       "      <td>Bruna</td>\n",
       "      <td>7</td>\n",
       "      <td>7</td>\n",
       "      <td>10</td>\n",
       "    </tr>\n",
       "    <tr>\n",
       "      <th>4</th>\n",
       "      <td>Eduardo</td>\n",
       "      <td>0</td>\n",
       "      <td>2</td>\n",
       "      <td>5</td>\n",
       "    </tr>\n",
       "  </tbody>\n",
       "</table>\n",
       "</div>"
      ],
      "text/plain": [
       "     Aluno  Faltas  Provas  Seminario\n",
       "0  Cecilia       3      10          7\n",
       "1   Celina       5       9         10\n",
       "2   Rafael       2       8          8\n",
       "3    Bruna       7       7         10\n",
       "4  Eduardo       0       2          5"
      ]
     },
     "execution_count": 6,
     "metadata": {},
     "output_type": "execute_result"
    }
   ],
   "source": [
    "tabela = pd.DataFrame({\n",
    "    \"Aluno\" : [\"Cecilia\", \"Celina\", \"Rafael\", \"Bruna\", \"Eduardo\"],\n",
    "    \"Faltas\" : [3,5,2,7,0],\n",
    "    \"Provas\" : [10, 9, 8, 7, 2],\n",
    "    \"Seminario\" : [7, 10, 8, 10, 5]\n",
    "})\n",
    "tabela"
   ]
  },
  {
   "cell_type": "code",
   "execution_count": 7,
   "id": "e2929ba8",
   "metadata": {},
   "outputs": [
    {
     "data": {
      "text/plain": [
       "Aluno        object\n",
       "Faltas        int64\n",
       "Provas        int64\n",
       "Seminario     int64\n",
       "dtype: object"
      ]
     },
     "execution_count": 7,
     "metadata": {},
     "output_type": "execute_result"
    }
   ],
   "source": [
    "tabela.dtypes"
   ]
  },
  {
   "cell_type": "code",
   "execution_count": 8,
   "id": "4f8a03c5",
   "metadata": {},
   "outputs": [
    {
     "data": {
      "text/plain": [
       "Index(['Aluno', 'Faltas', 'Provas', 'Seminario'], dtype='object')"
      ]
     },
     "execution_count": 8,
     "metadata": {},
     "output_type": "execute_result"
    }
   ],
   "source": [
    "tabela.columns"
   ]
  },
  {
   "cell_type": "code",
   "execution_count": 9,
   "id": "09de8c31",
   "metadata": {},
   "outputs": [
    {
     "data": {
      "text/plain": [
       "0    3\n",
       "1    5\n",
       "2    2\n",
       "3    7\n",
       "4    0\n",
       "Name: Faltas, dtype: int64"
      ]
     },
     "execution_count": 9,
     "metadata": {},
     "output_type": "execute_result"
    }
   ],
   "source": [
    "tabela[\"Faltas\"]"
   ]
  },
  {
   "cell_type": "code",
   "execution_count": 11,
   "id": "49bef40e",
   "metadata": {},
   "outputs": [
    {
     "data": {
      "text/plain": [
       "Aluno        Cecilia\n",
       "Faltas             3\n",
       "Provas            10\n",
       "Seminario          7\n",
       "Name: 0, dtype: object"
      ]
     },
     "execution_count": 11,
     "metadata": {},
     "output_type": "execute_result"
    }
   ],
   "source": [
    "tabela.loc[0]"
   ]
  },
  {
   "cell_type": "code",
   "execution_count": 12,
   "id": "a39997cd",
   "metadata": {},
   "outputs": [
    {
     "data": {
      "text/plain": [
       "'Cecilia'"
      ]
     },
     "execution_count": 12,
     "metadata": {},
     "output_type": "execute_result"
    }
   ],
   "source": [
    "tabela.loc[0, \"Aluno\"]"
   ]
  },
  {
   "cell_type": "code",
   "execution_count": 13,
   "id": "889ae3f3",
   "metadata": {},
   "outputs": [
    {
     "data": {
      "text/plain": [
       "'Cecilia'"
      ]
     },
     "execution_count": 13,
     "metadata": {},
     "output_type": "execute_result"
    }
   ],
   "source": [
    "tabela.iloc[0, 0]"
   ]
  },
  {
   "cell_type": "code",
   "execution_count": 15,
   "id": "5e5ede8e",
   "metadata": {},
   "outputs": [
    {
     "data": {
      "text/plain": [
       "'Cecilia'"
      ]
     },
     "execution_count": 15,
     "metadata": {},
     "output_type": "execute_result"
    }
   ],
   "source": [
    "array_de_numpy = tabela.to_numpy()\n",
    "array_de_numpy[0,0]"
   ]
  },
  {
   "cell_type": "code",
   "execution_count": 16,
   "id": "84a8d461",
   "metadata": {},
   "outputs": [
    {
     "data": {
      "text/html": [
       "<div>\n",
       "<style scoped>\n",
       "    .dataframe tbody tr th:only-of-type {\n",
       "        vertical-align: middle;\n",
       "    }\n",
       "\n",
       "    .dataframe tbody tr th {\n",
       "        vertical-align: top;\n",
       "    }\n",
       "\n",
       "    .dataframe thead th {\n",
       "        text-align: right;\n",
       "    }\n",
       "</style>\n",
       "<table border=\"1\" class=\"dataframe\">\n",
       "  <thead>\n",
       "    <tr style=\"text-align: right;\">\n",
       "      <th></th>\n",
       "      <th>Faltas</th>\n",
       "      <th>Provas</th>\n",
       "      <th>Seminario</th>\n",
       "    </tr>\n",
       "  </thead>\n",
       "  <tbody>\n",
       "    <tr>\n",
       "      <th>count</th>\n",
       "      <td>5.000000</td>\n",
       "      <td>5.000000</td>\n",
       "      <td>5.00000</td>\n",
       "    </tr>\n",
       "    <tr>\n",
       "      <th>mean</th>\n",
       "      <td>3.400000</td>\n",
       "      <td>7.200000</td>\n",
       "      <td>8.00000</td>\n",
       "    </tr>\n",
       "    <tr>\n",
       "      <th>std</th>\n",
       "      <td>2.701851</td>\n",
       "      <td>3.114482</td>\n",
       "      <td>2.12132</td>\n",
       "    </tr>\n",
       "    <tr>\n",
       "      <th>min</th>\n",
       "      <td>0.000000</td>\n",
       "      <td>2.000000</td>\n",
       "      <td>5.00000</td>\n",
       "    </tr>\n",
       "    <tr>\n",
       "      <th>25%</th>\n",
       "      <td>2.000000</td>\n",
       "      <td>7.000000</td>\n",
       "      <td>7.00000</td>\n",
       "    </tr>\n",
       "    <tr>\n",
       "      <th>50%</th>\n",
       "      <td>3.000000</td>\n",
       "      <td>8.000000</td>\n",
       "      <td>8.00000</td>\n",
       "    </tr>\n",
       "    <tr>\n",
       "      <th>75%</th>\n",
       "      <td>5.000000</td>\n",
       "      <td>9.000000</td>\n",
       "      <td>10.00000</td>\n",
       "    </tr>\n",
       "    <tr>\n",
       "      <th>max</th>\n",
       "      <td>7.000000</td>\n",
       "      <td>10.000000</td>\n",
       "      <td>10.00000</td>\n",
       "    </tr>\n",
       "  </tbody>\n",
       "</table>\n",
       "</div>"
      ],
      "text/plain": [
       "         Faltas     Provas  Seminario\n",
       "count  5.000000   5.000000    5.00000\n",
       "mean   3.400000   7.200000    8.00000\n",
       "std    2.701851   3.114482    2.12132\n",
       "min    0.000000   2.000000    5.00000\n",
       "25%    2.000000   7.000000    7.00000\n",
       "50%    3.000000   8.000000    8.00000\n",
       "75%    5.000000   9.000000   10.00000\n",
       "max    7.000000  10.000000   10.00000"
      ]
     },
     "execution_count": 16,
     "metadata": {},
     "output_type": "execute_result"
    }
   ],
   "source": [
    "tabela.describe()"
   ]
  },
  {
   "cell_type": "code",
   "execution_count": 20,
   "id": "37df8088",
   "metadata": {},
   "outputs": [
    {
     "data": {
      "text/html": [
       "<div>\n",
       "<style scoped>\n",
       "    .dataframe tbody tr th:only-of-type {\n",
       "        vertical-align: middle;\n",
       "    }\n",
       "\n",
       "    .dataframe tbody tr th {\n",
       "        vertical-align: top;\n",
       "    }\n",
       "\n",
       "    .dataframe thead th {\n",
       "        text-align: right;\n",
       "    }\n",
       "</style>\n",
       "<table border=\"1\" class=\"dataframe\">\n",
       "  <thead>\n",
       "    <tr style=\"text-align: right;\">\n",
       "      <th></th>\n",
       "      <th>Aluno</th>\n",
       "      <th>Faltas</th>\n",
       "      <th>Provas</th>\n",
       "      <th>Seminario</th>\n",
       "    </tr>\n",
       "  </thead>\n",
       "  <tbody>\n",
       "    <tr>\n",
       "      <th>4</th>\n",
       "      <td>Eduardo</td>\n",
       "      <td>0</td>\n",
       "      <td>2</td>\n",
       "      <td>5</td>\n",
       "    </tr>\n",
       "    <tr>\n",
       "      <th>0</th>\n",
       "      <td>Cecilia</td>\n",
       "      <td>3</td>\n",
       "      <td>10</td>\n",
       "      <td>7</td>\n",
       "    </tr>\n",
       "    <tr>\n",
       "      <th>2</th>\n",
       "      <td>Rafael</td>\n",
       "      <td>2</td>\n",
       "      <td>8</td>\n",
       "      <td>8</td>\n",
       "    </tr>\n",
       "    <tr>\n",
       "      <th>1</th>\n",
       "      <td>Celina</td>\n",
       "      <td>5</td>\n",
       "      <td>9</td>\n",
       "      <td>10</td>\n",
       "    </tr>\n",
       "    <tr>\n",
       "      <th>3</th>\n",
       "      <td>Bruna</td>\n",
       "      <td>7</td>\n",
       "      <td>7</td>\n",
       "      <td>10</td>\n",
       "    </tr>\n",
       "  </tbody>\n",
       "</table>\n",
       "</div>"
      ],
      "text/plain": [
       "     Aluno  Faltas  Provas  Seminario\n",
       "4  Eduardo       0       2          5\n",
       "0  Cecilia       3      10          7\n",
       "2   Rafael       2       8          8\n",
       "1   Celina       5       9         10\n",
       "3    Bruna       7       7         10"
      ]
     },
     "execution_count": 20,
     "metadata": {},
     "output_type": "execute_result"
    }
   ],
   "source": [
    "tabela.sort_values(by=\"Seminario\")"
   ]
  },
  {
   "cell_type": "code",
   "execution_count": 22,
   "id": "f3fb333c",
   "metadata": {},
   "outputs": [
    {
     "data": {
      "text/plain": [
       "0     True\n",
       "1     True\n",
       "2     True\n",
       "3     True\n",
       "4    False\n",
       "Name: Provas, dtype: bool"
      ]
     },
     "execution_count": 22,
     "metadata": {},
     "output_type": "execute_result"
    }
   ],
   "source": [
    "tabela[\"Provas\"] >= 7"
   ]
  },
  {
   "cell_type": "code",
   "execution_count": 24,
   "id": "fc420767",
   "metadata": {},
   "outputs": [
    {
     "data": {
      "text/html": [
       "<div>\n",
       "<style scoped>\n",
       "    .dataframe tbody tr th:only-of-type {\n",
       "        vertical-align: middle;\n",
       "    }\n",
       "\n",
       "    .dataframe tbody tr th {\n",
       "        vertical-align: top;\n",
       "    }\n",
       "\n",
       "    .dataframe thead th {\n",
       "        text-align: right;\n",
       "    }\n",
       "</style>\n",
       "<table border=\"1\" class=\"dataframe\">\n",
       "  <thead>\n",
       "    <tr style=\"text-align: right;\">\n",
       "      <th></th>\n",
       "      <th>Aluno</th>\n",
       "      <th>Faltas</th>\n",
       "      <th>Provas</th>\n",
       "      <th>Seminario</th>\n",
       "    </tr>\n",
       "  </thead>\n",
       "  <tbody>\n",
       "    <tr>\n",
       "      <th>0</th>\n",
       "      <td>Cecilia</td>\n",
       "      <td>3</td>\n",
       "      <td>10</td>\n",
       "      <td>7</td>\n",
       "    </tr>\n",
       "    <tr>\n",
       "      <th>1</th>\n",
       "      <td>Celina</td>\n",
       "      <td>5</td>\n",
       "      <td>9</td>\n",
       "      <td>10</td>\n",
       "    </tr>\n",
       "    <tr>\n",
       "      <th>2</th>\n",
       "      <td>Rafael</td>\n",
       "      <td>2</td>\n",
       "      <td>8</td>\n",
       "      <td>8</td>\n",
       "    </tr>\n",
       "    <tr>\n",
       "      <th>3</th>\n",
       "      <td>Bruna</td>\n",
       "      <td>7</td>\n",
       "      <td>7</td>\n",
       "      <td>10</td>\n",
       "    </tr>\n",
       "  </tbody>\n",
       "</table>\n",
       "</div>"
      ],
      "text/plain": [
       "     Aluno  Faltas  Provas  Seminario\n",
       "0  Cecilia       3      10          7\n",
       "1   Celina       5       9         10\n",
       "2   Rafael       2       8          8\n",
       "3    Bruna       7       7         10"
      ]
     },
     "execution_count": 24,
     "metadata": {},
     "output_type": "execute_result"
    }
   ],
   "source": [
    "tabela[tabela[\"Provas\"] >= 7]"
   ]
  },
  {
   "cell_type": "code",
   "execution_count": 30,
   "id": "b5f2080a",
   "metadata": {},
   "outputs": [
    {
     "data": {
      "text/html": [
       "<div>\n",
       "<style scoped>\n",
       "    .dataframe tbody tr th:only-of-type {\n",
       "        vertical-align: middle;\n",
       "    }\n",
       "\n",
       "    .dataframe tbody tr th {\n",
       "        vertical-align: top;\n",
       "    }\n",
       "\n",
       "    .dataframe thead th {\n",
       "        text-align: right;\n",
       "    }\n",
       "</style>\n",
       "<table border=\"1\" class=\"dataframe\">\n",
       "  <thead>\n",
       "    <tr style=\"text-align: right;\">\n",
       "      <th></th>\n",
       "      <th>Aluno</th>\n",
       "      <th>Faltas</th>\n",
       "      <th>Provas</th>\n",
       "      <th>Seminario</th>\n",
       "    </tr>\n",
       "  </thead>\n",
       "  <tbody>\n",
       "    <tr>\n",
       "      <th>0</th>\n",
       "      <td>Cecilia</td>\n",
       "      <td>3</td>\n",
       "      <td>10</td>\n",
       "      <td>7</td>\n",
       "    </tr>\n",
       "    <tr>\n",
       "      <th>1</th>\n",
       "      <td>Celina</td>\n",
       "      <td>5</td>\n",
       "      <td>9</td>\n",
       "      <td>10</td>\n",
       "    </tr>\n",
       "    <tr>\n",
       "      <th>2</th>\n",
       "      <td>Rafael</td>\n",
       "      <td>2</td>\n",
       "      <td>8</td>\n",
       "      <td>8</td>\n",
       "    </tr>\n",
       "    <tr>\n",
       "      <th>3</th>\n",
       "      <td>Bruna</td>\n",
       "      <td>7</td>\n",
       "      <td>7</td>\n",
       "      <td>10</td>\n",
       "    </tr>\n",
       "  </tbody>\n",
       "</table>\n",
       "</div>"
      ],
      "text/plain": [
       "     Aluno  Faltas  Provas  Seminario\n",
       "0  Cecilia       3      10          7\n",
       "1   Celina       5       9         10\n",
       "2   Rafael       2       8          8\n",
       "3    Bruna       7       7         10"
      ]
     },
     "execution_count": 30,
     "metadata": {},
     "output_type": "execute_result"
    }
   ],
   "source": [
    "provas = tabela[\"Provas\"]\n",
    "filtro = provas >= 7\n",
    "tabela[filtro]"
   ]
  },
  {
   "cell_type": "code",
   "execution_count": 33,
   "id": "c89fd13d",
   "metadata": {},
   "outputs": [
    {
     "data": {
      "text/html": [
       "<div>\n",
       "<style scoped>\n",
       "    .dataframe tbody tr th:only-of-type {\n",
       "        vertical-align: middle;\n",
       "    }\n",
       "\n",
       "    .dataframe tbody tr th {\n",
       "        vertical-align: top;\n",
       "    }\n",
       "\n",
       "    .dataframe thead th {\n",
       "        text-align: right;\n",
       "    }\n",
       "</style>\n",
       "<table border=\"1\" class=\"dataframe\">\n",
       "  <thead>\n",
       "    <tr style=\"text-align: right;\">\n",
       "      <th></th>\n",
       "      <th>Aluno</th>\n",
       "      <th>Faltas</th>\n",
       "      <th>Provas</th>\n",
       "      <th>Seminario</th>\n",
       "    </tr>\n",
       "  </thead>\n",
       "  <tbody>\n",
       "    <tr>\n",
       "      <th>0</th>\n",
       "      <td>Cecilia</td>\n",
       "      <td>3</td>\n",
       "      <td>10</td>\n",
       "      <td>7</td>\n",
       "    </tr>\n",
       "    <tr>\n",
       "      <th>1</th>\n",
       "      <td>Celina</td>\n",
       "      <td>5</td>\n",
       "      <td>9</td>\n",
       "      <td>10</td>\n",
       "    </tr>\n",
       "    <tr>\n",
       "      <th>2</th>\n",
       "      <td>Rafael</td>\n",
       "      <td>2</td>\n",
       "      <td>8</td>\n",
       "      <td>8</td>\n",
       "    </tr>\n",
       "    <tr>\n",
       "      <th>3</th>\n",
       "      <td>Bruna</td>\n",
       "      <td>7</td>\n",
       "      <td>7</td>\n",
       "      <td>10</td>\n",
       "    </tr>\n",
       "    <tr>\n",
       "      <th>4</th>\n",
       "      <td>Eduardo</td>\n",
       "      <td>0</td>\n",
       "      <td>2</td>\n",
       "      <td>5</td>\n",
       "    </tr>\n",
       "  </tbody>\n",
       "</table>\n",
       "</div>"
      ],
      "text/plain": [
       "     Aluno  Faltas  Provas  Seminario\n",
       "0  Cecilia       3      10          7\n",
       "1   Celina       5       9         10\n",
       "2   Rafael       2       8          8\n",
       "3    Bruna       7       7         10\n",
       "4  Eduardo       0       2          5"
      ]
     },
     "execution_count": 33,
     "metadata": {},
     "output_type": "execute_result"
    }
   ],
   "source": [
    "# And é representado por &\n",
    "# Or é representado por |\n",
    "# Not é representado por ~\n",
    "tabela"
   ]
  },
  {
   "cell_type": "code",
   "execution_count": 36,
   "id": "686d8050",
   "metadata": {},
   "outputs": [
    {
     "data": {
      "text/html": [
       "<div>\n",
       "<style scoped>\n",
       "    .dataframe tbody tr th:only-of-type {\n",
       "        vertical-align: middle;\n",
       "    }\n",
       "\n",
       "    .dataframe tbody tr th {\n",
       "        vertical-align: top;\n",
       "    }\n",
       "\n",
       "    .dataframe thead th {\n",
       "        text-align: right;\n",
       "    }\n",
       "</style>\n",
       "<table border=\"1\" class=\"dataframe\">\n",
       "  <thead>\n",
       "    <tr style=\"text-align: right;\">\n",
       "      <th></th>\n",
       "      <th>Aluno</th>\n",
       "      <th>Faltas</th>\n",
       "      <th>Provas</th>\n",
       "      <th>Seminario</th>\n",
       "    </tr>\n",
       "  </thead>\n",
       "  <tbody>\n",
       "    <tr>\n",
       "      <th>0</th>\n",
       "      <td>Cecilia</td>\n",
       "      <td>3</td>\n",
       "      <td>10</td>\n",
       "      <td>7</td>\n",
       "    </tr>\n",
       "    <tr>\n",
       "      <th>1</th>\n",
       "      <td>Celina</td>\n",
       "      <td>5</td>\n",
       "      <td>9</td>\n",
       "      <td>10</td>\n",
       "    </tr>\n",
       "    <tr>\n",
       "      <th>3</th>\n",
       "      <td>Bruna</td>\n",
       "      <td>7</td>\n",
       "      <td>7</td>\n",
       "      <td>10</td>\n",
       "    </tr>\n",
       "  </tbody>\n",
       "</table>\n",
       "</div>"
      ],
      "text/plain": [
       "     Aluno  Faltas  Provas  Seminario\n",
       "0  Cecilia       3      10          7\n",
       "1   Celina       5       9         10\n",
       "3    Bruna       7       7         10"
      ]
     },
     "execution_count": 36,
     "metadata": {},
     "output_type": "execute_result"
    }
   ],
   "source": [
    "tabela[(tabela[\"Provas\"] == 10) | (tabela[\"Seminario\"] == 10)]"
   ]
  },
  {
   "cell_type": "code",
   "execution_count": 37,
   "id": "a1074c04",
   "metadata": {},
   "outputs": [
    {
     "data": {
      "text/html": [
       "<div>\n",
       "<style scoped>\n",
       "    .dataframe tbody tr th:only-of-type {\n",
       "        vertical-align: middle;\n",
       "    }\n",
       "\n",
       "    .dataframe tbody tr th {\n",
       "        vertical-align: top;\n",
       "    }\n",
       "\n",
       "    .dataframe thead th {\n",
       "        text-align: right;\n",
       "    }\n",
       "</style>\n",
       "<table border=\"1\" class=\"dataframe\">\n",
       "  <thead>\n",
       "    <tr style=\"text-align: right;\">\n",
       "      <th></th>\n",
       "      <th>Aluno</th>\n",
       "      <th>Faltas</th>\n",
       "      <th>Provas</th>\n",
       "      <th>Seminario</th>\n",
       "    </tr>\n",
       "  </thead>\n",
       "  <tbody>\n",
       "    <tr>\n",
       "      <th>1</th>\n",
       "      <td>Celina</td>\n",
       "      <td>5</td>\n",
       "      <td>9</td>\n",
       "      <td>10</td>\n",
       "    </tr>\n",
       "    <tr>\n",
       "      <th>3</th>\n",
       "      <td>Bruna</td>\n",
       "      <td>7</td>\n",
       "      <td>7</td>\n",
       "      <td>10</td>\n",
       "    </tr>\n",
       "  </tbody>\n",
       "</table>\n",
       "</div>"
      ],
      "text/plain": [
       "    Aluno  Faltas  Provas  Seminario\n",
       "1  Celina       5       9         10\n",
       "3   Bruna       7       7         10"
      ]
     },
     "execution_count": 37,
     "metadata": {},
     "output_type": "execute_result"
    }
   ],
   "source": [
    "tabela[(tabela[\"Provas\"] >= 7) & (tabela[\"Seminario\"] == 10)]"
   ]
  },
  {
   "cell_type": "code",
   "execution_count": null,
   "id": "f42ee2c3",
   "metadata": {},
   "outputs": [],
   "source": []
  }
 ],
 "metadata": {
  "kernelspec": {
   "display_name": "Python 3",
   "language": "python",
   "name": "python3"
  },
  "language_info": {
   "codemirror_mode": {
    "name": "ipython",
    "version": 3
   },
   "file_extension": ".py",
   "mimetype": "text/x-python",
   "name": "python",
   "nbconvert_exporter": "python",
   "pygments_lexer": "ipython3",
   "version": "3.8.8"
  }
 },
 "nbformat": 4,
 "nbformat_minor": 5
}
