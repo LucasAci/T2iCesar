{
 "cells": [
  {
   "cell_type": "code",
   "execution_count": 1,
   "id": "95da3d64",
   "metadata": {},
   "outputs": [],
   "source": [
    "import pandas as pd"
   ]
  },
  {
   "cell_type": "code",
   "execution_count": 2,
   "id": "b24a6427",
   "metadata": {},
   "outputs": [
    {
     "data": {
      "text/html": [
       "<div>\n",
       "<style scoped>\n",
       "    .dataframe tbody tr th:only-of-type {\n",
       "        vertical-align: middle;\n",
       "    }\n",
       "\n",
       "    .dataframe tbody tr th {\n",
       "        vertical-align: top;\n",
       "    }\n",
       "\n",
       "    .dataframe thead th {\n",
       "        text-align: right;\n",
       "    }\n",
       "</style>\n",
       "<table border=\"1\" class=\"dataframe\">\n",
       "  <thead>\n",
       "    <tr style=\"text-align: right;\">\n",
       "      <th></th>\n",
       "      <th>Aluno</th>\n",
       "      <th>Prova</th>\n",
       "      <th>Seminario</th>\n",
       "    </tr>\n",
       "  </thead>\n",
       "  <tbody>\n",
       "    <tr>\n",
       "      <th>0</th>\n",
       "      <td>Eduardo</td>\n",
       "      <td>1</td>\n",
       "      <td>10</td>\n",
       "    </tr>\n",
       "    <tr>\n",
       "      <th>1</th>\n",
       "      <td>Joyce</td>\n",
       "      <td>9</td>\n",
       "      <td>5</td>\n",
       "    </tr>\n",
       "    <tr>\n",
       "      <th>2</th>\n",
       "      <td>João Pedro</td>\n",
       "      <td>8</td>\n",
       "      <td>7</td>\n",
       "    </tr>\n",
       "  </tbody>\n",
       "</table>\n",
       "</div>"
      ],
      "text/plain": [
       "        Aluno  Prova  Seminario\n",
       "0     Eduardo      1         10\n",
       "1       Joyce      9          5\n",
       "2  João Pedro      8          7"
      ]
     },
     "execution_count": 2,
     "metadata": {},
     "output_type": "execute_result"
    }
   ],
   "source": [
    "exemplo = pd.DataFrame({\n",
    "    \"Aluno\": [\"Eduardo\",\"Joyce\",\"João Pedro\"],\n",
    "    \"Prova\": [1,9,8],\n",
    "    \"Seminario\": [10,5,7]\n",
    "})\n",
    "exemplo"
   ]
  },
  {
   "cell_type": "code",
   "execution_count": 3,
   "id": "479e9da6",
   "metadata": {},
   "outputs": [
    {
     "data": {
      "text/plain": [
       "<AxesSubplot:>"
      ]
     },
     "execution_count": 3,
     "metadata": {},
     "output_type": "execute_result"
    },
    {
     "data": {
      "image/png": "[encoded data removed]",
      "text/plain": [
       "<Figure size 432x288 with 1 Axes>"
      ]
     },
     "metadata": {
      "needs_background": "light"
     },
     "output_type": "display_data"
    }
   ],
   "source": [
    "exemplo[\"Prova\"].plot.bar()"
   ]
  },
  {
   "cell_type": "code",
   "execution_count": 4,
   "id": "2eb39da0",
   "metadata": {},
   "outputs": [],
   "source": [
    "exemplo.index = exemplo[\"Aluno\"]\n",
    "exemplo.plot.bar?"
   ]
  },
  {
   "cell_type": "code",
   "execution_count": 5,
   "id": "0c0fcbbe",
   "metadata": {},
   "outputs": [
    {
     "data": {
      "text/plain": [
       "<AxesSubplot:xlabel='Aluno'>"
      ]
     },
     "execution_count": 5,
     "metadata": {},
     "output_type": "execute_result"
    },
    {
     "data": {
      "image/png": "[encoded data removed]",
      "text/plain": [
       "<Figure size 432x288 with 1 Axes>"
      ]
     },
     "metadata": {
      "needs_background": "light"
     },
     "output_type": "display_data"
    }
   ],
   "source": [
    "exemplo.plot.bar()"
   ]
  },
  {
   "cell_type": "code",
   "execution_count": null,
   "id": "54f616a1",
   "metadata": {},
   "outputs": [],
   "source": []
  },
  {
   "cell_type": "code",
   "execution_count": 6,
   "id": "2ab567fe",
   "metadata": {},
   "outputs": [
    {
     "data": {
      "text/html": [
       "<div>\n",
       "<style scoped>\n",
       "    .dataframe tbody tr th:only-of-type {\n",
       "        vertical-align: middle;\n",
       "    }\n",
       "\n",
       "    .dataframe tbody tr th {\n",
       "        vertical-align: top;\n",
       "    }\n",
       "\n",
       "    .dataframe thead th {\n",
       "        text-align: right;\n",
       "    }\n",
       "</style>\n",
       "<table border=\"1\" class=\"dataframe\">\n",
       "  <thead>\n",
       "    <tr style=\"text-align: right;\">\n",
       "      <th></th>\n",
       "      <th>tiporesiduo</th>\n",
       "      <th>bairro</th>\n",
       "      <th>endereco</th>\n",
       "      <th>complemento</th>\n",
       "      <th>observacao</th>\n",
       "      <th>latitude</th>\n",
       "      <th>longitude</th>\n",
       "    </tr>\n",
       "  </thead>\n",
       "  <tbody>\n",
       "    <tr>\n",
       "      <th>0</th>\n",
       "      <td>metal,isopor,papel,plastico,vidro</td>\n",
       "      <td>Recife</td>\n",
       "      <td>Av. Cais do Apolo</td>\n",
       "      <td>Prefeitura do Recife (área interna )</td>\n",
       "      <td>Prefeitura do Recife</td>\n",
       "      <td>-8.054732</td>\n",
       "      <td>-34.872078</td>\n",
       "    </tr>\n",
       "    <tr>\n",
       "      <th>1</th>\n",
       "      <td>metal,isopor,papel,plastico,vidro</td>\n",
       "      <td>Recife</td>\n",
       "      <td>Rua do Bom Jesus</td>\n",
       "      <td>Em frente ao Museu Arq. e Pça do Arsenal</td>\n",
       "      <td>Ecoponto</td>\n",
       "      <td>-8.061468</td>\n",
       "      <td>-34.871037\"</td>\n",
       "    </tr>\n",
       "    <tr>\n",
       "      <th>2</th>\n",
       "      <td>metal,isopor,papel,plastico,vidro</td>\n",
       "      <td>Recife</td>\n",
       "      <td>Av. Marques de Olinda</td>\n",
       "      <td>Calçada da cimento nassau( em frete ao marco z...</td>\n",
       "      <td>Ecoponto</td>\n",
       "      <td>-8.063282</td>\n",
       "      <td>-34.871568</td>\n",
       "    </tr>\n",
       "    <tr>\n",
       "      <th>3</th>\n",
       "      <td>metal,isopor,papel,plastico,vidro</td>\n",
       "      <td>Recife</td>\n",
       "      <td>Av. Rio Branco</td>\n",
       "      <td>Calçada do Banco do Brasil</td>\n",
       "      <td>Ecoponto</td>\n",
       "      <td>-8.062334</td>\n",
       "      <td>-34.873668</td>\n",
       "    </tr>\n",
       "    <tr>\n",
       "      <th>4</th>\n",
       "      <td>metal,isopor,papel,plastico,vidro</td>\n",
       "      <td>Recife</td>\n",
       "      <td>Av. Rio Branco</td>\n",
       "      <td>Em frente a delgacia</td>\n",
       "      <td>Ecoponto</td>\n",
       "      <td>-8.062777</td>\n",
       "      <td>-34.872173</td>\n",
       "    </tr>\n",
       "    <tr>\n",
       "      <th>...</th>\n",
       "      <td>...</td>\n",
       "      <td>...</td>\n",
       "      <td>...</td>\n",
       "      <td>...</td>\n",
       "      <td>...</td>\n",
       "      <td>...</td>\n",
       "      <td>...</td>\n",
       "    </tr>\n",
       "    <tr>\n",
       "      <th>130</th>\n",
       "      <td>Pneu</td>\n",
       "      <td>Madalena</td>\n",
       "      <td>Av. Abdias de Carvalho, 341</td>\n",
       "      <td>Pneus Pirelle</td>\n",
       "      <td>NaN</td>\n",
       "      <td>-8.061416</td>\n",
       "      <td>-34.9087182</td>\n",
       "    </tr>\n",
       "    <tr>\n",
       "      <th>131</th>\n",
       "      <td>Pneu</td>\n",
       "      <td>Espinheiro</td>\n",
       "      <td>Av. Norte, 2261</td>\n",
       "      <td>Bridgestone Pneus</td>\n",
       "      <td>NaN</td>\n",
       "      <td>-8.039216</td>\n",
       "      <td>-34.893334</td>\n",
       "    </tr>\n",
       "    <tr>\n",
       "      <th>132</th>\n",
       "      <td>Pneu</td>\n",
       "      <td>São José</td>\n",
       "      <td>Rua Lourenço de Sá, 165</td>\n",
       "      <td>Pneu Verde</td>\n",
       "      <td>NaN</td>\n",
       "      <td>-8.074329</td>\n",
       "      <td>-34.8980205</td>\n",
       "    </tr>\n",
       "    <tr>\n",
       "      <th>133</th>\n",
       "      <td>Lampada</td>\n",
       "      <td>Imbiribeira</td>\n",
       "      <td>Rua Francisco Correa de Moraes, 100</td>\n",
       "      <td>Carrefour RBV Boa Viagem</td>\n",
       "      <td>NaN</td>\n",
       "      <td>-8.124149</td>\n",
       "      <td>-34.9132995</td>\n",
       "    </tr>\n",
       "    <tr>\n",
       "      <th>134</th>\n",
       "      <td>Lampada</td>\n",
       "      <td>Torre</td>\n",
       "      <td>Rua José Bonifácio, 1315</td>\n",
       "      <td>Carrefour REC Recife</td>\n",
       "      <td>NaN</td>\n",
       "      <td>-8.040445</td>\n",
       "      <td>-34.9125314</td>\n",
       "    </tr>\n",
       "  </tbody>\n",
       "</table>\n",
       "<p>135 rows × 7 columns</p>\n",
       "</div>"
      ],
      "text/plain": [
       "                           tiporesiduo       bairro  \\\n",
       "0    metal,isopor,papel,plastico,vidro       Recife   \n",
       "1    metal,isopor,papel,plastico,vidro       Recife   \n",
       "2    metal,isopor,papel,plastico,vidro       Recife   \n",
       "3    metal,isopor,papel,plastico,vidro       Recife   \n",
       "4    metal,isopor,papel,plastico,vidro       Recife   \n",
       "..                                 ...          ...   \n",
       "130                               Pneu     Madalena   \n",
       "131                               Pneu   Espinheiro   \n",
       "132                               Pneu     São José   \n",
       "133                            Lampada  Imbiribeira   \n",
       "134                            Lampada        Torre   \n",
       "\n",
       "                                endereco  \\\n",
       "0                      Av. Cais do Apolo   \n",
       "1                       Rua do Bom Jesus   \n",
       "2                  Av. Marques de Olinda   \n",
       "3                         Av. Rio Branco   \n",
       "4                         Av. Rio Branco   \n",
       "..                                   ...   \n",
       "130          Av. Abdias de Carvalho, 341   \n",
       "131                      Av. Norte, 2261   \n",
       "132              Rua Lourenço de Sá, 165   \n",
       "133  Rua Francisco Correa de Moraes, 100   \n",
       "134             Rua José Bonifácio, 1315   \n",
       "\n",
       "                                           complemento            observacao  \\\n",
       "0                 Prefeitura do Recife (área interna )  Prefeitura do Recife   \n",
       "1             Em frente ao Museu Arq. e Pça do Arsenal              Ecoponto   \n",
       "2    Calçada da cimento nassau( em frete ao marco z...              Ecoponto   \n",
       "3                           Calçada do Banco do Brasil              Ecoponto   \n",
       "4                                 Em frente a delgacia              Ecoponto   \n",
       "..                                                 ...                   ...   \n",
       "130                                      Pneus Pirelle                   NaN   \n",
       "131                                  Bridgestone Pneus                   NaN   \n",
       "132                                         Pneu Verde                   NaN   \n",
       "133                           Carrefour RBV Boa Viagem                   NaN   \n",
       "134                               Carrefour REC Recife                   NaN   \n",
       "\n",
       "     latitude    longitude  \n",
       "0   -8.054732   -34.872078  \n",
       "1   -8.061468  -34.871037\"  \n",
       "2   -8.063282   -34.871568  \n",
       "3   -8.062334   -34.873668  \n",
       "4   -8.062777   -34.872173  \n",
       "..        ...          ...  \n",
       "130 -8.061416  -34.9087182  \n",
       "131 -8.039216   -34.893334  \n",
       "132 -8.074329  -34.8980205  \n",
       "133 -8.124149  -34.9132995  \n",
       "134 -8.040445  -34.9125314  \n",
       "\n",
       "[135 rows x 7 columns]"
      ]
     },
     "execution_count": 6,
     "metadata": {},
     "output_type": "execute_result"
    }
   ],
   "source": [
    "coleta = pd.read_csv('pontos-de-coletas-residuos.csv', sep=\";\")\n",
    "coleta"
   ]
  },
  {
   "cell_type": "code",
   "execution_count": 7,
   "id": "5080d235",
   "metadata": {},
   "outputs": [
    {
     "data": {
      "text/plain": [
       "<AxesSubplot:>"
      ]
     },
     "execution_count": 7,
     "metadata": {},
     "output_type": "execute_result"
    },
    {
     "data": {
      "image/png": "[encoded data removed]",
      "text/plain": [
       "<Figure size 432x288 with 1 Axes>"
      ]
     },
     "metadata": {
      "needs_background": "light"
     },
     "output_type": "display_data"
    }
   ],
   "source": [
    "coleta[\"bairro\"].value_counts().plot.bar()"
   ]
  },
  {
   "cell_type": "code",
   "execution_count": 8,
   "id": "8108d52b",
   "metadata": {},
   "outputs": [
    {
     "data": {
      "text/plain": [
       "<AxesSubplot:>"
      ]
     },
     "execution_count": 8,
     "metadata": {},
     "output_type": "execute_result"
    },
    {
     "data": {
      "image/png": "[encoded data removed]",
      "text/plain": [
       "<Figure size 432x288 with 1 Axes>"
      ]
     },
     "metadata": {
      "needs_background": "light"
     },
     "output_type": "display_data"
    }
   ],
   "source": [
    "bairro_count = coleta[\"bairro\"].value_counts()\n",
    "bairros_maior_4 = bairro_count[bairro_count >= 4]\n",
    "bairros_maior_4.plot.bar()"
   ]
  },
  {
   "cell_type": "code",
   "execution_count": 9,
   "id": "b4ffd1c4",
   "metadata": {},
   "outputs": [
    {
     "data": {
      "text/plain": [
       "Outros    75\n",
       "dtype: int64"
      ]
     },
     "execution_count": 9,
     "metadata": {},
     "output_type": "execute_result"
    }
   ],
   "source": [
    "outros = bairro_count[bairro_count < 4]\n",
    "outros_serie = pd.Series(outros.sum(), index=[\"Outros\"])\n",
    "outros_serie"
   ]
  },
  {
   "cell_type": "code",
   "execution_count": 10,
   "id": "a1f658c1",
   "metadata": {},
   "outputs": [
    {
     "data": {
      "text/plain": [
       "<AxesSubplot:>"
      ]
     },
     "execution_count": 10,
     "metadata": {},
     "output_type": "execute_result"
    },
    {
     "data": {
      "image/png": "[encoded data removed]",
      "text/plain": [
       "<Figure size 432x288 with 1 Axes>"
      ]
     },
     "metadata": {
      "needs_background": "light"
     },
     "output_type": "display_data"
    }
   ],
   "source": [
    "bairros_maior_4.append(outros_serie).plot.bar()"
   ]
  },
  {
   "cell_type": "code",
   "execution_count": 11,
   "id": "63732505",
   "metadata": {},
   "outputs": [
    {
     "data": {
      "text/plain": [
       "<AxesSubplot:ylabel='tiporesiduo'>"
      ]
     },
     "execution_count": 11,
     "metadata": {},
     "output_type": "execute_result"
    },
    {
     "data": {
      "image/png": "[encoded data removed]",
      "text/plain": [
       "<Figure size 432x288 with 1 Axes>"
      ]
     },
     "metadata": {},
     "output_type": "display_data"
    }
   ],
   "source": [
    "coleta[\"tiporesiduo\"].value_counts().plot.pie()"
   ]
  },
  {
   "cell_type": "code",
   "execution_count": 12,
   "id": "a9ae0689",
   "metadata": {},
   "outputs": [
    {
     "data": {
      "text/plain": [
       "array(['metal,isopor,papel,plastico,vidro',\n",
       "       'metal,isopor,papel,pastico,vidro',\n",
       "       'lixo organico, metralhas, móveis, materiais recicláveis, eletroeletronico, utensílios domésticos e resíduos de podas',\n",
       "       'eletrônico', 'pilhas e baterias ', 'Medicamentos',\n",
       "       ' Óleos de Cozinha',\n",
       "       'eletronico, metal,isopor,papel,plastico,vidro',\n",
       "       'eletronico, oleo de cozinha, metal,isopor,papel,plastico,vidro',\n",
       "       'Pneu', 'Lampada'], dtype=object)"
      ]
     },
     "execution_count": 12,
     "metadata": {},
     "output_type": "execute_result"
    }
   ],
   "source": [
    "coleta[\"tiporesiduo\"].unique()"
   ]
  },
  {
   "cell_type": "code",
   "execution_count": 13,
   "id": "033b5bcf",
   "metadata": {},
   "outputs": [
    {
     "data": {
      "text/plain": [
       "array(['metal,isopor,papel,plástico,vidro',\n",
       "       'lixo orgânico, metralhas, móveis, materiais recicláveis, eletroeletrônico, utensílios domésticos e resíduos de podas',\n",
       "       'eletrônico', 'pilhas e baterias', 'Medicamentos',\n",
       "       'óleo de cozinha', 'eletrônico, metal,isopor,papel,plástico,vidro',\n",
       "       'eletrônico, óleo de cozinha, metal,isopor,papel,plástico,vidro',\n",
       "       'Pneu', 'Lâmpada'], dtype=object)"
      ]
     },
     "execution_count": 13,
     "metadata": {},
     "output_type": "execute_result"
    }
   ],
   "source": [
    "coleta[\"tiporesiduo\"] = coleta[\"tiporesiduo\"].str.replace(\" Óleos de Cozinha\", \"óleo de cozinha\")\n",
    "coleta[\"tiporesiduo\"] = coleta[\"tiporesiduo\"].str.replace(\"pastico\", \"plastico\")\n",
    "coleta[\"tiporesiduo\"] = coleta[\"tiporesiduo\"].str.replace(\"plastico\", \"plástico\")\n",
    "coleta[\"tiporesiduo\"] = coleta[\"tiporesiduo\"].str.replace(\"eletronico\", \"eletrônico\")\n",
    "coleta[\"tiporesiduo\"] = coleta[\"tiporesiduo\"].str.replace(\" Óleos de Cozinha\", \"óleo de cozinha\")\n",
    "coleta[\"tiporesiduo\"] = coleta[\"tiporesiduo\"].str.replace(\"Lampada\", \"Lâmpada\")\n",
    "coleta[\"tiporesiduo\"] = coleta[\"tiporesiduo\"].str.replace(\"organico\", \"orgânico\")\n",
    "coleta[\"tiporesiduo\"] = coleta[\"tiporesiduo\"].str.replace(\"oleo de cozinha\", \"óleo de cozinha\")\n",
    "coleta[\"tiporesiduo\"] = coleta[\"tiporesiduo\"].str.replace(\"pilhas e baterias \", \"pilhas e baterias\")\n",
    "\n",
    "coleta[\"tiporesiduo\"].unique()"
   ]
  },
  {
   "cell_type": "code",
   "execution_count": 14,
   "id": "ceff26dd",
   "metadata": {},
   "outputs": [
    {
     "data": {
      "text/plain": [
       "<AxesSubplot:ylabel='tiporesiduo'>"
      ]
     },
     "execution_count": 14,
     "metadata": {},
     "output_type": "execute_result"
    },
    {
     "data": {
      "image/png": "[encoded data removed]",
      "text/plain": [
       "<Figure size 432x288 with 1 Axes>"
      ]
     },
     "metadata": {},
     "output_type": "display_data"
    }
   ],
   "source": [
    "coleta[\"tiporesiduo\"].value_counts().plot.pie()"
   ]
  },
  {
   "cell_type": "code",
   "execution_count": 27,
   "id": "4f77cd82",
   "metadata": {},
   "outputs": [
    {
     "data": {
      "text/html": [
       "<div>\n",
       "<style scoped>\n",
       "    .dataframe tbody tr th:only-of-type {\n",
       "        vertical-align: middle;\n",
       "    }\n",
       "\n",
       "    .dataframe tbody tr th {\n",
       "        vertical-align: top;\n",
       "    }\n",
       "\n",
       "    .dataframe thead th {\n",
       "        text-align: right;\n",
       "    }\n",
       "</style>\n",
       "<table border=\"1\" class=\"dataframe\">\n",
       "  <thead>\n",
       "    <tr style=\"text-align: right;\">\n",
       "      <th></th>\n",
       "      <th>tiporesiduo</th>\n",
       "      <th>bairro</th>\n",
       "      <th>endereco</th>\n",
       "      <th>complemento</th>\n",
       "      <th>observacao</th>\n",
       "      <th>latitude</th>\n",
       "      <th>longitude</th>\n",
       "    </tr>\n",
       "  </thead>\n",
       "  <tbody>\n",
       "    <tr>\n",
       "      <th>45</th>\n",
       "      <td>eletrônico</td>\n",
       "      <td>San Martin</td>\n",
       "      <td>Rua Vinte e Um de Abril, 3370</td>\n",
       "      <td>EMPREL</td>\n",
       "      <td>EMPREL</td>\n",
       "      <td>-8.067670</td>\n",
       "      <td>-34.938081</td>\n",
       "    </tr>\n",
       "    <tr>\n",
       "      <th>46</th>\n",
       "      <td>eletrônico</td>\n",
       "      <td>Boa Vista</td>\n",
       "      <td>Av. Conde da Boa Vista, 867</td>\n",
       "      <td>URB</td>\n",
       "      <td>URB</td>\n",
       "      <td>-8.058303</td>\n",
       "      <td>-34.888518</td>\n",
       "    </tr>\n",
       "    <tr>\n",
       "      <th>48</th>\n",
       "      <td>eletrônico</td>\n",
       "      <td>Curado</td>\n",
       "      <td>Rodovia BR 232, s/n - Curado</td>\n",
       "      <td>NaN</td>\n",
       "      <td>Jardim Botânico do Recife</td>\n",
       "      <td>-8.076071</td>\n",
       "      <td>-34.966706</td>\n",
       "    </tr>\n",
       "    <tr>\n",
       "      <th>49</th>\n",
       "      <td>eletrônico</td>\n",
       "      <td>Areias</td>\n",
       "      <td>Av. Recife, 3587 - Areias</td>\n",
       "      <td>Próximo ao Hospital Geral de Areias</td>\n",
       "      <td>EMLURB</td>\n",
       "      <td>-8.102022</td>\n",
       "      <td>-34.927986</td>\n",
       "    </tr>\n",
       "    <tr>\n",
       "      <th>50</th>\n",
       "      <td>eletrônico</td>\n",
       "      <td>Beberibe</td>\n",
       "      <td>Rua Melânio de Barros Correia, 26</td>\n",
       "      <td>NaN</td>\n",
       "      <td>ESCOLA PROFISSIONALIZANTE DE BEBERIBE ZULEIDE ...</td>\n",
       "      <td>-8.003058</td>\n",
       "      <td>-34.899059</td>\n",
       "    </tr>\n",
       "    <tr>\n",
       "      <th>51</th>\n",
       "      <td>eletrônico</td>\n",
       "      <td>Casa Amarela</td>\n",
       "      <td>Av. Norte Miguel Arraes, 5600</td>\n",
       "      <td>NaN</td>\n",
       "      <td>ESCOLA PROFISSIONAL DOM BOSCO</td>\n",
       "      <td>-8.021548</td>\n",
       "      <td>-34.916639</td>\n",
       "    </tr>\n",
       "    <tr>\n",
       "      <th>52</th>\n",
       "      <td>eletrônico</td>\n",
       "      <td>Totó</td>\n",
       "      <td>Av 11 de Agosto</td>\n",
       "      <td>Bidu Krause</td>\n",
       "      <td>ESCOLA PROFISSIONAL ANEXA AO CSU BIDU KRAUSE</td>\n",
       "      <td>-8.079778</td>\n",
       "      <td>-34.970345</td>\n",
       "    </tr>\n",
       "    <tr>\n",
       "      <th>53</th>\n",
       "      <td>eletrônico</td>\n",
       "      <td>Recife</td>\n",
       "      <td>Av. Cais do Apolo</td>\n",
       "      <td>Mídia Express</td>\n",
       "      <td>Prefeitura do Recife</td>\n",
       "      <td>-8.054547</td>\n",
       "      <td>-34.871993</td>\n",
       "    </tr>\n",
       "    <tr>\n",
       "      <th>54</th>\n",
       "      <td>pilhas e baterias</td>\n",
       "      <td>Casa Forte</td>\n",
       "      <td>Dr. João Santos Filho, 255</td>\n",
       "      <td>NaN</td>\n",
       "      <td>Shopping Plaza no estacionamento do térreo</td>\n",
       "      <td>-8.036359</td>\n",
       "      <td>-34.913042</td>\n",
       "    </tr>\n",
       "    <tr>\n",
       "      <th>55</th>\n",
       "      <td>pilhas e baterias</td>\n",
       "      <td>Boa Viagem</td>\n",
       "      <td>Rua Padre Carapuceiro, 777</td>\n",
       "      <td>NaN</td>\n",
       "      <td>Nagem Informática</td>\n",
       "      <td>-8.120844</td>\n",
       "      <td>-34.904384</td>\n",
       "    </tr>\n",
       "    <tr>\n",
       "      <th>56</th>\n",
       "      <td>pilhas e baterias</td>\n",
       "      <td>Casa Forte</td>\n",
       "      <td>Praça Jorn. Francisco P. Queiroz, 310</td>\n",
       "      <td>NaN</td>\n",
       "      <td>Hiper Bompreço de Casa Forte</td>\n",
       "      <td>-8.037597</td>\n",
       "      <td>-34.913750</td>\n",
       "    </tr>\n",
       "    <tr>\n",
       "      <th>57</th>\n",
       "      <td>pilhas e baterias</td>\n",
       "      <td>Casa Amarela</td>\n",
       "      <td>Av. Norte Miguel Arraes de Alencar, 6061</td>\n",
       "      <td>NaN</td>\n",
       "      <td>Deskontão Atacadista</td>\n",
       "      <td>-8.021132</td>\n",
       "      <td>-34.919673</td>\n",
       "    </tr>\n",
       "    <tr>\n",
       "      <th>58</th>\n",
       "      <td>pilhas e baterias</td>\n",
       "      <td>Iputinga</td>\n",
       "      <td>Av. Prof. Moraes Rego, 1235</td>\n",
       "      <td>NaN</td>\n",
       "      <td>Universidade Federal de Pernambuco – UFPE</td>\n",
       "      <td>-8.052328</td>\n",
       "      <td>-34.945095</td>\n",
       "    </tr>\n",
       "    <tr>\n",
       "      <th>80</th>\n",
       "      <td>eletrônico</td>\n",
       "      <td>Dois Unidos</td>\n",
       "      <td>Rua Mamede Coelho, 53</td>\n",
       "      <td>NaN</td>\n",
       "      <td>Associação de trapeiros do Emaús</td>\n",
       "      <td>-8.005428</td>\n",
       "      <td>-34.903342</td>\n",
       "    </tr>\n",
       "    <tr>\n",
       "      <th>81</th>\n",
       "      <td>eletrônico</td>\n",
       "      <td>Guabiraba</td>\n",
       "      <td>Av. da Recuperação, 318</td>\n",
       "      <td>NaN</td>\n",
       "      <td>CRC Marista</td>\n",
       "      <td>-8.016326</td>\n",
       "      <td>-34.940215</td>\n",
       "    </tr>\n",
       "    <tr>\n",
       "      <th>82</th>\n",
       "      <td>Medicamentos</td>\n",
       "      <td>Iputinga</td>\n",
       "      <td>Av. Prof. Moraes Rego, 1235</td>\n",
       "      <td>NaN</td>\n",
       "      <td>Universidade Federal de Pernambuco – UFPE</td>\n",
       "      <td>-8.052322</td>\n",
       "      <td>-34.945116</td>\n",
       "    </tr>\n",
       "    <tr>\n",
       "      <th>83</th>\n",
       "      <td>Medicamentos</td>\n",
       "      <td>Torre</td>\n",
       "      <td>Rua José Bonifácio, 1315</td>\n",
       "      <td>NaN</td>\n",
       "      <td>Drogarias Carrefour</td>\n",
       "      <td>-8.040099</td>\n",
       "      <td>-34.909766</td>\n",
       "    </tr>\n",
       "    <tr>\n",
       "      <th>84</th>\n",
       "      <td>óleo de cozinha</td>\n",
       "      <td>Afogados</td>\n",
       "      <td>Rua da Paz, 82</td>\n",
       "      <td>NaN</td>\n",
       "      <td>ASA Portaria</td>\n",
       "      <td>-8.079229</td>\n",
       "      <td>-34.904414</td>\n",
       "    </tr>\n",
       "    <tr>\n",
       "      <th>85</th>\n",
       "      <td>óleo de cozinha</td>\n",
       "      <td>Afogados</td>\n",
       "      <td>Rua São Miguel, 250</td>\n",
       "      <td>NaN</td>\n",
       "      <td>Procuradoria Geral de Justiça</td>\n",
       "      <td>-8.066962</td>\n",
       "      <td>-34.885139</td>\n",
       "    </tr>\n",
       "    <tr>\n",
       "      <th>86</th>\n",
       "      <td>óleo de cozinha</td>\n",
       "      <td>Bomba do Hemetério</td>\n",
       "      <td>Rua Chã de Alegria, 117</td>\n",
       "      <td>NaN</td>\n",
       "      <td>Escola Prof. Mardonio de Andrade Lima Coelho</td>\n",
       "      <td>-8.020803</td>\n",
       "      <td>-34.903803</td>\n",
       "    </tr>\n",
       "    <tr>\n",
       "      <th>87</th>\n",
       "      <td>eletrônico</td>\n",
       "      <td>Jaqueira</td>\n",
       "      <td>Rua do futuro, 959</td>\n",
       "      <td>NaN</td>\n",
       "      <td>Econúcleo Jaqueira</td>\n",
       "      <td>-8.035791</td>\n",
       "      <td>-34.904969</td>\n",
       "    </tr>\n",
       "    <tr>\n",
       "      <th>88</th>\n",
       "      <td>eletrônico</td>\n",
       "      <td>Boa Vista</td>\n",
       "      <td>Av. Governador Carlos de Lima Cavalcanti</td>\n",
       "      <td>Ao lado do Posto Dom Bosco</td>\n",
       "      <td>Empresa de Manutenção e Limpeza Urbana</td>\n",
       "      <td>-8.056214</td>\n",
       "      <td>-34.895461</td>\n",
       "    </tr>\n",
       "    <tr>\n",
       "      <th>89</th>\n",
       "      <td>eletrônico</td>\n",
       "      <td>Água Fria</td>\n",
       "      <td>Av. Aníbal Benévolo, 1552</td>\n",
       "      <td>ao lado Centro Comunitária da Paz - COMPAZ- Al...</td>\n",
       "      <td>Compaz Alto Santa Terezinha</td>\n",
       "      <td>-8.010403</td>\n",
       "      <td>-34.903292</td>\n",
       "    </tr>\n",
       "    <tr>\n",
       "      <th>90</th>\n",
       "      <td>eletrônico</td>\n",
       "      <td>Jiquiá</td>\n",
       "      <td>Av. General San Martin</td>\n",
       "      <td>Ao lado do Condomínio Morada Recife Antigo</td>\n",
       "      <td>Compaz San Martin</td>\n",
       "      <td>-8.060022</td>\n",
       "      <td>-34.926157</td>\n",
       "    </tr>\n",
       "    <tr>\n",
       "      <th>91</th>\n",
       "      <td>óleo de cozinha</td>\n",
       "      <td>Boa viagem</td>\n",
       "      <td>Rua Professor Eduardo Wanderley Filho</td>\n",
       "      <td>Ao lado do Condomínio  Ed. Sky Boa Viagem</td>\n",
       "      <td>colegio boa viagem</td>\n",
       "      <td>-8.110761</td>\n",
       "      <td>-34.894612</td>\n",
       "    </tr>\n",
       "    <tr>\n",
       "      <th>92</th>\n",
       "      <td>óleo de cozinha</td>\n",
       "      <td>Boa Viagem</td>\n",
       "      <td>Rua Padre Cabral</td>\n",
       "      <td>Em frente a loja Miss Meria</td>\n",
       "      <td>Colégio Madre de Deus</td>\n",
       "      <td>-8.133723</td>\n",
       "      <td>-34.907142</td>\n",
       "    </tr>\n",
       "    <tr>\n",
       "      <th>93</th>\n",
       "      <td>óleo de cozinha</td>\n",
       "      <td>Boa vista</td>\n",
       "      <td>Rua da Aurora</td>\n",
       "      <td>Ao lado da Compesa</td>\n",
       "      <td>Tribunal de Contas do Estado de Pernambuco</td>\n",
       "      <td>-8.056492</td>\n",
       "      <td>-34.878624</td>\n",
       "    </tr>\n",
       "    <tr>\n",
       "      <th>94</th>\n",
       "      <td>óleo de cozinha</td>\n",
       "      <td>Santo Antônio</td>\n",
       "      <td>Rua Moacir Boracho</td>\n",
       "      <td>Ao lado da Secretaria da fazenda do estado de ...</td>\n",
       "      <td>Tribunal de Justiça (Ed. Paula Batista)</td>\n",
       "      <td>-8.062223</td>\n",
       "      <td>-34.876877</td>\n",
       "    </tr>\n",
       "    <tr>\n",
       "      <th>95</th>\n",
       "      <td>óleo de cozinha</td>\n",
       "      <td>Guabiraba</td>\n",
       "      <td>Av. da Recuperação, 318</td>\n",
       "      <td>NaN</td>\n",
       "      <td>Centro Marista Circuito Jovem</td>\n",
       "      <td>-8.016346</td>\n",
       "      <td>-34.940092</td>\n",
       "    </tr>\n",
       "    <tr>\n",
       "      <th>96</th>\n",
       "      <td>óleo de cozinha</td>\n",
       "      <td>Engenho do Meio</td>\n",
       "      <td>Rua Bom Pastor, 1406</td>\n",
       "      <td>NaN</td>\n",
       "      <td>Escola Municipal Engenho do Meio</td>\n",
       "      <td>-8.049916</td>\n",
       "      <td>-34.939615</td>\n",
       "    </tr>\n",
       "    <tr>\n",
       "      <th>97</th>\n",
       "      <td>óleo de cozinha</td>\n",
       "      <td>Espinheiro</td>\n",
       "      <td>Av. João de Barros, 1545</td>\n",
       "      <td>Nº1545/1563</td>\n",
       "      <td>Colégio Saber Viver Espinheiro</td>\n",
       "      <td>-8.041006</td>\n",
       "      <td>-34.891821</td>\n",
       "    </tr>\n",
       "    <tr>\n",
       "      <th>98</th>\n",
       "      <td>óleo de cozinha</td>\n",
       "      <td>Graças</td>\n",
       "      <td>Av. Rui Barbosa, 1680</td>\n",
       "      <td>NaN</td>\n",
       "      <td>Colégio Núcleo</td>\n",
       "      <td>-8.038775</td>\n",
       "      <td>-34.904595</td>\n",
       "    </tr>\n",
       "    <tr>\n",
       "      <th>99</th>\n",
       "      <td>óleo de cozinha</td>\n",
       "      <td>Ibura</td>\n",
       "      <td>Av. Ministro Oliveira Salazar, 228</td>\n",
       "      <td>NaN</td>\n",
       "      <td>SESI Ibura</td>\n",
       "      <td>-8.109953</td>\n",
       "      <td>-34.937659</td>\n",
       "    </tr>\n",
       "    <tr>\n",
       "      <th>100</th>\n",
       "      <td>óleo de cozinha</td>\n",
       "      <td>Ibura</td>\n",
       "      <td>Av. Pernambuco</td>\n",
       "      <td>Em frete do NÚCLEO DE SEGURANÇA COMUNITÁRIA</td>\n",
       "      <td>Escola Maria Sampaio de Lucena</td>\n",
       "      <td>-8.121299</td>\n",
       "      <td>-34.946750</td>\n",
       "    </tr>\n",
       "    <tr>\n",
       "      <th>101</th>\n",
       "      <td>óleo de cozinha</td>\n",
       "      <td>Imbiribeira</td>\n",
       "      <td>Av. Marechal Mascarenhas de Morais, 1919</td>\n",
       "      <td>NaN</td>\n",
       "      <td>Central de Juizados Especiais</td>\n",
       "      <td>-8.099596</td>\n",
       "      <td>-34.909465</td>\n",
       "    </tr>\n",
       "    <tr>\n",
       "      <th>102</th>\n",
       "      <td>óleo de cozinha</td>\n",
       "      <td>Imbiribeira</td>\n",
       "      <td>Rua Conego Lira, 282</td>\n",
       "      <td>NaN</td>\n",
       "      <td>Escola Anita Garibalde</td>\n",
       "      <td>-8.095385</td>\n",
       "      <td>-34.912275</td>\n",
       "    </tr>\n",
       "    <tr>\n",
       "      <th>103</th>\n",
       "      <td>óleo de cozinha</td>\n",
       "      <td>Ipsep</td>\n",
       "      <td>Rua Saturnino Meireles, s/n</td>\n",
       "      <td>NaN</td>\n",
       "      <td>EREM Engenheiro Lauro Dinis</td>\n",
       "      <td>-8.114453</td>\n",
       "      <td>-34.921247</td>\n",
       "    </tr>\n",
       "    <tr>\n",
       "      <th>114</th>\n",
       "      <td>óleo de cozinha</td>\n",
       "      <td>Aflitos</td>\n",
       "      <td>Av. Cons. Rosa  Silva</td>\n",
       "      <td>SEMAS</td>\n",
       "      <td>NaN</td>\n",
       "      <td>-8.039852</td>\n",
       "      <td>-34.9015293</td>\n",
       "    </tr>\n",
       "    <tr>\n",
       "      <th>115</th>\n",
       "      <td>óleo de cozinha</td>\n",
       "      <td>Areias</td>\n",
       "      <td>Av. Recife, 3587</td>\n",
       "      <td>EMLURB</td>\n",
       "      <td>NaN</td>\n",
       "      <td>-8.101863</td>\n",
       "      <td>-34.9304351</td>\n",
       "    </tr>\n",
       "    <tr>\n",
       "      <th>116</th>\n",
       "      <td>óleo de cozinha</td>\n",
       "      <td>Dois Irmãos</td>\n",
       "      <td>Praça Faria Neves, s/n</td>\n",
       "      <td>Compesa - Dois irmãos</td>\n",
       "      <td>NaN</td>\n",
       "      <td>-8.015659</td>\n",
       "      <td>-34.9431149</td>\n",
       "    </tr>\n",
       "    <tr>\n",
       "      <th>117</th>\n",
       "      <td>óleo de cozinha</td>\n",
       "      <td>Jardim São Paulo</td>\n",
       "      <td>Rua Capetinga, s/n</td>\n",
       "      <td>Escola Trajano de Mendoca</td>\n",
       "      <td>NaN</td>\n",
       "      <td>-8.078510</td>\n",
       "      <td>-34.9435062</td>\n",
       "    </tr>\n",
       "    <tr>\n",
       "      <th>118</th>\n",
       "      <td>óleo de cozinha</td>\n",
       "      <td>Recife Antigo</td>\n",
       "      <td>Av. Rio Branco, 193</td>\n",
       "      <td>EREM Porto Digital</td>\n",
       "      <td>NaN</td>\n",
       "      <td>-8.062736</td>\n",
       "      <td>-34.8755563</td>\n",
       "    </tr>\n",
       "    <tr>\n",
       "      <th>119</th>\n",
       "      <td>óleo de cozinha</td>\n",
       "      <td>Santo Amaro</td>\n",
       "      <td>Av. Cruz Cabugá, 767</td>\n",
       "      <td>Serviço Social da Indústria - Sesi</td>\n",
       "      <td>NaN</td>\n",
       "      <td>-8.047900</td>\n",
       "      <td>-34.8798227</td>\n",
       "    </tr>\n",
       "    <tr>\n",
       "      <th>120</th>\n",
       "      <td>óleo de cozinha</td>\n",
       "      <td>Totó</td>\n",
       "      <td>Rua Onze de Agosto, 564</td>\n",
       "      <td>Compesa</td>\n",
       "      <td>NaN</td>\n",
       "      <td>-8.078447</td>\n",
       "      <td>-34.973390</td>\n",
       "    </tr>\n",
       "    <tr>\n",
       "      <th>121</th>\n",
       "      <td>óleo de cozinha</td>\n",
       "      <td>Vasco da gama</td>\n",
       "      <td>Rua Vasco da Gama,145</td>\n",
       "      <td>SESI Vasco da Gama</td>\n",
       "      <td>NaN</td>\n",
       "      <td>-8.019268</td>\n",
       "      <td>-34.9237825</td>\n",
       "    </tr>\n",
       "    <tr>\n",
       "      <th>130</th>\n",
       "      <td>Pneu</td>\n",
       "      <td>Madalena</td>\n",
       "      <td>Av. Abdias de Carvalho, 341</td>\n",
       "      <td>Pneus Pirelle</td>\n",
       "      <td>NaN</td>\n",
       "      <td>-8.061416</td>\n",
       "      <td>-34.9087182</td>\n",
       "    </tr>\n",
       "    <tr>\n",
       "      <th>131</th>\n",
       "      <td>Pneu</td>\n",
       "      <td>Espinheiro</td>\n",
       "      <td>Av. Norte, 2261</td>\n",
       "      <td>Bridgestone Pneus</td>\n",
       "      <td>NaN</td>\n",
       "      <td>-8.039216</td>\n",
       "      <td>-34.893334</td>\n",
       "    </tr>\n",
       "    <tr>\n",
       "      <th>132</th>\n",
       "      <td>Pneu</td>\n",
       "      <td>São José</td>\n",
       "      <td>Rua Lourenço de Sá, 165</td>\n",
       "      <td>Pneu Verde</td>\n",
       "      <td>NaN</td>\n",
       "      <td>-8.074329</td>\n",
       "      <td>-34.8980205</td>\n",
       "    </tr>\n",
       "    <tr>\n",
       "      <th>133</th>\n",
       "      <td>Lâmpada</td>\n",
       "      <td>Imbiribeira</td>\n",
       "      <td>Rua Francisco Correa de Moraes, 100</td>\n",
       "      <td>Carrefour RBV Boa Viagem</td>\n",
       "      <td>NaN</td>\n",
       "      <td>-8.124149</td>\n",
       "      <td>-34.9132995</td>\n",
       "    </tr>\n",
       "    <tr>\n",
       "      <th>134</th>\n",
       "      <td>Lâmpada</td>\n",
       "      <td>Torre</td>\n",
       "      <td>Rua José Bonifácio, 1315</td>\n",
       "      <td>Carrefour REC Recife</td>\n",
       "      <td>NaN</td>\n",
       "      <td>-8.040445</td>\n",
       "      <td>-34.9125314</td>\n",
       "    </tr>\n",
       "  </tbody>\n",
       "</table>\n",
       "</div>"
      ],
      "text/plain": [
       "           tiporesiduo               bairro  \\\n",
       "45          eletrônico           San Martin   \n",
       "46          eletrônico            Boa Vista   \n",
       "48          eletrônico               Curado   \n",
       "49          eletrônico               Areias   \n",
       "50          eletrônico             Beberibe   \n",
       "51          eletrônico         Casa Amarela   \n",
       "52          eletrônico                 Totó   \n",
       "53          eletrônico               Recife   \n",
       "54   pilhas e baterias           Casa Forte   \n",
       "55   pilhas e baterias           Boa Viagem   \n",
       "56   pilhas e baterias           Casa Forte   \n",
       "57   pilhas e baterias         Casa Amarela   \n",
       "58   pilhas e baterias             Iputinga   \n",
       "80          eletrônico          Dois Unidos   \n",
       "81          eletrônico            Guabiraba   \n",
       "82        Medicamentos             Iputinga   \n",
       "83        Medicamentos               Torre    \n",
       "84     óleo de cozinha             Afogados   \n",
       "85     óleo de cozinha             Afogados   \n",
       "86     óleo de cozinha   Bomba do Hemetério   \n",
       "87          eletrônico             Jaqueira   \n",
       "88          eletrônico            Boa Vista   \n",
       "89          eletrônico           Água Fria    \n",
       "90          eletrônico               Jiquiá   \n",
       "91     óleo de cozinha           Boa viagem   \n",
       "92     óleo de cozinha           Boa Viagem   \n",
       "93     óleo de cozinha            Boa vista   \n",
       "94     óleo de cozinha        Santo Antônio   \n",
       "95     óleo de cozinha            Guabiraba   \n",
       "96     óleo de cozinha      Engenho do Meio   \n",
       "97     óleo de cozinha           Espinheiro   \n",
       "98     óleo de cozinha               Graças   \n",
       "99     óleo de cozinha                Ibura   \n",
       "100    óleo de cozinha                Ibura   \n",
       "101    óleo de cozinha          Imbiribeira   \n",
       "102    óleo de cozinha          Imbiribeira   \n",
       "103    óleo de cozinha                Ipsep   \n",
       "114    óleo de cozinha              Aflitos   \n",
       "115    óleo de cozinha               Areias   \n",
       "116    óleo de cozinha          Dois Irmãos   \n",
       "117    óleo de cozinha     Jardim São Paulo   \n",
       "118    óleo de cozinha        Recife Antigo   \n",
       "119    óleo de cozinha          Santo Amaro   \n",
       "120    óleo de cozinha                 Totó   \n",
       "121    óleo de cozinha        Vasco da gama   \n",
       "130               Pneu             Madalena   \n",
       "131               Pneu           Espinheiro   \n",
       "132               Pneu             São José   \n",
       "133            Lâmpada          Imbiribeira   \n",
       "134            Lâmpada                Torre   \n",
       "\n",
       "                                      endereco  \\\n",
       "45              Rua Vinte e Um de Abril, 3370    \n",
       "46                Av. Conde da Boa Vista, 867    \n",
       "48                Rodovia BR 232, s/n - Curado   \n",
       "49                   Av. Recife, 3587 - Areias   \n",
       "50           Rua Melânio de Barros Correia, 26   \n",
       "51               Av. Norte Miguel Arraes, 5600   \n",
       "52                             Av 11 de Agosto   \n",
       "53                           Av. Cais do Apolo   \n",
       "54                  Dr. João Santos Filho, 255   \n",
       "55                  Rua Padre Carapuceiro, 777   \n",
       "56       Praça Jorn. Francisco P. Queiroz, 310   \n",
       "57   Av. Norte Miguel Arraes de Alencar, 6061    \n",
       "58                 Av. Prof. Moraes Rego, 1235   \n",
       "80                       Rua Mamede Coelho, 53   \n",
       "81                     Av. da Recuperação, 318   \n",
       "82                 Av. Prof. Moraes Rego, 1235   \n",
       "83                    Rua José Bonifácio, 1315   \n",
       "84                              Rua da Paz, 82   \n",
       "85                         Rua São Miguel, 250   \n",
       "86                     Rua Chã de Alegria, 117   \n",
       "87                          Rua do futuro, 959   \n",
       "88    Av. Governador Carlos de Lima Cavalcanti   \n",
       "89                   Av. Aníbal Benévolo, 1552   \n",
       "90                      Av. General San Martin   \n",
       "91       Rua Professor Eduardo Wanderley Filho   \n",
       "92                            Rua Padre Cabral   \n",
       "93                               Rua da Aurora   \n",
       "94                          Rua Moacir Boracho   \n",
       "95                     Av. da Recuperação, 318   \n",
       "96                        Rua Bom Pastor, 1406   \n",
       "97                    Av. João de Barros, 1545   \n",
       "98                       Av. Rui Barbosa, 1680   \n",
       "99          Av. Ministro Oliveira Salazar, 228   \n",
       "100                             Av. Pernambuco   \n",
       "101   Av. Marechal Mascarenhas de Morais, 1919   \n",
       "102                       Rua Conego Lira, 282   \n",
       "103                Rua Saturnino Meireles, s/n   \n",
       "114                      Av. Cons. Rosa  Silva   \n",
       "115                           Av. Recife, 3587   \n",
       "116                     Praça Faria Neves, s/n   \n",
       "117                         Rua Capetinga, s/n   \n",
       "118                        Av. Rio Branco, 193   \n",
       "119                       Av. Cruz Cabugá, 767   \n",
       "120                    Rua Onze de Agosto, 564   \n",
       "121                      Rua Vasco da Gama,145   \n",
       "130                Av. Abdias de Carvalho, 341   \n",
       "131                            Av. Norte, 2261   \n",
       "132                    Rua Lourenço de Sá, 165   \n",
       "133        Rua Francisco Correa de Moraes, 100   \n",
       "134                   Rua José Bonifácio, 1315   \n",
       "\n",
       "                                           complemento  \\\n",
       "45                                              EMPREL   \n",
       "46                                                 URB   \n",
       "48                                                 NaN   \n",
       "49                 Próximo ao Hospital Geral de Areias   \n",
       "50                                                 NaN   \n",
       "51                                                 NaN   \n",
       "52                                         Bidu Krause   \n",
       "53                                       Mídia Express   \n",
       "54                                                 NaN   \n",
       "55                                                 NaN   \n",
       "56                                                 NaN   \n",
       "57                                                 NaN   \n",
       "58                                                 NaN   \n",
       "80                                                 NaN   \n",
       "81                                                 NaN   \n",
       "82                                                 NaN   \n",
       "83                                                 NaN   \n",
       "84                                                 NaN   \n",
       "85                                                 NaN   \n",
       "86                                                 NaN   \n",
       "87                                                 NaN   \n",
       "88                          Ao lado do Posto Dom Bosco   \n",
       "89   ao lado Centro Comunitária da Paz - COMPAZ- Al...   \n",
       "90          Ao lado do Condomínio Morada Recife Antigo   \n",
       "91           Ao lado do Condomínio  Ed. Sky Boa Viagem   \n",
       "92                         Em frente a loja Miss Meria   \n",
       "93                                  Ao lado da Compesa   \n",
       "94   Ao lado da Secretaria da fazenda do estado de ...   \n",
       "95                                                 NaN   \n",
       "96                                                 NaN   \n",
       "97                                         Nº1545/1563   \n",
       "98                                                 NaN   \n",
       "99                                                 NaN   \n",
       "100        Em frete do NÚCLEO DE SEGURANÇA COMUNITÁRIA   \n",
       "101                                                NaN   \n",
       "102                                                NaN   \n",
       "103                                                NaN   \n",
       "114                                              SEMAS   \n",
       "115                                             EMLURB   \n",
       "116                              Compesa - Dois irmãos   \n",
       "117                          Escola Trajano de Mendoca   \n",
       "118                                 EREM Porto Digital   \n",
       "119                 Serviço Social da Indústria - Sesi   \n",
       "120                                            Compesa   \n",
       "121                                 SESI Vasco da Gama   \n",
       "130                                      Pneus Pirelle   \n",
       "131                                  Bridgestone Pneus   \n",
       "132                                         Pneu Verde   \n",
       "133                           Carrefour RBV Boa Viagem   \n",
       "134                               Carrefour REC Recife   \n",
       "\n",
       "                                            observacao  latitude    longitude  \n",
       "45                                              EMPREL -8.067670   -34.938081  \n",
       "46                                                 URB -8.058303   -34.888518  \n",
       "48                           Jardim Botânico do Recife -8.076071   -34.966706  \n",
       "49                                              EMLURB -8.102022   -34.927986  \n",
       "50   ESCOLA PROFISSIONALIZANTE DE BEBERIBE ZULEIDE ... -8.003058   -34.899059  \n",
       "51                       ESCOLA PROFISSIONAL DOM BOSCO -8.021548   -34.916639  \n",
       "52        ESCOLA PROFISSIONAL ANEXA AO CSU BIDU KRAUSE -8.079778   -34.970345  \n",
       "53                                Prefeitura do Recife -8.054547   -34.871993  \n",
       "54         Shopping Plaza no estacionamento do térreo  -8.036359   -34.913042  \n",
       "55                                  Nagem Informática  -8.120844   -34.904384  \n",
       "56                        Hiper Bompreço de Casa Forte -8.037597   -34.913750  \n",
       "57                                Deskontão Atacadista -8.021132   -34.919673  \n",
       "58           Universidade Federal de Pernambuco – UFPE -8.052328   -34.945095  \n",
       "80                    Associação de trapeiros do Emaús -8.005428   -34.903342  \n",
       "81                                         CRC Marista -8.016326   -34.940215  \n",
       "82           Universidade Federal de Pernambuco – UFPE -8.052322   -34.945116  \n",
       "83                                Drogarias Carrefour  -8.040099   -34.909766  \n",
       "84                                        ASA Portaria -8.079229   -34.904414  \n",
       "85                       Procuradoria Geral de Justiça -8.066962   -34.885139  \n",
       "86        Escola Prof. Mardonio de Andrade Lima Coelho -8.020803   -34.903803  \n",
       "87                                 Econúcleo Jaqueira  -8.035791   -34.904969  \n",
       "88              Empresa de Manutenção e Limpeza Urbana -8.056214   -34.895461  \n",
       "89                         Compaz Alto Santa Terezinha -8.010403   -34.903292  \n",
       "90                                   Compaz San Martin -8.060022   -34.926157  \n",
       "91                                  colegio boa viagem -8.110761   -34.894612  \n",
       "92                               Colégio Madre de Deus -8.133723   -34.907142  \n",
       "93          Tribunal de Contas do Estado de Pernambuco -8.056492   -34.878624  \n",
       "94             Tribunal de Justiça (Ed. Paula Batista) -8.062223   -34.876877  \n",
       "95                       Centro Marista Circuito Jovem -8.016346   -34.940092  \n",
       "96                    Escola Municipal Engenho do Meio -8.049916   -34.939615  \n",
       "97                      Colégio Saber Viver Espinheiro -8.041006   -34.891821  \n",
       "98                                      Colégio Núcleo -8.038775   -34.904595  \n",
       "99                                          SESI Ibura -8.109953   -34.937659  \n",
       "100                     Escola Maria Sampaio de Lucena -8.121299   -34.946750  \n",
       "101                      Central de Juizados Especiais -8.099596   -34.909465  \n",
       "102                             Escola Anita Garibalde -8.095385   -34.912275  \n",
       "103                        EREM Engenheiro Lauro Dinis -8.114453   -34.921247  \n",
       "114                                                NaN -8.039852  -34.9015293  \n",
       "115                                                NaN -8.101863  -34.9304351  \n",
       "116                                                NaN -8.015659  -34.9431149  \n",
       "117                                                NaN -8.078510  -34.9435062  \n",
       "118                                                NaN -8.062736  -34.8755563  \n",
       "119                                                NaN -8.047900  -34.8798227  \n",
       "120                                                NaN -8.078447   -34.973390  \n",
       "121                                                NaN -8.019268  -34.9237825  \n",
       "130                                                NaN -8.061416  -34.9087182  \n",
       "131                                                NaN -8.039216   -34.893334  \n",
       "132                                                NaN -8.074329  -34.8980205  \n",
       "133                                                NaN -8.124149  -34.9132995  \n",
       "134                                                NaN -8.040445  -34.9125314  "
      ]
     },
     "execution_count": 27,
     "metadata": {},
     "output_type": "execute_result"
    }
   ],
   "source": [
    "# Exemplo Completo\n",
    "\n",
    "import copy # Biblioteca que faz uma copia do valor\n",
    "indice = copy.copy(coleta.index) # Copio o indice como ele esta antes das mudancas\n",
    "for i in indice: # Para cada linha\n",
    "    linha = copy.copy(coleta.loc[i]) # Copia a linha\n",
    "    item_atual = linha[\"tiporesiduo\"] # Ve qual o tipo de residuo\n",
    "    if (item_atual.find(\",\") != -1): # Se tem virgula\n",
    "        coleta = coleta.drop([i]) # Apaga a linha\n",
    "        itens_separados = item_atual.split(\",\") # S\n",
    "        for item in itens_separados:\n",
    "            linha[\"tiporesiduo\"] = item\n",
    "            coleta.append(linha)\n",
    "        \n",
    "coleta\n"
   ]
  },
  {
   "cell_type": "code",
   "execution_count": 28,
   "id": "d6c76c83",
   "metadata": {},
   "outputs": [
    {
     "data": {
      "text/plain": [
       "<AxesSubplot:ylabel='tiporesiduo'>"
      ]
     },
     "execution_count": 28,
     "metadata": {},
     "output_type": "execute_result"
    },
    {
     "data": {
      "image/png": "[encoded data removed]",
      "text/plain": [
       "<Figure size 432x288 with 1 Axes>"
      ]
     },
     "metadata": {},
     "output_type": "display_data"
    }
   ],
   "source": [
    "# coleta [ (coleta[\"tiporesiduo\"] == \"eletrônico\") | (coleta[\"tiporesiduo\"] == \"pilhas e baterias\") |   ]\n",
    "coleta[coleta.tiporesiduo.isin([\"eletrônico\", \"pilhas e baterias\", \"óleo de cozinha\"])][\"tiporesiduo\"].value_counts().plot.pie()"
   ]
  },
  {
   "cell_type": "code",
   "execution_count": 17,
   "id": "a95f2347",
   "metadata": {},
   "outputs": [],
   "source": [
    "import matplotlib.pyplot as plt"
   ]
  },
  {
   "cell_type": "code",
   "execution_count": 18,
   "id": "b152fa93",
   "metadata": {},
   "outputs": [
    {
     "data": {
      "text/plain": [
       "<BarContainer object of 3 artists>"
      ]
     },
     "execution_count": 18,
     "metadata": {},
     "output_type": "execute_result"
    },
    {
     "data": {
      "image/png": "[encoded data removed]",
      "text/plain": [
       "<Figure size 432x288 with 1 Axes>"
      ]
     },
     "metadata": {
      "needs_background": "light"
     },
     "output_type": "display_data"
    }
   ],
   "source": [
    "x = [1, 3, 5]\n",
    "y = [1, 2, 7]\n",
    "\n",
    "plt.title(\"Exemplo de grafico de barrra\")\n",
    "plt.xlabel(\"Eixo X\")\n",
    "plt.ylabel(\"Eixo Y\")\n",
    "plt.bar(x, y)"
   ]
  },
  {
   "cell_type": "code",
   "execution_count": 19,
   "id": "77318924",
   "metadata": {},
   "outputs": [
    {
     "data": {
      "text/plain": [
       "Index(['Boa Viagem', 'Imbiribeira', 'Recife', 'Santo Amaro', 'Torre', 'Ibura',\n",
       "       'São José', 'Areias', 'Madalena', 'San Martin', 'Casa Amarela'],\n",
       "      dtype='object')"
      ]
     },
     "execution_count": 19,
     "metadata": {},
     "output_type": "execute_result"
    }
   ],
   "source": [
    "bairros_maior_4.index"
   ]
  },
  {
   "cell_type": "code",
   "execution_count": 20,
   "id": "4d7f48a5",
   "metadata": {},
   "outputs": [
    {
     "data": {
      "text/plain": [
       "array([11,  7,  6,  5,  5,  5,  5,  4,  4,  4,  4], dtype=int64)"
      ]
     },
     "execution_count": 20,
     "metadata": {},
     "output_type": "execute_result"
    }
   ],
   "source": [
    "bairros_maior_4.values"
   ]
  },
  {
   "cell_type": "code",
   "execution_count": 21,
   "id": "0336c7f1",
   "metadata": {},
   "outputs": [
    {
     "data": {
      "text/plain": [
       "<BarContainer object of 11 artists>"
      ]
     },
     "execution_count": 21,
     "metadata": {},
     "output_type": "execute_result"
    },
    {
     "data": {
      "image/png": "[encoded data removed]",
      "text/plain": [
       "<Figure size 432x288 with 1 Axes>"
      ]
     },
     "metadata": {
      "needs_background": "light"
     },
     "output_type": "display_data"
    }
   ],
   "source": [
    "plt.xlabel(\"Bairros\")\n",
    "plt.ylabel(\"Quantidade\")\n",
    "plt.barh(bairros_maior_4.index, bairros_maior_4.values)"
   ]
  },
  {
   "cell_type": "code",
   "execution_count": null,
   "id": "85f7d3bf",
   "metadata": {},
   "outputs": [],
   "source": []
  }
 ],
 "metadata": {
  "kernelspec": {
   "display_name": "Python 3",
   "language": "python",
   "name": "python3"
  },
  "language_info": {
   "codemirror_mode": {
    "name": "ipython",
    "version": 3
   },
   "file_extension": ".py",
   "mimetype": "text/x-python",
   "name": "python",
   "nbconvert_exporter": "python",
   "pygments_lexer": "ipython3",
   "version": "3.8.8"
  }
 },
 "nbformat": 4,
 "nbformat_minor": 5
}
