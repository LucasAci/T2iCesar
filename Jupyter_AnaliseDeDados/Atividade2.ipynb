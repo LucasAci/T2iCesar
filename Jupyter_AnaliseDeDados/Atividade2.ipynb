{
 "cells": [
  {
   "cell_type": "code",
   "execution_count": 1,
   "id": "c318814a",
   "metadata": {},
   "outputs": [],
   "source": [
    "# Importe NumPy como np\n",
    "# importe pandas como pd\n",
    "# Crie um Serie com números de 1 a 26 usando numpy\n",
    "# Adicione 1 a cada item da serie\n",
    "# Calcule a media dos valores da serie\n",
    "# Crie uma serie com 3 números aleatórios usando numpy.random\n",
    "# Opcional:\n",
    "# Crie outra Serie:\n",
    "# com o nome da serie serie_alfabeto;\n",
    "# com números de 1 a 26;\n",
    "# Usando as letras do alfabeto como indice\n"
   ]
  },
  {
   "cell_type": "code",
   "execution_count": 64,
   "id": "c137b691",
   "metadata": {},
   "outputs": [],
   "source": [
    "# Importe NumPy como np\n",
    "# importe pandas como pd\n",
    "import numpy as np\n",
    "import pandas as pd\n",
    "import numpy.random\n",
    "import string"
   ]
  },
  {
   "cell_type": "code",
   "execution_count": 68,
   "id": "e283dbbc",
   "metadata": {},
   "outputs": [
    {
     "data": {
      "text/plain": [
       "0      1\n",
       "1      2\n",
       "2      3\n",
       "3      4\n",
       "4      5\n",
       "5      6\n",
       "6      7\n",
       "7      8\n",
       "8      9\n",
       "9     10\n",
       "10    11\n",
       "11    12\n",
       "12    13\n",
       "13    14\n",
       "14    15\n",
       "15    16\n",
       "16    17\n",
       "17    18\n",
       "18    19\n",
       "19    20\n",
       "20    21\n",
       "21    22\n",
       "22    23\n",
       "23    24\n",
       "24    25\n",
       "25    26\n",
       "dtype: int32"
      ]
     },
     "execution_count": 68,
     "metadata": {},
     "output_type": "execute_result"
    }
   ],
   "source": [
    "# Crie um Serie com números de 1 a 26 usando numpy\n",
    "numeros = pd.Series(np.arange(1,27,1))\n",
    "numeros"
   ]
  },
  {
   "cell_type": "code",
   "execution_count": 69,
   "id": "6ce3b3b6",
   "metadata": {},
   "outputs": [
    {
     "data": {
      "text/plain": [
       "0      2\n",
       "1      3\n",
       "2      4\n",
       "3      5\n",
       "4      6\n",
       "5      7\n",
       "6      8\n",
       "7      9\n",
       "8     10\n",
       "9     11\n",
       "10    12\n",
       "11    13\n",
       "12    14\n",
       "13    15\n",
       "14    16\n",
       "15    17\n",
       "16    18\n",
       "17    19\n",
       "18    20\n",
       "19    21\n",
       "20    22\n",
       "21    23\n",
       "22    24\n",
       "23    25\n",
       "24    26\n",
       "25    27\n",
       "dtype: int32"
      ]
     },
     "execution_count": 69,
     "metadata": {},
     "output_type": "execute_result"
    }
   ],
   "source": [
    "# Adicione 1 a cada item da serie\n",
    "numeros = numeros + 1\n",
    "numeros"
   ]
  },
  {
   "cell_type": "code",
   "execution_count": 70,
   "id": "40a8bc5c",
   "metadata": {},
   "outputs": [
    {
     "name": "stdout",
     "output_type": "stream",
     "text": [
      "Média:  14.5\n"
     ]
    }
   ],
   "source": [
    "# Calcule a media dos valores da serie\n",
    "media = numeros.mean()\n",
    "print(\"Média: \", media)"
   ]
  },
  {
   "cell_type": "code",
   "execution_count": 63,
   "id": "8631cff3",
   "metadata": {},
   "outputs": [
    {
     "data": {
      "text/plain": [
       "0    91\n",
       "1     6\n",
       "2     5\n",
       "dtype: int32"
      ]
     },
     "execution_count": 63,
     "metadata": {},
     "output_type": "execute_result"
    }
   ],
   "source": [
    "# Crie uma serie com 3 números aleatórios usando numpy.random\n",
    "num_aleatorios = pd.Series(numpy.random.randint(1,101,3))\n",
    "num_aleatorios"
   ]
  },
  {
   "cell_type": "code",
   "execution_count": 75,
   "id": "b78271ad",
   "metadata": {},
   "outputs": [
    {
     "data": {
      "text/plain": [
       "A     1\n",
       "B     2\n",
       "C     3\n",
       "D     4\n",
       "E     5\n",
       "F     6\n",
       "G     7\n",
       "H     8\n",
       "I     9\n",
       "J    10\n",
       "K    11\n",
       "L    12\n",
       "M    13\n",
       "N    14\n",
       "O    15\n",
       "P    16\n",
       "Q    17\n",
       "R    18\n",
       "S    19\n",
       "T    20\n",
       "U    21\n",
       "V    22\n",
       "W    23\n",
       "X    24\n",
       "Y    25\n",
       "Z    26\n",
       "Name: serie_alfabeto, dtype: int32"
      ]
     },
     "execution_count": 75,
     "metadata": {},
     "output_type": "execute_result"
    }
   ],
   "source": [
    "# Crie outra Serie:\n",
    "# com o nome da serie serie_alfabeto;\n",
    "# com números de 1 a 26;\n",
    "# Usando as letras do alfabeto como indice\n",
    "letras = list(string.ascii_uppercase)\n",
    "serie_alfabeto = pd.Series(np.arange(1,27), letras, name = \"serie_alfabeto\")\n",
    "serie_alfabeto"
   ]
  },
  {
   "cell_type": "code",
   "execution_count": null,
   "id": "ef50cb74",
   "metadata": {},
   "outputs": [],
   "source": []
  }
 ],
 "metadata": {
  "kernelspec": {
   "display_name": "Python 3",
   "language": "python",
   "name": "python3"
  },
  "language_info": {
   "codemirror_mode": {
    "name": "ipython",
    "version": 3
   },
   "file_extension": ".py",
   "mimetype": "text/x-python",
   "name": "python",
   "nbconvert_exporter": "python",
   "pygments_lexer": "ipython3",
   "version": "3.8.8"
  }
 },
 "nbformat": 4,
 "nbformat_minor": 5
}
